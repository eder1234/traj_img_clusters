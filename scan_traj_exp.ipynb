{
  "cells": [
    {
      "cell_type": "markdown",
      "metadata": {
        "id": "Xpp5T5piKEXe"
      },
      "source": [
        "# Semantic Image Clustering\n",
        "\n",
        "**Author:** [Khalid Salama](https://www.linkedin.com/in/khalid-salama-24403144/)<br>\n",
        "**Date created:** 2021/02/28<br>\n",
        "**Last modified:** 2021/02/28<br>\n",
        "**Description:** Semantic Clustering by Adopting Nearest neighbors (SCAN) algorithm."
      ]
    },
    {
      "cell_type": "markdown",
      "metadata": {
        "id": "-G51YFwTKEXf"
      },
      "source": [
        "## Introduction\n",
        "\n",
        "This example demonstrates how to apply the [Semantic Clustering by Adopting Nearest neighbors\n",
        "(SCAN)](https://arxiv.org/abs/2005.12320) algorithm (Van Gansbeke et al., 2020) on the\n",
        "[CIFAR-10](https://www.cs.toronto.edu/~kriz/cifar.html) dataset. The algorithm consists of\n",
        "two phases:\n",
        "\n",
        "1. Self-supervised visual representation learning of images, in which we use the\n",
        "[simCLR](https://arxiv.org/abs/2002.05709) technique.\n",
        "2. Clustering of the learned visual representation vectors to maximize the agreement\n",
        "between the cluster assignments of neighboring vectors.\n",
        "\n",
        "The example requires [TensorFlow Addons](https://www.tensorflow.org/addons),\n",
        "which you can install using the following command:\n",
        "\n",
        "```python\n",
        "pip install tensorflow-addons\n",
        "```"
      ]
    },
    {
      "cell_type": "code",
      "execution_count": null,
      "metadata": {
        "colab": {
          "base_uri": "https://localhost:8080/"
        },
        "id": "HGRRdE2H0lTp",
        "outputId": "897a4b2d-5128-4cbb-9b91-005b3954f3d2"
      },
      "outputs": [
        {
          "output_type": "stream",
          "name": "stdout",
          "text": [
            "Looking in indexes: https://pypi.org/simple, https://us-python.pkg.dev/colab-wheels/public/simple/\n",
            "Requirement already satisfied: tensorflow-addons in /usr/local/lib/python3.9/dist-packages (0.19.0)\n",
            "Requirement already satisfied: packaging in /usr/local/lib/python3.9/dist-packages (from tensorflow-addons) (23.0)\n",
            "Requirement already satisfied: typeguard>=2.7 in /usr/local/lib/python3.9/dist-packages (from tensorflow-addons) (3.0.2)\n",
            "Requirement already satisfied: typing-extensions>=4.4.0 in /usr/local/lib/python3.9/dist-packages (from typeguard>=2.7->tensorflow-addons) (4.5.0)\n",
            "Requirement already satisfied: importlib-metadata>=3.6 in /usr/local/lib/python3.9/dist-packages (from typeguard>=2.7->tensorflow-addons) (6.1.0)\n",
            "Requirement already satisfied: zipp>=0.5 in /usr/local/lib/python3.9/dist-packages (from importlib-metadata>=3.6->typeguard>=2.7->tensorflow-addons) (3.15.0)\n"
          ]
        }
      ],
      "source": [
        "pip install tensorflow-addons"
      ]
    },
    {
      "cell_type": "code",
      "execution_count": null,
      "metadata": {
        "colab": {
          "base_uri": "https://localhost:8080/"
        },
        "id": "Zt0nkN8VmdeK",
        "outputId": "32ffe7e0-7227-4b76-9cb5-811d5131cce2"
      },
      "outputs": [
        {
          "output_type": "stream",
          "name": "stdout",
          "text": [
            "Drive already mounted at /content/gdrive; to attempt to forcibly remount, call drive.mount(\"/content/gdrive\", force_remount=True).\n"
          ]
        }
      ],
      "source": [
        "import pandas as pd\n",
        "from google.colab import drive \n",
        "\n",
        "drive.mount('/content/gdrive')"
      ]
    },
    {
      "cell_type": "code",
      "execution_count": null,
      "metadata": {
        "id": "0t5QmJGqm1go"
      },
      "outputs": [],
      "source": [
        "import numpy as np\n",
        "with open('gdrive/My Drive/ML/x_data-1.npy', 'rb') as f:\n",
        "\n",
        "    x_data = np.load(f)"
      ]
    },
    {
      "cell_type": "code",
      "execution_count": null,
      "metadata": {
        "id": "41iebUp1jEah"
      },
      "outputs": [],
      "source": [
        "x_data=x_data"
      ]
    },
    {
      "cell_type": "code",
      "execution_count": null,
      "metadata": {
        "colab": {
          "base_uri": "https://localhost:8080/"
        },
        "id": "bxYetQWC1YWV",
        "outputId": "b2e2ebec-14a6-4aa7-e0b4-499aae84f569"
      },
      "outputs": [
        {
          "output_type": "execute_result",
          "data": {
            "text/plain": [
              "(20500, 32, 32, 3)"
            ]
          },
          "metadata": {},
          "execution_count": 5
        }
      ],
      "source": [
        "x_data.shape"
      ]
    },
    {
      "cell_type": "code",
      "execution_count": null,
      "metadata": {
        "id": "BrzFNCv21Wyi"
      },
      "outputs": [],
      "source": [
        "y_data = np.ones((20500, 1), dtype=int)*9"
      ]
    },
    {
      "cell_type": "markdown",
      "metadata": {
        "id": "3292k22UKEXg"
      },
      "source": [
        "## Setup"
      ]
    },
    {
      "cell_type": "code",
      "execution_count": null,
      "metadata": {
        "id": "GgT3gW1DKEXi",
        "colab": {
          "base_uri": "https://localhost:8080/"
        },
        "outputId": "8c217d7a-3cb8-4f2a-a0f8-0dc56db8bf43"
      },
      "outputs": [
        {
          "output_type": "stream",
          "name": "stderr",
          "text": [
            "/usr/local/lib/python3.9/dist-packages/tensorflow_addons/utils/ensure_tf_install.py:53: UserWarning: Tensorflow Addons supports using Python ops for all Tensorflow versions above or equal to 2.9.0 and strictly below 2.12.0 (nightly versions are not supported). \n",
            " The versions of TensorFlow you are currently using is 2.12.0 and is not supported. \n",
            "Some things might work, some things might not.\n",
            "If you were to encounter a bug, do not file an issue.\n",
            "If you want to make sure you're using a tested and supported configuration, either change the TensorFlow version or the TensorFlow Addons's version. \n",
            "You can find the compatibility matrix in TensorFlow Addon's readme:\n",
            "https://github.com/tensorflow/addons\n",
            "  warnings.warn(\n"
          ]
        }
      ],
      "source": [
        "from collections import defaultdict\n",
        "import random\n",
        "import numpy as np\n",
        "import tensorflow as tf\n",
        "import tensorflow_addons as tfa\n",
        "from tensorflow import keras\n",
        "from tensorflow.keras import layers\n",
        "import matplotlib.pyplot as plt\n",
        "from tqdm import tqdm"
      ]
    },
    {
      "cell_type": "markdown",
      "metadata": {
        "id": "Al4hXQrzKEXj"
      },
      "source": [
        "## Prepare the data"
      ]
    },
    {
      "cell_type": "code",
      "execution_count": null,
      "metadata": {
        "colab": {
          "base_uri": "https://localhost:8080/"
        },
        "id": "yP_yvjE5KEXj",
        "outputId": "c134c308-bd1b-436b-954f-74e9a62d2962"
      },
      "outputs": [
        {
          "output_type": "execute_result",
          "data": {
            "text/plain": [
              "['0',\n",
              " '1',\n",
              " '2',\n",
              " '3',\n",
              " '4',\n",
              " '5',\n",
              " '6',\n",
              " '7',\n",
              " '8',\n",
              " '9',\n",
              " '10',\n",
              " '11',\n",
              " '12',\n",
              " '13',\n",
              " '14']"
            ]
          },
          "metadata": {},
          "execution_count": 8
        }
      ],
      "source": [
        "num_classes = 15 #initially 10\n",
        "input_shape = (32,32,3)\n",
        "\n",
        "#classes = ['0', '1', '2', '3', '4', '5', '6', '7', '8', '9']\n",
        "classes = [str(i) for i in range(num_classes)]\n",
        "classes"
      ]
    },
    {
      "cell_type": "markdown",
      "metadata": {
        "id": "5B1yoqGNKEXk"
      },
      "source": [
        "## Define hyperparameters"
      ]
    },
    {
      "cell_type": "code",
      "execution_count": null,
      "metadata": {
        "id": "XmfzputyKEXk"
      },
      "outputs": [],
      "source": [
        "target_size = 32  # Resize the input images.\n",
        "representation_dim = 512  # The dimensions of the features vector.\n",
        "projection_units = 128  # The projection head of the representation learner.\n",
        "num_clusters = 8  # Number of clusters. 20 here\n",
        "k_neighbours = 10  # Number of neighbours to consider during cluster learning. Initially 5\n",
        "tune_encoder_during_clustering = False  # Freeze the encoder in the cluster learning."
      ]
    },
    {
      "cell_type": "markdown",
      "metadata": {
        "id": "oBgGOr8dKEXl"
      },
      "source": [
        "## Implement data preprocessing\n",
        "\n",
        "The data preprocessing step resizes the input images to the desired `target_size` and applies\n",
        "feature-wise normalization. Note that, when using `keras.applications.ResNet50V2` as the\n",
        "visual encoder, resizing the images into 255 x 255 inputs would lead to more accurate results\n",
        "but require a longer time to train."
      ]
    },
    {
      "cell_type": "code",
      "execution_count": null,
      "metadata": {
        "id": "jZ46yZG5KEXm"
      },
      "outputs": [],
      "source": [
        "data_preprocessing = keras.Sequential(\n",
        "    [\n",
        "        layers.Resizing(target_size, target_size),\n",
        "        layers.Normalization(),\n",
        "    ]\n",
        ")\n",
        "# Compute the mean and the variance from the data for normalization.\n",
        "data_preprocessing.layers[-1].adapt(x_data)"
      ]
    },
    {
      "cell_type": "markdown",
      "metadata": {
        "id": "E_jrqhDHKEXp"
      },
      "source": [
        "## Data augmentation\n",
        "\n",
        "Unlike simCLR, which randomly picks a single data augmentation function to apply to an input\n",
        "image, we apply a set of data augmentation functions randomly to the input image.\n",
        "(You can experiment with other image augmentation techniques by following the [data augmentation tutorial](https://www.tensorflow.org/tutorials/images/data_augmentation).)"
      ]
    },
    {
      "cell_type": "code",
      "execution_count": null,
      "metadata": {
        "id": "FqFzDWTNKEXp"
      },
      "outputs": [],
      "source": [
        "data_augmentation = keras.Sequential(\n",
        "    [\n",
        "        layers.RandomTranslation(\n",
        "            height_factor=(-0.001, 0.001), width_factor=(-0.001, 0.001), fill_mode=\"nearest\"\n",
        "        ),\n",
        "        layers.RandomFlip(mode=\"horizontal\"),\n",
        "        layers.RandomRotation(\n",
        "            factor=0.25, fill_mode=\"nearest\"\n",
        "        ),\n",
        "        layers.RandomZoom(\n",
        "            height_factor=(-0.001, 0.001), width_factor=(-0.001, 0.001), fill_mode=\"nearest\"\n",
        "        )\n",
        "    ]\n",
        ")"
      ]
    },
    {
      "cell_type": "markdown",
      "metadata": {
        "id": "MpIezhuqKEXq"
      },
      "source": [
        "Display a random image"
      ]
    },
    {
      "cell_type": "code",
      "execution_count": null,
      "metadata": {
        "colab": {
          "base_uri": "https://localhost:8080/",
          "height": 290
        },
        "id": "aQ0nVdcvKEXq",
        "outputId": "b61c7397-8408-4fc6-9413-e356a44ee537"
      },
      "outputs": [
        {
          "output_type": "display_data",
          "data": {
            "text/plain": [
              "<Figure size 300x300 with 1 Axes>"
            ],
            "image/png": "[encoded data removed]"
          },
          "metadata": {}
        }
      ],
      "source": [
        "image_idx = np.random.choice(range(x_data.shape[0]))\n",
        "image = x_data[image_idx]\n",
        "image_class = classes[y_data[image_idx][0]]\n",
        "plt.figure(figsize=(3, 3))\n",
        "plt.imshow(x_data[image_idx].astype(\"uint8\"))\n",
        "plt.title(image_class)\n",
        "_ = plt.axis(\"off\")"
      ]
    },
    {
      "cell_type": "markdown",
      "metadata": {
        "id": "nMgvmv_dKEXq"
      },
      "source": [
        "Display a sample of augmented versions of the image"
      ]
    },
    {
      "cell_type": "code",
      "execution_count": null,
      "metadata": {
        "colab": {
          "base_uri": "https://localhost:8080/",
          "height": 807
        },
        "id": "otfP5e0TKEXr",
        "outputId": "25d85251-02dc-4235-84b1-02af16025d8d"
      },
      "outputs": [
        {
          "output_type": "display_data",
          "data": {
            "text/plain": [
              "<Figure size 1000x1000 with 9 Axes>"
            ],
            "image/png": "[encoded data removed]"
          },
          "metadata": {}
        }
      ],
      "source": [
        "plt.figure(figsize=(10, 10))\n",
        "for i in range(9):\n",
        "    augmented_images = data_augmentation(np.array([image]))\n",
        "    ax = plt.subplot(3, 3, i + 1)\n",
        "    plt.imshow(augmented_images[0].numpy().astype(\"uint8\"))\n",
        "    plt.axis(\"off\")"
      ]
    },
    {
      "cell_type": "markdown",
      "metadata": {
        "id": "-FHjWZ0wKEXr"
      },
      "source": [
        "## Self-supervised representation learning"
      ]
    },
    {
      "cell_type": "markdown",
      "metadata": {
        "id": "Ah-rA5dZKEXs"
      },
      "source": [
        "### Implement the vision encoder"
      ]
    },
    {
      "cell_type": "code",
      "execution_count": null,
      "metadata": {
        "id": "Avk5k8AgKEXs"
      },
      "outputs": [],
      "source": [
        "\n",
        "def create_encoder(representation_dim):\n",
        "    encoder = keras.Sequential(\n",
        "        [\n",
        "            keras.applications.ResNet50V2(\n",
        "                include_top=False, weights=None, pooling=\"avg\"\n",
        "            ),\n",
        "            layers.Dense(representation_dim),\n",
        "        ]\n",
        "    )\n",
        "    return encoder\n"
      ]
    },
    {
      "cell_type": "markdown",
      "metadata": {
        "id": "uC9331RrKEXt"
      },
      "source": [
        "### Implement the unsupervised contrastive loss"
      ]
    },
    {
      "cell_type": "code",
      "execution_count": null,
      "metadata": {
        "id": "RMJzhKOPKEXt"
      },
      "outputs": [],
      "source": [
        "\n",
        "class RepresentationLearner(keras.Model):\n",
        "    def __init__(\n",
        "        self,\n",
        "        encoder,\n",
        "        projection_units,\n",
        "        num_augmentations,\n",
        "        temperature=1.0,\n",
        "        dropout_rate=0.1,\n",
        "        l2_normalize=False,\n",
        "        **kwargs\n",
        "    ):\n",
        "        super(RepresentationLearner, self).__init__(**kwargs)\n",
        "        self.encoder = encoder\n",
        "        # Create projection head.\n",
        "        self.projector = keras.Sequential(\n",
        "            [\n",
        "                layers.Dropout(dropout_rate),\n",
        "                layers.Dense(units=projection_units, use_bias=False),\n",
        "                layers.BatchNormalization(),\n",
        "                layers.ReLU(),\n",
        "            ]\n",
        "        )\n",
        "        self.num_augmentations = num_augmentations\n",
        "        self.temperature = temperature\n",
        "        self.l2_normalize = l2_normalize\n",
        "        self.loss_tracker = keras.metrics.Mean(name=\"loss\")\n",
        "\n",
        "    @property\n",
        "    def metrics(self):\n",
        "        return [self.loss_tracker]\n",
        "\n",
        "    def compute_contrastive_loss(self, feature_vectors, batch_size):\n",
        "        num_augmentations = tf.shape(feature_vectors)[0] // batch_size\n",
        "        if self.l2_normalize:\n",
        "            feature_vectors = tf.math.l2_normalize(feature_vectors, -1)\n",
        "        # The logits shape is [num_augmentations * batch_size, num_augmentations * batch_size].\n",
        "        logits = (\n",
        "            tf.linalg.matmul(feature_vectors, feature_vectors, transpose_b=True)\n",
        "            / self.temperature\n",
        "        )\n",
        "        # Apply log-max trick for numerical stability.\n",
        "        logits_max = tf.math.reduce_max(logits, axis=1)\n",
        "        logits = logits - logits_max\n",
        "        # The shape of targets is [num_augmentations * batch_size, num_augmentations * batch_size].\n",
        "        # targets is a matrix consits of num_augmentations submatrices of shape [batch_size * batch_size].\n",
        "        # Each [batch_size * batch_size] submatrix is an identity matrix (diagonal entries are ones).\n",
        "        targets = tf.tile(tf.eye(batch_size), [num_augmentations, num_augmentations])\n",
        "        # Compute cross entropy loss\n",
        "        return keras.losses.categorical_crossentropy(\n",
        "            y_true=targets, y_pred=logits, from_logits=True\n",
        "        )\n",
        "\n",
        "    def call(self, inputs):\n",
        "        # Preprocess the input images.\n",
        "        preprocessed = data_preprocessing(inputs)\n",
        "        # Create augmented versions of the images.\n",
        "        augmented = []\n",
        "        for _ in range(self.num_augmentations):\n",
        "            augmented.append(data_augmentation(preprocessed))\n",
        "        augmented = layers.Concatenate(axis=0)(augmented)\n",
        "        # Generate embedding representations of the images.\n",
        "        features = self.encoder(augmented)\n",
        "        # Apply projection head.\n",
        "        return self.projector(features)\n",
        "\n",
        "    def train_step(self, inputs):\n",
        "        batch_size = tf.shape(inputs)[0]\n",
        "        # Run the forward pass and compute the contrastive loss\n",
        "        with tf.GradientTape() as tape:\n",
        "            feature_vectors = self(inputs, training=True)\n",
        "            loss = self.compute_contrastive_loss(feature_vectors, batch_size)\n",
        "        # Compute gradients\n",
        "        trainable_vars = self.trainable_variables\n",
        "        gradients = tape.gradient(loss, trainable_vars)\n",
        "        # Update weights\n",
        "        self.optimizer.apply_gradients(zip(gradients, trainable_vars))\n",
        "        # Update loss tracker metric\n",
        "        self.loss_tracker.update_state(loss)\n",
        "        # Return a dict mapping metric names to current value\n",
        "        return {m.name: m.result() for m in self.metrics}\n",
        "\n",
        "    def test_step(self, inputs):\n",
        "        batch_size = tf.shape(inputs)[0]\n",
        "        feature_vectors = self(inputs, training=False)\n",
        "        loss = self.compute_contrastive_loss(feature_vectors, batch_size)\n",
        "        self.loss_tracker.update_state(loss)\n",
        "        return {\"loss\": self.loss_tracker.result()}\n"
      ]
    },
    {
      "cell_type": "markdown",
      "metadata": {
        "id": "QVg8c2wZKEXu"
      },
      "source": [
        "### Train the model"
      ]
    },
    {
      "cell_type": "code",
      "execution_count": null,
      "metadata": {
        "colab": {
          "base_uri": "https://localhost:8080/"
        },
        "id": "24nbhpPFKEXu",
        "outputId": "289034e5-561b-4927-b910-d5eb25a0b472"
      },
      "outputs": [
        {
          "output_type": "stream",
          "name": "stdout",
          "text": [
            "Epoch 1/50\n",
            "41/41 [==============================] - 41s 328ms/step - loss: 39.4521\n",
            "Epoch 2/50\n",
            "41/41 [==============================] - 11s 278ms/step - loss: 12.1458\n",
            "Epoch 3/50\n",
            "41/41 [==============================] - 11s 280ms/step - loss: 11.2185\n",
            "Epoch 4/50\n",
            "41/41 [==============================] - 11s 280ms/step - loss: 10.5779\n",
            "Epoch 5/50\n",
            "41/41 [==============================] - 12s 283ms/step - loss: 10.0422\n",
            "Epoch 6/50\n",
            "41/41 [==============================] - 12s 283ms/step - loss: 9.6720\n",
            "Epoch 7/50\n",
            "41/41 [==============================] - 12s 286ms/step - loss: 9.4355\n",
            "Epoch 8/50\n",
            "41/41 [==============================] - 12s 287ms/step - loss: 9.1459\n",
            "Epoch 9/50\n",
            "41/41 [==============================] - 12s 289ms/step - loss: 8.9916\n",
            "Epoch 10/50\n",
            "41/41 [==============================] - 12s 292ms/step - loss: 8.8159\n",
            "Epoch 11/50\n",
            "41/41 [==============================] - 12s 291ms/step - loss: 8.7068\n",
            "Epoch 12/50\n",
            "41/41 [==============================] - 12s 291ms/step - loss: 8.6553\n",
            "Epoch 13/50\n",
            "41/41 [==============================] - 12s 289ms/step - loss: 8.6050\n",
            "Epoch 14/50\n",
            "41/41 [==============================] - 12s 290ms/step - loss: 8.5579\n",
            "Epoch 15/50\n",
            "41/41 [==============================] - 12s 290ms/step - loss: 8.5016\n",
            "Epoch 16/50\n",
            "41/41 [==============================] - 12s 289ms/step - loss: 8.4552\n",
            "Epoch 17/50\n",
            "41/41 [==============================] - 12s 290ms/step - loss: 8.3500\n",
            "Epoch 18/50\n",
            "41/41 [==============================] - 12s 290ms/step - loss: 8.2690\n",
            "Epoch 19/50\n",
            "41/41 [==============================] - 12s 290ms/step - loss: 8.2089\n",
            "Epoch 20/50\n",
            "41/41 [==============================] - 12s 290ms/step - loss: 8.1765\n",
            "Epoch 21/50\n",
            "41/41 [==============================] - 12s 291ms/step - loss: 8.1055\n",
            "Epoch 22/50\n",
            "41/41 [==============================] - 12s 291ms/step - loss: 8.0335\n",
            "Epoch 23/50\n",
            "41/41 [==============================] - 12s 290ms/step - loss: 7.9444\n",
            "Epoch 24/50\n",
            "41/41 [==============================] - 12s 291ms/step - loss: 7.9493\n",
            "Epoch 25/50\n",
            "41/41 [==============================] - 12s 295ms/step - loss: 7.7958\n",
            "Epoch 26/50\n",
            "41/41 [==============================] - 12s 290ms/step - loss: 7.7252\n",
            "Epoch 27/50\n",
            "41/41 [==============================] - 12s 290ms/step - loss: 7.6407\n",
            "Epoch 28/50\n",
            "41/41 [==============================] - 12s 291ms/step - loss: 7.5868\n",
            "Epoch 29/50\n",
            "41/41 [==============================] - 12s 291ms/step - loss: 7.5415\n",
            "Epoch 30/50\n",
            "41/41 [==============================] - 12s 291ms/step - loss: 7.4045\n",
            "Epoch 31/50\n",
            "41/41 [==============================] - 12s 290ms/step - loss: 7.3177\n",
            "Epoch 32/50\n",
            "41/41 [==============================] - 12s 291ms/step - loss: 7.3264\n",
            "Epoch 33/50\n",
            "41/41 [==============================] - 12s 290ms/step - loss: 7.1744\n",
            "Epoch 34/50\n",
            "41/41 [==============================] - 12s 291ms/step - loss: 7.1534\n",
            "Epoch 35/50\n",
            "41/41 [==============================] - 12s 290ms/step - loss: 7.0394\n",
            "Epoch 36/50\n",
            "41/41 [==============================] - 12s 290ms/step - loss: 7.1933\n",
            "Epoch 37/50\n",
            "41/41 [==============================] - 12s 290ms/step - loss: 6.9593\n",
            "Epoch 38/50\n",
            "41/41 [==============================] - 12s 290ms/step - loss: 6.9340\n",
            "Epoch 39/50\n",
            "41/41 [==============================] - 12s 290ms/step - loss: 6.7961\n",
            "Epoch 40/50\n",
            "41/41 [==============================] - 12s 292ms/step - loss: 6.7821\n",
            "Epoch 41/50\n",
            "41/41 [==============================] - 12s 290ms/step - loss: 6.5909\n",
            "Epoch 42/50\n",
            "41/41 [==============================] - 12s 291ms/step - loss: 6.5309\n",
            "Epoch 43/50\n",
            "41/41 [==============================] - 12s 290ms/step - loss: 6.5808\n",
            "Epoch 44/50\n",
            "41/41 [==============================] - 12s 290ms/step - loss: 6.4019\n",
            "Epoch 45/50\n",
            "41/41 [==============================] - 12s 291ms/step - loss: 6.4969\n",
            "Epoch 46/50\n",
            "41/41 [==============================] - 12s 290ms/step - loss: 6.3590\n",
            "Epoch 47/50\n",
            "41/41 [==============================] - 12s 290ms/step - loss: 6.6241\n",
            "Epoch 48/50\n",
            "41/41 [==============================] - 12s 290ms/step - loss: 6.3344\n",
            "Epoch 49/50\n",
            "41/41 [==============================] - 12s 291ms/step - loss: 6.5970\n",
            "Epoch 50/50\n",
            "41/41 [==============================] - 12s 291ms/step - loss: 6.3283\n"
          ]
        }
      ],
      "source": [
        "# Create vision encoder.\n",
        "encoder = create_encoder(representation_dim)\n",
        "# Create representation learner.\n",
        "representation_learner = RepresentationLearner(\n",
        "    encoder, projection_units, num_augmentations=2, temperature=0.1\n",
        ")\n",
        "# Create a a Cosine decay learning rate scheduler.\n",
        "lr_scheduler = keras.optimizers.schedules.CosineDecay(\n",
        "    initial_learning_rate=0.001, decay_steps=500, alpha=0.1\n",
        ")\n",
        "# Compile the model.\n",
        "representation_learner.compile(\n",
        "    optimizer=tfa.optimizers.AdamW(learning_rate=lr_scheduler, weight_decay=0.0001),\n",
        ")\n",
        "# Fit the model.\n",
        "history = representation_learner.fit(\n",
        "    x=x_data,\n",
        "    batch_size=512,\n",
        "    epochs=50,  # for better results, increase the number of epochs to 500.\n",
        ")\n"
      ]
    },
    {
      "cell_type": "markdown",
      "metadata": {
        "id": "fgCqhNuIKEXu"
      },
      "source": [
        "Plot training loss"
      ]
    },
    {
      "cell_type": "code",
      "execution_count": null,
      "metadata": {
        "id": "b6cjYdigKEXv",
        "colab": {
          "base_uri": "https://localhost:8080/",
          "height": 449
        },
        "outputId": "68870e55-2da8-4d41-b672-843a1413a832"
      },
      "outputs": [
        {
          "output_type": "display_data",
          "data": {
            "text/plain": [
              "<Figure size 640x480 with 1 Axes>"
            ],
            "image/png": "[encoded data removed]"
          },
          "metadata": {}
        }
      ],
      "source": [
        "plt.plot(history.history[\"loss\"])\n",
        "plt.ylabel(\"loss\")\n",
        "plt.xlabel(\"epoch\")\n",
        "plt.show()"
      ]
    },
    {
      "cell_type": "markdown",
      "metadata": {
        "id": "dbSaZw2HKEXv"
      },
      "source": [
        "## Compute the nearest neighbors"
      ]
    },
    {
      "cell_type": "markdown",
      "metadata": {
        "id": "57BMqGxrKEXv"
      },
      "source": [
        "### Generate the embeddings for the images"
      ]
    },
    {
      "cell_type": "code",
      "execution_count": null,
      "metadata": {
        "id": "PaHpiTQ2KEXv",
        "colab": {
          "base_uri": "https://localhost:8080/"
        },
        "outputId": "18b82d96-13b9-4ab4-a01e-5f5935264c42"
      },
      "outputs": [
        {
          "output_type": "stream",
          "name": "stdout",
          "text": [
            "41/41 [==============================] - 3s 32ms/step\n"
          ]
        }
      ],
      "source": [
        "batch_size = 500\n",
        "# Get the feature vector representations of the images.\n",
        "feature_vectors = encoder.predict(x_data, batch_size=batch_size, verbose=1)\n",
        "# Normalize the feature vectores.\n",
        "feature_vectors = tf.math.l2_normalize(feature_vectors, -1)"
      ]
    },
    {
      "cell_type": "markdown",
      "metadata": {
        "id": "FaC6-BNmKEXw"
      },
      "source": [
        "### Find the *k* nearest neighbours for each embedding"
      ]
    },
    {
      "cell_type": "code",
      "execution_count": null,
      "metadata": {
        "id": "521sQJg0KEXw",
        "colab": {
          "base_uri": "https://localhost:8080/"
        },
        "outputId": "f1ac9e2b-f3be-4c23-80e9-91a31e487932"
      },
      "outputs": [
        {
          "output_type": "stream",
          "name": "stderr",
          "text": [
            "100%|██████████| 41/41 [00:00<00:00, 216.46it/s]\n"
          ]
        }
      ],
      "source": [
        "neighbours = []\n",
        "num_batches = feature_vectors.shape[0] // batch_size\n",
        "for batch_idx in tqdm(range(num_batches)):\n",
        "    start_idx = batch_idx * batch_size\n",
        "    end_idx = start_idx + batch_size\n",
        "    current_batch = feature_vectors[start_idx:end_idx]\n",
        "    # Compute the dot similarity.\n",
        "    similarities = tf.linalg.matmul(current_batch, feature_vectors, transpose_b=True)\n",
        "    # Get the indices of most similar vectors.\n",
        "    _, indices = tf.math.top_k(similarities, k=k_neighbours + 1, sorted=True)\n",
        "    # Add the indices to the neighbours.\n",
        "    neighbours.append(indices[..., 1:])\n",
        "\n",
        "neighbours = np.reshape(np.array(neighbours), (-1, k_neighbours))"
      ]
    },
    {
      "cell_type": "markdown",
      "metadata": {
        "id": "tjiGtRmoKEXw"
      },
      "source": [
        "Let's display some neighbors on each row"
      ]
    },
    {
      "cell_type": "code",
      "execution_count": null,
      "metadata": {
        "id": "pwxlt4pUKEXw",
        "colab": {
          "base_uri": "https://localhost:8080/",
          "height": 854
        },
        "outputId": "bfb49f00-abbb-47bc-edd8-3713b501d19b"
      },
      "outputs": [
        {
          "output_type": "display_data",
          "data": {
            "text/plain": [
              "<Figure size 1200x1200 with 44 Axes>"
            ],
            "image/png": "[encoded data removed]"
          },
          "metadata": {}
        }
      ],
      "source": [
        "nrows = 4\n",
        "ncols = k_neighbours + 1\n",
        "\n",
        "plt.figure(figsize=(12, 12))\n",
        "position = 1\n",
        "for _ in range(nrows):\n",
        "    anchor_idx = np.random.choice(range(x_data.shape[0]))\n",
        "    neighbour_indicies = neighbours[anchor_idx]\n",
        "    indices = [anchor_idx] + neighbour_indicies.tolist()\n",
        "    for j in range(ncols):\n",
        "        plt.subplot(nrows, ncols, position)\n",
        "        plt.imshow(x_data[indices[j]].astype(\"uint8\"))\n",
        "        plt.title(classes[y_data[indices[j]][0]])\n",
        "        plt.axis(\"off\")\n",
        "        position += 1"
      ]
    },
    {
      "cell_type": "markdown",
      "metadata": {
        "id": "-ni2DmULKEXx"
      },
      "source": [
        "You notice that images on each row are visually similar, and belong to similar classes."
      ]
    },
    {
      "cell_type": "markdown",
      "metadata": {
        "id": "Y-nGkoIaKEXx"
      },
      "source": [
        "## Semantic clustering with nearest neighbours"
      ]
    },
    {
      "cell_type": "markdown",
      "metadata": {
        "id": "RiXYt0SXKEXx"
      },
      "source": [
        "### Implement clustering consistency loss\n",
        "\n",
        "This loss tries to make sure that neighbours have the same clustering assignments."
      ]
    },
    {
      "cell_type": "code",
      "execution_count": null,
      "metadata": {
        "id": "j15kVP7hKEXx"
      },
      "outputs": [],
      "source": [
        "\n",
        "class ClustersConsistencyLoss(keras.losses.Loss):\n",
        "    def __init__(self):\n",
        "        super(ClustersConsistencyLoss, self).__init__()\n",
        "\n",
        "    def __call__(self, target, similarity, sample_weight=None):\n",
        "        # Set targets to be ones.\n",
        "        target = tf.ones_like(similarity)\n",
        "        # Compute cross entropy loss.\n",
        "        loss = keras.losses.binary_crossentropy(\n",
        "            y_true=target, y_pred=similarity, from_logits=True\n",
        "        )\n",
        "        return tf.math.reduce_mean(loss)\n"
      ]
    },
    {
      "cell_type": "markdown",
      "metadata": {
        "id": "wGMKejPDKEXx"
      },
      "source": [
        "### Implement the clusters entropy loss\n",
        "\n",
        "This loss tries to make sure that cluster distribution is roughly uniformed, to avoid\n",
        "assigning most of the instances to one cluster."
      ]
    },
    {
      "cell_type": "code",
      "execution_count": null,
      "metadata": {
        "id": "0vBS4_nlKEXy"
      },
      "outputs": [],
      "source": [
        "\n",
        "class ClustersEntropyLoss(keras.losses.Loss):\n",
        "    def __init__(self, entropy_loss_weight=1.0):\n",
        "        super(ClustersEntropyLoss, self).__init__()\n",
        "        self.entropy_loss_weight = entropy_loss_weight\n",
        "\n",
        "    def __call__(self, target, cluster_probabilities, sample_weight=None):\n",
        "        # Ideal entropy = log(num_clusters).\n",
        "        num_clusters = tf.cast(tf.shape(cluster_probabilities)[-1], tf.dtypes.float32)\n",
        "        target = tf.math.log(num_clusters)\n",
        "        # Compute the overall clusters distribution.\n",
        "        cluster_probabilities = tf.math.reduce_mean(cluster_probabilities, axis=0)\n",
        "        # Replacing zero probabilities - if any - with a very small value.\n",
        "        cluster_probabilities = tf.clip_by_value(\n",
        "            cluster_probabilities, clip_value_min=1e-8, clip_value_max=1.0\n",
        "        )\n",
        "        # Compute the entropy over the clusters.\n",
        "        entropy = -tf.math.reduce_sum(\n",
        "            cluster_probabilities * tf.math.log(cluster_probabilities)\n",
        "        )\n",
        "        # Compute the difference between the target and the actual.\n",
        "        loss = target - entropy\n",
        "        return loss\n"
      ]
    },
    {
      "cell_type": "markdown",
      "metadata": {
        "id": "kgnrOd53KEXy"
      },
      "source": [
        "### Implement clustering model\n",
        "\n",
        "This model takes a raw image as an input, generated its feature vector using the trained\n",
        "encoder, and produces a probability distribution of the clusters given the feature vector\n",
        "as the cluster assignments."
      ]
    },
    {
      "cell_type": "code",
      "execution_count": null,
      "metadata": {
        "id": "KrjnSp7eKEXy"
      },
      "outputs": [],
      "source": [
        "\n",
        "def create_clustering_model(encoder, num_clusters, name=None):\n",
        "    inputs = keras.Input(shape=input_shape)\n",
        "    # Preprocess the input images.\n",
        "    preprocessed = data_preprocessing(inputs)\n",
        "    # Apply data augmentation to the images.\n",
        "    augmented = data_augmentation(preprocessed)\n",
        "    # Generate embedding representations of the images.\n",
        "    features = encoder(augmented)\n",
        "    # Assign the images to clusters.\n",
        "    outputs = layers.Dense(units=num_clusters, activation=\"softmax\")(features)\n",
        "    # Create the model.\n",
        "    model = keras.Model(inputs=inputs, outputs=outputs, name=name)\n",
        "    return model\n"
      ]
    },
    {
      "cell_type": "markdown",
      "metadata": {
        "id": "8W-WTYVdKEXy"
      },
      "source": [
        "### Implement clustering learner\n",
        "\n",
        "This model receives the input `anchor` image and its `neighbours`, produces the clusters\n",
        "assignments for them using the `clustering_model`, and produces two outputs:\n",
        "1. `similarity`: the similarity between the cluster assignments of the `anchor` image and\n",
        "its `neighbours`. This output is fed to the `ClustersConsistencyLoss`.\n",
        "2. `anchor_clustering`: cluster assignments of the `anchor` images. This is fed to the `ClustersEntropyLoss`."
      ]
    },
    {
      "cell_type": "code",
      "execution_count": null,
      "metadata": {
        "id": "ssgkAc_mKEXy"
      },
      "outputs": [],
      "source": [
        "\n",
        "def create_clustering_learner(clustering_model):\n",
        "    anchor = keras.Input(shape=input_shape, name=\"anchors\")\n",
        "    neighbours = keras.Input(\n",
        "        shape=tuple([k_neighbours]) + input_shape, name=\"neighbours\"\n",
        "    )\n",
        "    # Changes neighbours shape to [batch_size * k_neighbours, width, height, channels]\n",
        "    neighbours_reshaped = tf.reshape(neighbours, shape=tuple([-1]) + input_shape)\n",
        "    # anchor_clustering shape: [batch_size, num_clusters]\n",
        "    anchor_clustering = clustering_model(anchor)\n",
        "    # neighbours_clustering shape: [batch_size * k_neighbours, num_clusters]\n",
        "    neighbours_clustering = clustering_model(neighbours_reshaped)\n",
        "    # Convert neighbours_clustering shape to [batch_size, k_neighbours, num_clusters]\n",
        "    neighbours_clustering = tf.reshape(\n",
        "        neighbours_clustering,\n",
        "        shape=(-1, k_neighbours, tf.shape(neighbours_clustering)[-1]),\n",
        "    )\n",
        "    # similarity shape: [batch_size, 1, k_neighbours]\n",
        "    similarity = tf.linalg.einsum(\n",
        "        \"bij,bkj->bik\", tf.expand_dims(anchor_clustering, axis=1), neighbours_clustering\n",
        "    )\n",
        "    # similarity shape:  [batch_size, k_neighbours]\n",
        "    similarity = layers.Lambda(lambda x: tf.squeeze(x, axis=1), name=\"similarity\")(\n",
        "        similarity\n",
        "    )\n",
        "    # Create the model.\n",
        "    model = keras.Model(\n",
        "        inputs=[anchor, neighbours],\n",
        "        outputs=[similarity, anchor_clustering],\n",
        "        name=\"clustering_learner\",\n",
        "    )\n",
        "    return model\n"
      ]
    },
    {
      "cell_type": "markdown",
      "metadata": {
        "id": "kTi4QPLTKEXz"
      },
      "source": [
        "### Train model"
      ]
    },
    {
      "cell_type": "code",
      "execution_count": null,
      "metadata": {
        "id": "7NFDg6vVKEXz",
        "colab": {
          "base_uri": "https://localhost:8080/"
        },
        "outputId": "ca52a967-5987-4cb1-9ac8-3c08b3783519"
      },
      "outputs": [
        {
          "output_type": "stream",
          "name": "stdout",
          "text": [
            "Epoch 1/50\n",
            "41/41 [==============================] - 32s 418ms/step - loss: 0.6268 - similarity_loss: 0.6165 - clustering_loss: 0.0103\n",
            "Epoch 2/50\n",
            "41/41 [==============================] - 16s 393ms/step - loss: 0.5859 - similarity_loss: 0.5815 - clustering_loss: 0.0044\n",
            "Epoch 3/50\n",
            "41/41 [==============================] - 16s 385ms/step - loss: 0.5588 - similarity_loss: 0.5546 - clustering_loss: 0.0042\n",
            "Epoch 4/50\n",
            "41/41 [==============================] - 16s 381ms/step - loss: 0.5436 - similarity_loss: 0.5391 - clustering_loss: 0.0045\n",
            "Epoch 5/50\n",
            "41/41 [==============================] - 16s 382ms/step - loss: 0.5341 - similarity_loss: 0.5300 - clustering_loss: 0.0041\n",
            "Epoch 6/50\n",
            "41/41 [==============================] - 16s 383ms/step - loss: 0.5287 - similarity_loss: 0.5244 - clustering_loss: 0.0043\n",
            "Epoch 7/50\n",
            "41/41 [==============================] - 16s 384ms/step - loss: 0.5258 - similarity_loss: 0.5212 - clustering_loss: 0.0046\n",
            "Epoch 8/50\n",
            "41/41 [==============================] - 16s 384ms/step - loss: 0.5246 - similarity_loss: 0.5184 - clustering_loss: 0.0062\n",
            "Epoch 9/50\n",
            "41/41 [==============================] - 16s 383ms/step - loss: 0.5224 - similarity_loss: 0.5171 - clustering_loss: 0.0053\n",
            "Epoch 10/50\n",
            "41/41 [==============================] - 16s 383ms/step - loss: 0.5214 - similarity_loss: 0.5160 - clustering_loss: 0.0054\n",
            "Epoch 11/50\n",
            "41/41 [==============================] - 16s 384ms/step - loss: 0.5217 - similarity_loss: 0.5157 - clustering_loss: 0.0061\n",
            "Epoch 12/50\n",
            "41/41 [==============================] - 16s 383ms/step - loss: 0.5203 - similarity_loss: 0.5143 - clustering_loss: 0.0060\n",
            "Epoch 13/50\n",
            "41/41 [==============================] - 16s 383ms/step - loss: 0.5196 - similarity_loss: 0.5137 - clustering_loss: 0.0059\n",
            "Epoch 14/50\n",
            "41/41 [==============================] - 16s 387ms/step - loss: 0.5197 - similarity_loss: 0.5134 - clustering_loss: 0.0063\n",
            "Epoch 15/50\n",
            "41/41 [==============================] - 16s 383ms/step - loss: 0.5190 - similarity_loss: 0.5125 - clustering_loss: 0.0066\n",
            "Epoch 16/50\n",
            "41/41 [==============================] - 16s 382ms/step - loss: 0.5176 - similarity_loss: 0.5125 - clustering_loss: 0.0051\n",
            "Epoch 17/50\n",
            "41/41 [==============================] - 16s 384ms/step - loss: 0.5180 - similarity_loss: 0.5117 - clustering_loss: 0.0063\n",
            "Epoch 18/50\n",
            "41/41 [==============================] - 16s 386ms/step - loss: 0.5169 - similarity_loss: 0.5112 - clustering_loss: 0.0056\n",
            "Epoch 19/50\n",
            "41/41 [==============================] - 16s 384ms/step - loss: 0.5171 - similarity_loss: 0.5109 - clustering_loss: 0.0061\n",
            "Epoch 20/50\n",
            "41/41 [==============================] - 16s 383ms/step - loss: 0.5167 - similarity_loss: 0.5105 - clustering_loss: 0.0061\n",
            "Epoch 21/50\n",
            "41/41 [==============================] - 16s 384ms/step - loss: 0.5159 - similarity_loss: 0.5103 - clustering_loss: 0.0056\n",
            "Epoch 22/50\n",
            "41/41 [==============================] - 16s 384ms/step - loss: 0.5157 - similarity_loss: 0.5102 - clustering_loss: 0.0055\n",
            "Epoch 23/50\n",
            "41/41 [==============================] - 16s 383ms/step - loss: 0.5156 - similarity_loss: 0.5100 - clustering_loss: 0.0057\n",
            "Epoch 24/50\n",
            "41/41 [==============================] - 16s 385ms/step - loss: 0.5153 - similarity_loss: 0.5102 - clustering_loss: 0.0051\n",
            "Epoch 25/50\n",
            "41/41 [==============================] - 16s 384ms/step - loss: 0.5156 - similarity_loss: 0.5095 - clustering_loss: 0.0061\n",
            "Epoch 26/50\n",
            "41/41 [==============================] - 16s 385ms/step - loss: 0.5154 - similarity_loss: 0.5095 - clustering_loss: 0.0059\n",
            "Epoch 27/50\n",
            "41/41 [==============================] - 16s 383ms/step - loss: 0.5153 - similarity_loss: 0.5097 - clustering_loss: 0.0056\n",
            "Epoch 28/50\n",
            "41/41 [==============================] - 16s 383ms/step - loss: 0.5162 - similarity_loss: 0.5090 - clustering_loss: 0.0072\n",
            "Epoch 29/50\n",
            "41/41 [==============================] - 16s 383ms/step - loss: 0.5159 - similarity_loss: 0.5094 - clustering_loss: 0.0065\n",
            "Epoch 30/50\n",
            "41/41 [==============================] - 16s 384ms/step - loss: 0.5149 - similarity_loss: 0.5087 - clustering_loss: 0.0062\n",
            "Epoch 31/50\n",
            "41/41 [==============================] - 16s 385ms/step - loss: 0.5147 - similarity_loss: 0.5088 - clustering_loss: 0.0059\n",
            "Epoch 32/50\n",
            "41/41 [==============================] - 16s 385ms/step - loss: 0.5147 - similarity_loss: 0.5082 - clustering_loss: 0.0065\n",
            "Epoch 33/50\n",
            "41/41 [==============================] - 16s 384ms/step - loss: 0.5151 - similarity_loss: 0.5084 - clustering_loss: 0.0066\n",
            "Epoch 34/50\n",
            "41/41 [==============================] - 16s 384ms/step - loss: 0.5148 - similarity_loss: 0.5083 - clustering_loss: 0.0064\n",
            "Epoch 35/50\n",
            "41/41 [==============================] - 16s 381ms/step - loss: 0.5146 - similarity_loss: 0.5080 - clustering_loss: 0.0066\n",
            "Epoch 36/50\n",
            "41/41 [==============================] - 16s 382ms/step - loss: 0.5152 - similarity_loss: 0.5084 - clustering_loss: 0.0068\n",
            "Epoch 37/50\n",
            "41/41 [==============================] - 16s 387ms/step - loss: 0.5148 - similarity_loss: 0.5082 - clustering_loss: 0.0066\n",
            "Epoch 38/50\n",
            "41/41 [==============================] - 16s 381ms/step - loss: 0.5139 - similarity_loss: 0.5080 - clustering_loss: 0.0059\n",
            "Epoch 39/50\n",
            "41/41 [==============================] - 16s 382ms/step - loss: 0.5140 - similarity_loss: 0.5075 - clustering_loss: 0.0065\n",
            "Epoch 40/50\n",
            "41/41 [==============================] - 16s 378ms/step - loss: 0.5133 - similarity_loss: 0.5079 - clustering_loss: 0.0054\n",
            "Epoch 41/50\n",
            "41/41 [==============================] - 16s 379ms/step - loss: 0.5139 - similarity_loss: 0.5078 - clustering_loss: 0.0062\n",
            "Epoch 42/50\n",
            "41/41 [==============================] - 16s 381ms/step - loss: 0.5136 - similarity_loss: 0.5073 - clustering_loss: 0.0063\n",
            "Epoch 43/50\n",
            "41/41 [==============================] - 16s 382ms/step - loss: 0.5137 - similarity_loss: 0.5076 - clustering_loss: 0.0061\n",
            "Epoch 44/50\n",
            "41/41 [==============================] - 16s 382ms/step - loss: 0.5136 - similarity_loss: 0.5072 - clustering_loss: 0.0064\n",
            "Epoch 45/50\n",
            "41/41 [==============================] - 16s 381ms/step - loss: 0.5137 - similarity_loss: 0.5070 - clustering_loss: 0.0067\n",
            "Epoch 46/50\n",
            "41/41 [==============================] - 15s 377ms/step - loss: 0.5130 - similarity_loss: 0.5075 - clustering_loss: 0.0055\n",
            "Epoch 47/50\n",
            "41/41 [==============================] - 16s 379ms/step - loss: 0.5133 - similarity_loss: 0.5069 - clustering_loss: 0.0064\n",
            "Epoch 48/50\n",
            "41/41 [==============================] - 16s 384ms/step - loss: 0.5135 - similarity_loss: 0.5065 - clustering_loss: 0.0070\n",
            "Epoch 49/50\n",
            "41/41 [==============================] - 16s 380ms/step - loss: 0.5133 - similarity_loss: 0.5068 - clustering_loss: 0.0066\n",
            "Epoch 50/50\n",
            "41/41 [==============================] - 16s 379ms/step - loss: 0.5124 - similarity_loss: 0.5066 - clustering_loss: 0.0058\n"
          ]
        },
        {
          "output_type": "execute_result",
          "data": {
            "text/plain": [
              "<keras.callbacks.History at 0x7fb4c07aaa00>"
            ]
          },
          "metadata": {},
          "execution_count": 25
        }
      ],
      "source": [
        "# If tune_encoder_during_clustering is set to False,\n",
        "# then freeze the encoder weights.\n",
        "for layer in encoder.layers:\n",
        "    layer.trainable = tune_encoder_during_clustering\n",
        "# Create the clustering model and learner.\n",
        "clustering_model = create_clustering_model(encoder, num_clusters, name=\"clustering\")\n",
        "clustering_learner = create_clustering_learner(clustering_model)\n",
        "# Instantiate the model losses.\n",
        "losses = [ClustersConsistencyLoss(), ClustersEntropyLoss(entropy_loss_weight=5)]\n",
        "# Create the model inputs and labels.\n",
        "inputs = {\"anchors\": x_data, \"neighbours\": tf.gather(x_data, neighbours)}\n",
        "labels = tf.ones(shape=(x_data.shape[0]))\n",
        "# Compile the model.\n",
        "clustering_learner.compile(\n",
        "    optimizer=tfa.optimizers.AdamW(learning_rate=0.0005, weight_decay=0.0001),\n",
        "    loss=losses,\n",
        ")\n",
        "\n",
        "# Begin training the model.\n",
        "clustering_learner.fit(x=inputs, y=labels, batch_size=512, epochs=50)"
      ]
    },
    {
      "cell_type": "markdown",
      "metadata": {
        "id": "CQH8iONYKEXz"
      },
      "source": [
        "Plot training loss"
      ]
    },
    {
      "cell_type": "code",
      "execution_count": null,
      "metadata": {
        "id": "SlQvnU_QKEXz",
        "colab": {
          "base_uri": "https://localhost:8080/",
          "height": 449
        },
        "outputId": "661e4435-c255-4038-ca8b-c2dfd9ad020d"
      },
      "outputs": [
        {
          "output_type": "display_data",
          "data": {
            "text/plain": [
              "<Figure size 640x480 with 1 Axes>"
            ],
            "image/png": "[encoded data removed]"
          },
          "metadata": {}
        }
      ],
      "source": [
        "plt.plot(history.history[\"loss\"])\n",
        "plt.ylabel(\"loss\")\n",
        "plt.xlabel(\"epoch\")\n",
        "plt.show()"
      ]
    },
    {
      "cell_type": "markdown",
      "metadata": {
        "id": "FBLEhWVzKEXz"
      },
      "source": [
        "## Cluster analysis"
      ]
    },
    {
      "cell_type": "markdown",
      "metadata": {
        "id": "VC7NCPT2KEX0"
      },
      "source": [
        "### Assign images to clusters"
      ]
    },
    {
      "cell_type": "code",
      "execution_count": null,
      "metadata": {
        "id": "GhGCwCSJKEX0",
        "colab": {
          "base_uri": "https://localhost:8080/"
        },
        "outputId": "9dda8578-0d19-4f3d-cf4d-091221cae828"
      },
      "outputs": [
        {
          "output_type": "stream",
          "name": "stdout",
          "text": [
            "41/41 [==============================] - 2s 34ms/step\n"
          ]
        }
      ],
      "source": [
        "# Get the cluster probability distribution of the input images.\n",
        "clustering_probs = clustering_model.predict(x_data, batch_size=batch_size, verbose=1)\n",
        "# Get the cluster of the highest probability.\n",
        "cluster_assignments = tf.math.argmax(clustering_probs, axis=-1).numpy()\n",
        "# Store the clustering confidence.\n",
        "# Images with the highest clustering confidence are considered the 'prototypes'\n",
        "# of the clusters.\n",
        "cluster_confidence = tf.math.reduce_max(clustering_probs, axis=-1).numpy()"
      ]
    },
    {
      "cell_type": "markdown",
      "metadata": {
        "id": "wtge_38VKEX0"
      },
      "source": [
        "Let's compute the cluster sizes"
      ]
    },
    {
      "cell_type": "code",
      "execution_count": null,
      "metadata": {
        "id": "qJlFicNnKEX0",
        "colab": {
          "base_uri": "https://localhost:8080/"
        },
        "outputId": "92191c23-10a7-406a-b023-5ccce7f0535e"
      },
      "outputs": [
        {
          "output_type": "stream",
          "name": "stdout",
          "text": [
            "cluster 0 : 2525\n",
            "cluster 1 : 3097\n",
            "cluster 2 : 2348\n",
            "cluster 3 : 2424\n",
            "cluster 4 : 2354\n",
            "cluster 5 : 3002\n",
            "cluster 6 : 2108\n",
            "cluster 7 : 2642\n"
          ]
        }
      ],
      "source": [
        "clusters = defaultdict(list)\n",
        "for idx, c in enumerate(cluster_assignments):\n",
        "    clusters[c].append((idx, cluster_confidence[idx]))\n",
        "\n",
        "for c in range(num_clusters):\n",
        "    print(\"cluster\", c, \":\", len(clusters[c]))"
      ]
    },
    {
      "cell_type": "markdown",
      "metadata": {
        "id": "YZ6WvJKjKEX0"
      },
      "source": [
        "Notice that the clusters have roughly balanced sizes."
      ]
    },
    {
      "cell_type": "markdown",
      "metadata": {
        "id": "wHc_5tB6KEX0"
      },
      "source": [
        "### Visualize cluster images\n",
        "\n",
        "Display the *prototypes*—instances with the highest clustering confidence—of each cluster:"
      ]
    },
    {
      "cell_type": "code",
      "execution_count": null,
      "metadata": {
        "id": "nmXJ7h6sKEX1",
        "colab": {
          "base_uri": "https://localhost:8080/",
          "height": 1000
        },
        "outputId": "3baec448-b11f-46c6-84b0-32a3326dd652"
      },
      "outputs": [
        {
          "output_type": "display_data",
          "data": {
            "text/plain": [
              "<Figure size 2000x2000 with 64 Axes>"
            ],
            "image/png": "[encoded data removed]"
          },
          "metadata": {}
        }
      ],
      "source": [
        "num_images = 8\n",
        "plt.figure(figsize=(20, 20))\n",
        "position = 1\n",
        "for c in range(num_clusters):\n",
        "    cluster_instances = sorted(clusters[c], key=lambda kv: kv[1], reverse=True)\n",
        "\n",
        "    for j in range(num_images):\n",
        "        image_idx = cluster_instances[j][0]\n",
        "        plt.subplot(num_clusters, num_images, position)\n",
        "        plt.imshow(x_data[image_idx].astype(\"uint8\"))\n",
        "        #plt.title(classes[y_data[image_idx][0]])\n",
        "        plt.axis(\"off\")\n",
        "        position += 1"
      ]
    },
    {
      "cell_type": "code",
      "execution_count": null,
      "metadata": {
        "id": "QxXlul7heUzo",
        "colab": {
          "base_uri": "https://localhost:8080/"
        },
        "outputId": "4599439e-719b-4d52-be39-c2bdb1a799c5"
      },
      "outputs": [
        {
          "output_type": "stream",
          "name": "stdout",
          "text": [
            "<class 'collections.defaultdict'>\n"
          ]
        }
      ],
      "source": [
        "print(type(clusters))"
      ]
    },
    {
      "cell_type": "code",
      "source": [
        "print(clusters[0])"
      ],
      "metadata": {
        "colab": {
          "base_uri": "https://localhost:8080/"
        },
        "id": "XlopIw7KLQBq",
        "outputId": "4c047f8f-6912-4f1b-e636-429717560a6b"
      },
      "execution_count": null,
      "outputs": [
        {
          "output_type": "stream",
          "name": "stdout",
          "text": [
            "[(3, 0.41062957), (17, 0.63931036), (20, 0.78767276), (22, 0.79993355), (38, 0.7646068), (40, 0.87803906), (45, 0.9778886), (50, 0.9570552), (58, 0.48533523), (78, 0.99384874), (80, 0.7339968), (83, 0.43908095), (86, 0.58384186), (103, 0.82535934), (112, 0.8676728), (138, 0.87366223), (140, 0.9976458), (141, 0.971357), (151, 0.99771667), (171, 0.96132064), (186, 0.73134655), (188, 0.5192112), (224, 0.9675523), (250, 0.8659838), (252, 0.49761945), (254, 0.9392194), (261, 0.9762763), (268, 0.9778155), (290, 0.7302868), (292, 0.9749211), (296, 0.87180996), (305, 0.97759455), (318, 0.9827672), (320, 0.9599686), (322, 0.99220896), (325, 0.82321656), (328, 0.9556079), (337, 0.84249145), (348, 0.48758113), (349, 0.7551239), (355, 0.9972275), (357, 0.91692287), (386, 0.835637), (389, 0.8590568), (420, 0.4477131), (423, 0.94875294), (434, 0.972693), (436, 0.9958878), (440, 0.71493053), (448, 0.9982241), (454, 0.9245597), (463, 0.96836287), (470, 0.90496457), (479, 0.9681829), (505, 0.89021766), (512, 0.517647), (523, 0.8722589), (525, 0.9620365), (535, 0.73066396), (536, 0.97766066), (545, 0.41478997), (553, 0.7635612), (589, 0.56848496), (598, 0.7967048), (608, 0.74843407), (637, 0.9907596), (638, 0.98060924), (640, 0.903558), (643, 0.8909678), (645, 0.5668885), (650, 0.6560996), (660, 0.89227116), (664, 0.9877664), (666, 0.78269637), (668, 0.6789287), (672, 0.71944773), (677, 0.7847075), (696, 0.6693596), (703, 0.65366286), (704, 0.47347823), (706, 0.849911), (723, 0.6024823), (726, 0.79709554), (756, 0.86896247), (759, 0.90824264), (762, 0.6128365), (767, 0.99828595), (785, 0.69511), (798, 0.3931642), (808, 0.8059381), (813, 0.9805414), (822, 0.73946875), (824, 0.49157527), (826, 0.9939435), (831, 0.9776292), (848, 0.78111786), (863, 0.7282802), (886, 0.95721364), (891, 0.9698324), (915, 0.99071926), (969, 0.50962645), (978, 0.97946906), (984, 0.7423311), (985, 0.9871579), (996, 0.9602836), (999, 0.89665276), (1008, 0.86438507), (1012, 0.597257), (1044, 0.99686074), (1045, 0.9019642), (1069, 0.97694427), (1074, 0.4476778), (1076, 0.62895507), (1081, 0.9418527), (1091, 0.9042249), (1100, 0.8130474), (1105, 0.8926033), (1106, 0.95740527), (1112, 0.53585654), (1119, 0.49102494), (1140, 0.7485041), (1165, 0.5955519), (1194, 0.9329755), (1207, 0.9826475), (1212, 0.8400633), (1215, 0.98388934), (1223, 0.99275255), (1227, 0.83114827), (1255, 0.5823047), (1273, 0.83665377), (1303, 0.99123937), (1306, 0.89062226), (1322, 0.8923004), (1347, 0.5723808), (1349, 0.9076036), (1378, 0.6263725), (1379, 0.99729), (1434, 0.8576856), (1486, 0.5164614), (1487, 0.7048404), (1502, 0.9674324), (1533, 0.9675253), (1548, 0.9791383), (1610, 0.54904926), (1611, 0.77003324), (1619, 0.8071381), (1644, 0.8109502), (1647, 0.6108755), (1648, 0.82014364), (1670, 0.9890912), (1709, 0.59589547), (1714, 0.6941864), (1813, 0.8427206), (1828, 0.7991839), (1835, 0.8344744), (1842, 0.99187696), (1848, 0.5104396), (1868, 0.8381032), (1896, 0.5029793), (1904, 0.54227966), (1955, 0.6795282), (1966, 0.9698533), (1989, 0.7503901), (1996, 0.9896062), (2009, 0.7830571), (2010, 0.98827016), (2015, 0.54058653), (2025, 0.85371786), (2026, 0.8351982), (2066, 0.8110145), (2075, 0.5664072), (2088, 0.8800356), (2111, 0.5485616), (2116, 0.56086874), (2122, 0.89212173), (2152, 0.7725246), (2158, 0.9651878), (2170, 0.99159086), (2180, 0.94015265), (2187, 0.48109427), (2188, 0.4481737), (2191, 0.5116006), (2218, 0.90560186), (2254, 0.55912656), (2258, 0.48052865), (2260, 0.56944984), (2278, 0.82580656), (2280, 0.68128055), (2295, 0.8373183), (2309, 0.9690057), (2314, 0.6013687), (2317, 0.7232522), (2363, 0.7750802), (2367, 0.54177123), (2370, 0.98228204), (2383, 0.6864629), (2395, 0.929957), (2396, 0.4926211), (2404, 0.5206569), (2414, 0.5444949), (2417, 0.58276325), (2429, 0.885305), (2436, 0.9899844), (2438, 0.64248675), (2447, 0.9862374), (2452, 0.86492497), (2480, 0.786619), (2539, 0.9977563), (2562, 0.9468204), (2563, 0.9721162), (2572, 0.4734546), (2575, 0.7477255), (2590, 0.8790693), (2594, 0.96472865), (2616, 0.9579648), (2623, 0.92146444), (2630, 0.86000305), (2650, 0.73002446), (2663, 0.47623062), (2667, 0.52181643), (2689, 0.9970182), (2696, 0.9758381), (2712, 0.5941899), (2751, 0.9780595), (2754, 0.600371), (2758, 0.5883961), (2766, 0.65265), (2775, 0.97869575), (2779, 0.81700456), (2789, 0.84546936), (2794, 0.6189715), (2810, 0.6438522), (2835, 0.93042946), (2851, 0.85820824), (2871, 0.9093397), (2874, 0.88323313), (2881, 0.9740182), (2892, 0.63560915), (2895, 0.743668), (2932, 0.9112655), (2935, 0.99694), (2999, 0.97990406), (3044, 0.8427206), (3070, 0.66168857), (3072, 0.9521226), (3110, 0.720882), (3169, 0.61939853), (3173, 0.97218794), (3184, 0.87586486), (3187, 0.7506924), (3215, 0.92821485), (3221, 0.57911533), (3222, 0.9807685), (3229, 0.9709665), (3231, 0.9951433), (3241, 0.978285), (3242, 0.98490244), (3286, 0.9082619), (3289, 0.5131884), (3298, 0.625188), (3304, 0.99779946), (3327, 0.54641646), (3331, 0.9975254), (3340, 0.5690262), (3363, 0.59076303), (3381, 0.9556973), (3384, 0.9948369), (3390, 0.82661796), (3410, 0.95114446), (3416, 0.5746179), (3419, 0.95142895), (3422, 0.9913703), (3434, 0.9853409), (3438, 0.9462208), (3446, 0.97649574), (3455, 0.81648827), (3470, 0.9853174), (3474, 0.8904058), (3476, 0.982213), (3478, 0.8939424), (3494, 0.5297573), (3511, 0.964583), (3518, 0.5597981), (3531, 0.61893725), (3532, 0.8993935), (3550, 0.8012455), (3561, 0.9900575), (3562, 0.996409), (3576, 0.77463627), (3605, 0.49831578), (3625, 0.9244274), (3628, 0.9819319), (3631, 0.9447952), (3639, 0.6972413), (3644, 0.99761605), (3646, 0.9686762), (3653, 0.86392856), (3663, 0.43862554), (3664, 0.96412295), (3675, 0.80164146), (3676, 0.9821098), (3748, 0.71747005), (3760, 0.42495582), (3766, 0.98786175), (3775, 0.4885025), (3785, 0.5870064), (3803, 0.60042894), (3813, 0.5105555), (3814, 0.77633494), (3823, 0.65617764), (3825, 0.5236453), (3826, 0.6306669), (3828, 0.7731155), (3838, 0.97761995), (3882, 0.9934017), (3886, 0.72604203), (3890, 0.8587386), (3898, 0.9772035), (3899, 0.9738138), (3903, 0.99716264), (3915, 0.4925948), (3926, 0.7158919), (3937, 0.9907126), (3942, 0.659842), (3948, 0.83908844), (3980, 0.7292854), (3984, 0.6953739), (4000, 0.8725595), (4015, 0.6077295), (4018, 0.7794208), (4024, 0.71886516), (4028, 0.997561), (4041, 0.9950736), (4044, 0.7878083), (4045, 0.91551256), (4050, 0.5930162), (4063, 0.8008194), (4071, 0.7042164), (4072, 0.9469446), (4078, 0.9222042), (4079, 0.4783125), (4084, 0.7389013), (4085, 0.9782762), (4090, 0.8341235), (4094, 0.49567538), (4101, 0.8298845), (4109, 0.9837915), (4144, 0.8624213), (4160, 0.958179), (4166, 0.90280473), (4174, 0.9180978), (4191, 0.9939598), (4225, 0.93350524), (4227, 0.9335284), (4236, 0.52992934), (4238, 0.7318443), (4252, 0.9979395), (4262, 0.8058454), (4265, 0.98363346), (4273, 0.99615246), (4297, 0.59028435), (4313, 0.75857455), (4320, 0.95822364), (4321, 0.5921109), (4361, 0.58343357), (4364, 0.86200935), (4373, 0.9753552), (4404, 0.8136606), (4408, 0.70452166), (4438, 0.9064491), (4441, 0.5490076), (4456, 0.8610528), (4472, 0.5921073), (4480, 0.9842418), (4481, 0.522175), (4484, 0.87568146), (4499, 0.53341377), (4507, 0.9873732), (4508, 0.73118514), (4510, 0.8909854), (4511, 0.4583049), (4538, 0.78571135), (4544, 0.9943508), (4549, 0.70864683), (4550, 0.51901096), (4603, 0.6936391), (4620, 0.93771046), (4621, 0.9956092), (4624, 0.9961139), (4628, 0.67919266), (4647, 0.7970286), (4650, 0.83483785), (4685, 0.9838905), (4717, 0.97139764), (4767, 0.5086585), (4774, 0.7040907), (4809, 0.9837261), (4810, 0.65342474), (4831, 0.94942594), (4833, 0.827773), (4849, 0.9178328), (4869, 0.527517), (4876, 0.9215718), (4878, 0.982508), (4888, 0.8977563), (4895, 0.88091785), (4905, 0.7429258), (4909, 0.57613057), (4915, 0.9723203), (4922, 0.9739888), (4925, 0.9737057), (4939, 0.9587524), (4941, 0.98236936), (4945, 0.81566566), (4947, 0.37288105), (4949, 0.99573946), (4951, 0.7263583), (4958, 0.73046446), (4961, 0.9875251), (4970, 0.43485573), (4986, 0.9238728), (5005, 0.6682951), (5009, 0.9866654), (5013, 0.58645207), (5017, 0.99324715), (5018, 0.99387544), (5040, 0.54051435), (5045, 0.5417196), (5050, 0.96960026), (5053, 0.8979943), (5061, 0.88047844), (5083, 0.9915211), (5084, 0.9489206), (5088, 0.94133383), (5090, 0.99307585), (5093, 0.9473855), (5107, 0.72212076), (5116, 0.99801636), (5126, 0.9948801), (5139, 0.5337075), (5141, 0.8251282), (5165, 0.6827922), (5174, 0.7251969), (5176, 0.54811496), (5199, 0.9700549), (5202, 0.629931), (5208, 0.97660136), (5215, 0.704237), (5219, 0.8305064), (5240, 0.84484893), (5251, 0.8126155), (5263, 0.9948279), (5285, 0.8243136), (5288, 0.9588759), (5298, 0.77987385), (5304, 0.56830275), (5308, 0.9782431), (5326, 0.95597106), (5332, 0.7718606), (5336, 0.9806145), (5347, 0.9522826), (5351, 0.6337795), (5370, 0.48061544), (5372, 0.7969007), (5392, 0.9509235), (5395, 0.8889462), (5400, 0.88415015), (5408, 0.99233246), (5412, 0.55567104), (5424, 0.99353844), (5435, 0.9295085), (5440, 0.9933809), (5447, 0.8600815), (5448, 0.81905746), (5450, 0.94279045), (5451, 0.99378586), (5476, 0.9531661), (5498, 0.998547), (5505, 0.62425375), (5510, 0.903211), (5513, 0.76426804), (5516, 0.9330517), (5527, 0.9960626), (5535, 0.9974916), (5537, 0.6593172), (5543, 0.69148093), (5548, 0.7387444), (5549, 0.73375547), (5552, 0.9794392), (5553, 0.94509155), (5556, 0.9910944), (5560, 0.8146828), (5564, 0.9819743), (5567, 0.99429613), (5575, 0.99177766), (5580, 0.89553803), (5585, 0.8669352), (5592, 0.8867252), (5593, 0.8276568), (5594, 0.51502), (5597, 0.7659473), (5599, 0.65004694), (5600, 0.6601985), (5601, 0.46984404), (5607, 0.95175123), (5609, 0.4889947), (5622, 0.99097776), (5623, 0.9948173), (5631, 0.73966146), (5634, 0.9380198), (5635, 0.40702218), (5641, 0.95732117), (5643, 0.774533), (5679, 0.6890475), (5680, 0.52384037), (5695, 0.9806292), (5699, 0.92541885), (5703, 0.6282936), (5708, 0.71312284), (5709, 0.50914353), (5713, 0.9497115), (5718, 0.640734), (5719, 0.976631), (5734, 0.5759251), (5738, 0.881187), (5744, 0.9947148), (5754, 0.99805284), (5775, 0.97607476), (5781, 0.8399764), (5786, 0.7358311), (5787, 0.9793315), (5788, 0.60721916), (5789, 0.97707146), (5790, 0.7742584), (5803, 0.6707524), (5807, 0.9711321), (5813, 0.75343335), (5819, 0.9638217), (5825, 0.9955329), (5835, 0.47422293), (5839, 0.75746036), (5840, 0.94909793), (5841, 0.9404067), (5843, 0.515949), (5846, 0.9120502), (5850, 0.97117203), (5852, 0.8186842), (5860, 0.97985727), (5869, 0.86697686), (5870, 0.9931083), (5876, 0.96707314), (5880, 0.9360498), (5883, 0.807807), (5885, 0.99355173), (5892, 0.9971813), (5898, 0.99642015), (5899, 0.9756349), (5902, 0.6359216), (5903, 0.99857485), (5907, 0.9485619), (5910, 0.97928077), (5913, 0.8524945), (5915, 0.73614526), (5923, 0.8981432), (5925, 0.9897724), (5930, 0.8428358), (5932, 0.83187383), (5933, 0.99653935), (5942, 0.66248155), (5945, 0.99299675), (5947, 0.9905743), (5953, 0.9473699), (5955, 0.542219), (5959, 0.99534047), (5964, 0.55376357), (5969, 0.8475433), (5970, 0.9882228), (5974, 0.996007), (5976, 0.95135176), (5977, 0.8456577), (5978, 0.96370846), (5988, 0.6405518), (5990, 0.98444885), (5991, 0.736616), (5993, 0.71919495), (5995, 0.8223161), (5999, 0.98268294), (6002, 0.9068825), (6014, 0.7446941), (6015, 0.9979761), (6020, 0.9635838), (6021, 0.95089173), (6031, 0.6360902), (6035, 0.9732415), (6038, 0.8317067), (6054, 0.77712), (6055, 0.8952369), (6059, 0.9557131), (6072, 0.9057849), (6075, 0.58169645), (6078, 0.998254), (6080, 0.71872526), (6081, 0.98466784), (6092, 0.98835224), (6093, 0.9843444), (6095, 0.97030807), (6096, 0.92735565), (6106, 0.6140781), (6109, 0.93536365), (6115, 0.9773027), (6118, 0.56794494), (6127, 0.63856035), (6131, 0.5450468), (6140, 0.76991695), (6156, 0.7329693), (6168, 0.7513982), (6174, 0.6350791), (6176, 0.66616374), (6177, 0.67456776), (6191, 0.6796297), (6203, 0.7842888), (6204, 0.98457474), (6208, 0.655249), (6217, 0.9259987), (6226, 0.5164034), (6229, 0.99476707), (6233, 0.7256912), (6234, 0.6245809), (6237, 0.9865807), (6243, 0.76306003), (6253, 0.95892096), (6254, 0.99232215), (6258, 0.99534434), (6259, 0.7227789), (6262, 0.99243766), (6264, 0.710942), (6265, 0.98765), (6266, 0.99710387), (6272, 0.48769093), (6282, 0.8483893), (6296, 0.8898177), (6298, 0.94481885), (6318, 0.6242884), (6326, 0.5233258), (6329, 0.54923457), (6349, 0.5029303), (6351, 0.6464214), (6366, 0.9865122), (6386, 0.63632417), (6390, 0.9416337), (6393, 0.67795146), (6415, 0.47687408), (6424, 0.9133719), (6428, 0.9889852), (6434, 0.79900986), (6435, 0.5688586), (6447, 0.65763354), (6454, 0.98760337), (6455, 0.96082735), (6460, 0.9297231), (6466, 0.6706597), (6469, 0.5380185), (6477, 0.8744502), (6478, 0.7697639), (6484, 0.9847356), (6490, 0.5705041), (6491, 0.97165155), (6505, 0.9919184), (6506, 0.6413401), (6507, 0.89232546), (6511, 0.68546295), (6512, 0.9910062), (6537, 0.4292471), (6563, 0.7043047), (6565, 0.9862347), (6567, 0.8504036), (6573, 0.6776067), (6578, 0.73556495), (6592, 0.59020054), (6611, 0.9436494), (6619, 0.61368203), (6622, 0.9619424), (6629, 0.99356693), (6630, 0.94669175), (6633, 0.91662115), (6655, 0.9049052), (6656, 0.97556937), (6663, 0.8208611), (6673, 0.64152646), (6675, 0.57655525), (6684, 0.59174573), (6690, 0.56519186), (6692, 0.8849775), (6693, 0.99644935), (6697, 0.99795437), (6698, 0.68919677), (6699, 0.8231188), (6713, 0.99706036), (6736, 0.9929495), (6748, 0.9965133), (6751, 0.7196343), (6756, 0.85686797), (6757, 0.47855628), (6769, 0.9955792), (6778, 0.880379), (6780, 0.89986056), (6786, 0.62704325), (6793, 0.99469143), (6796, 0.93943113), (6803, 0.6441193), (6811, 0.6901021), (6826, 0.944835), (6829, 0.652429), (6838, 0.974741), (6841, 0.7961349), (6851, 0.9158895), (6853, 0.7969166), (6856, 0.77350146), (6866, 0.9598008), (6879, 0.68740934), (6907, 0.6404217), (6918, 0.769436), (6920, 0.97991484), (6928, 0.96928227), (6934, 0.8567063), (6942, 0.83396393), (6945, 0.6614616), (6949, 0.99754936), (6951, 0.7780341), (6957, 0.9031434), (6962, 0.99600476), (6970, 0.9429814), (6972, 0.9681299), (6976, 0.49840128), (6992, 0.99581075), (7003, 0.93582803), (7008, 0.8327951), (7016, 0.99606496), (7020, 0.95142126), (7030, 0.96650934), (7035, 0.99503195), (7036, 0.9045956), (7070, 0.8406577), (7072, 0.99500823), (7079, 0.77512264), (7085, 0.99609345), (7087, 0.82544345), (7088, 0.6893807), (7102, 0.60865384), (7109, 0.9957676), (7125, 0.92441016), (7139, 0.5679915), (7148, 0.8581793), (7156, 0.95953244), (7158, 0.99901974), (7172, 0.9008196), (7176, 0.99878544), (7204, 0.84176224), (7211, 0.49926758), (7217, 0.9721628), (7240, 0.68224114), (7242, 0.79035157), (7247, 0.78524476), (7249, 0.99813), (7254, 0.40050012), (7266, 0.9969994), (7268, 0.6956903), (7272, 0.99128777), (7273, 0.5620211), (7277, 0.9557874), (7280, 0.91473764), (7284, 0.9111146), (7285, 0.9931136), (7286, 0.6659307), (7293, 0.8813343), (7299, 0.41568005), (7310, 0.8427758), (7333, 0.95119166), (7335, 0.8727208), (7341, 0.9947574), (7351, 0.81801414), (7355, 0.9966276), (7359, 0.92861795), (7382, 0.81663597), (7388, 0.9565016), (7404, 0.73145854), (7414, 0.99778914), (7415, 0.8190916), (7421, 0.768712), (7424, 0.88791925), (7427, 0.9429923), (7434, 0.8283814), (7441, 0.69661254), (7442, 0.9767666), (7449, 0.9942543), (7455, 0.95139927), (7464, 0.83469045), (7467, 0.98625237), (7478, 0.7493663), (7502, 0.9086304), (7503, 0.9615375), (7510, 0.9976192), (7512, 0.86057264), (7529, 0.65928024), (7550, 0.6758549), (7554, 0.8913927), (7561, 0.7091626), (7569, 0.95187515), (7574, 0.7438941), (7575, 0.6721074), (7579, 0.85388595), (7585, 0.72906864), (7589, 0.53583914), (7592, 0.9090752), (7594, 0.84412605), (7606, 0.9942063), (7607, 0.8601397), (7617, 0.58639294), (7618, 0.9948655), (7624, 0.93854016), (7626, 0.84923327), (7633, 0.9530593), (7643, 0.7179141), (7649, 0.662447), (7666, 0.9689088), (7667, 0.8732232), (7691, 0.94160604), (7694, 0.9940188), (7695, 0.7979465), (7696, 0.9842443), (7698, 0.60205233), (7710, 0.5442808), (7713, 0.75565493), (7726, 0.5693461), (7736, 0.6500106), (7737, 0.95701337), (7743, 0.96694773), (7760, 0.8870544), (7763, 0.61150855), (7771, 0.6071473), (7806, 0.99403435), (7813, 0.92703867), (7815, 0.96600056), (7834, 0.9378737), (7843, 0.9546927), (7846, 0.87507766), (7847, 0.44527587), (7857, 0.68057907), (7877, 0.996792), (7885, 0.9908693), (7893, 0.6750764), (7901, 0.9969579), (7906, 0.6844269), (7914, 0.9678269), (7915, 0.5367992), (7917, 0.993189), (7931, 0.9796378), (7941, 0.98163384), (7956, 0.5000812), (7957, 0.97294915), (7963, 0.5801067), (7974, 0.9984939), (7977, 0.9595498), (7978, 0.7354634), (8008, 0.99803334), (8010, 0.47728997), (8029, 0.9808384), (8033, 0.77782154), (8035, 0.9435873), (8037, 0.99840194), (8045, 0.8461407), (8051, 0.73075825), (8053, 0.9286929), (8057, 0.7228127), (8059, 0.96250427), (8070, 0.916715), (8075, 0.99819416), (8076, 0.50687385), (8084, 0.99435884), (8098, 0.5381399), (8099, 0.84521514), (8101, 0.6465271), (8107, 0.9282931), (8111, 0.4947398), (8114, 0.9811352), (8119, 0.99802244), (8126, 0.81438315), (8130, 0.7682796), (8135, 0.90826416), (8140, 0.6382606), (8163, 0.8216417), (8164, 0.9939015), (8178, 0.9886868), (8179, 0.700984), (8181, 0.9986099), (8183, 0.9872593), (8186, 0.6161222), (8187, 0.9975987), (8213, 0.99112856), (8219, 0.98551613), (8226, 0.956481), (8227, 0.70312595), (8230, 0.9055895), (8231, 0.99300367), (8242, 0.65603113), (8257, 0.94756967), (8258, 0.9509897), (8262, 0.6460802), (8271, 0.6226313), (8281, 0.6400598), (8284, 0.79397154), (8287, 0.99028695), (8298, 0.8304225), (8300, 0.9850573), (8308, 0.95617944), (8310, 0.9438595), (8316, 0.7989637), (8320, 0.9447399), (8336, 0.60963553), (8338, 0.7106684), (8339, 0.93938875), (8341, 0.5235638), (8345, 0.99802715), (8347, 0.8547982), (8351, 0.9230073), (8352, 0.6731928), (8365, 0.56111306), (8369, 0.7929303), (8390, 0.9945372), (8404, 0.4194605), (8405, 0.6663096), (8411, 0.6634339), (8426, 0.98930526), (8427, 0.73031706), (8430, 0.9115379), (8437, 0.5566902), (8450, 0.52737314), (8459, 0.7638529), (8498, 0.7128158), (8503, 0.86557186), (8523, 0.9294362), (8525, 0.99709725), (8531, 0.99641067), (8563, 0.45643723), (8571, 0.97536916), (8575, 0.8554056), (8587, 0.9172149), (8594, 0.97803247), (8596, 0.99176395), (8598, 0.98463374), (8599, 0.7407061), (8606, 0.6207614), (8619, 0.9815485), (8620, 0.97200495), (8629, 0.9961592), (8636, 0.99471587), (8638, 0.5512697), (8647, 0.5890175), (8652, 0.876526), (8672, 0.9983485), (8683, 0.9841233), (8684, 0.84263253), (8691, 0.9637378), (8696, 0.7859972), (8697, 0.99755824), (8698, 0.91573083), (8708, 0.99364257), (8715, 0.81931615), (8734, 0.9863565), (8742, 0.90080416), (8745, 0.9364626), (8773, 0.8508198), (8787, 0.9895974), (8796, 0.55209565), (8817, 0.8117182), (8821, 0.80153906), (8829, 0.8316779), (8849, 0.7045022), (8876, 0.93534195), (8893, 0.5030004), (8894, 0.941699), (8901, 0.42833704), (8902, 0.7884849), (8903, 0.88492066), (8917, 0.9034044), (8933, 0.5675964), (8966, 0.7407408), (8973, 0.6509783), (8979, 0.41942647), (8994, 0.828994), (9007, 0.697028), (9031, 0.6712521), (9070, 0.47242096), (9085, 0.70116884), (9090, 0.59106416), (9103, 0.6576893), (9145, 0.88519585), (9146, 0.49131262), (9155, 0.7173189), (9169, 0.9738524), (9209, 0.98291343), (9219, 0.99708873), (9243, 0.7890712), (9264, 0.90194774), (9267, 0.54079854), (9269, 0.45991415), (9285, 0.79804295), (9297, 0.9943381), (9300, 0.8264773), (9304, 0.9932528), (9307, 0.9526418), (9313, 0.3745237), (9321, 0.9053425), (9322, 0.7242461), (9324, 0.612226), (9325, 0.9682621), (9326, 0.9160117), (9327, 0.7872647), (9332, 0.86891705), (9336, 0.8976752), (9345, 0.962375), (9351, 0.5821979), (9358, 0.78673106), (9368, 0.98597044), (9375, 0.83551276), (9379, 0.6833067), (9389, 0.50815374), (9395, 0.99663), (9396, 0.87522644), (9414, 0.80542827), (9416, 0.6927195), (9449, 0.99156827), (9456, 0.93779194), (9467, 0.9107824), (9469, 0.97421527), (9470, 0.8561258), (9472, 0.9157569), (9476, 0.8426346), (9483, 0.98183674), (9485, 0.5950036), (9493, 0.9429376), (9501, 0.9961902), (9505, 0.9235505), (9507, 0.5359658), (9517, 0.8753292), (9520, 0.62370133), (9528, 0.94410956), (9529, 0.7956647), (9535, 0.85720533), (9536, 0.69671345), (9548, 0.9042083), (9554, 0.5416619), (9557, 0.9165192), (9567, 0.776723), (9570, 0.9943674), (9582, 0.62479603), (9586, 0.8018079), (9601, 0.6118021), (9607, 0.49158263), (9612, 0.9068377), (9613, 0.9867148), (9616, 0.57860965), (9622, 0.7839024), (9626, 0.39352643), (9630, 0.92395276), (9638, 0.6643007), (9641, 0.99599683), (9646, 0.99614596), (9666, 0.9843129), (9668, 0.90357757), (9675, 0.9644374), (9678, 0.9126853), (9686, 0.967776), (9701, 0.976), (9704, 0.9446279), (9716, 0.7856188), (9718, 0.9211855), (9724, 0.96323043), (9732, 0.81570584), (9741, 0.73229915), (9744, 0.95277894), (9749, 0.9655236), (9750, 0.98930395), (9756, 0.7466477), (9761, 0.8080821), (9771, 0.60695046), (9790, 0.9814175), (9792, 0.92307925), (9797, 0.8541686), (9805, 0.4970927), (9810, 0.99066496), (9811, 0.9762054), (9825, 0.9467817), (9834, 0.9076368), (9836, 0.9929462), (9841, 0.75036085), (9853, 0.64683074), (9855, 0.65070575), (9859, 0.98912), (9864, 0.8742698), (9869, 0.9953002), (9879, 0.9878298), (9882, 0.9708402), (9890, 0.93471396), (9898, 0.92821085), (9902, 0.67247105), (9903, 0.7409042), (9904, 0.9280161), (9907, 0.95390344), (9908, 0.60019064), (9910, 0.9444328), (9914, 0.7334784), (9918, 0.8398536), (9921, 0.6603353), (9925, 0.8840459), (9929, 0.5850395), (9930, 0.4586754), (9935, 0.97526735), (9938, 0.97140133), (9941, 0.58617026), (9945, 0.9803658), (9950, 0.9663403), (9958, 0.9881269), (9970, 0.9966647), (9972, 0.99803096), (9974, 0.8838393), (9978, 0.9381885), (9979, 0.6328607), (9983, 0.58440936), (9989, 0.39425364), (9992, 0.50450885), (9998, 0.59424853), (10000, 0.88462085), (10003, 0.99919766), (10010, 0.64354086), (10012, 0.91468406), (10017, 0.93930554), (10018, 0.83937943), (10022, 0.674171), (10033, 0.54673594), (10035, 0.93890804), (10038, 0.6232062), (10041, 0.98917973), (10043, 0.9958546), (10044, 0.9178557), (10055, 0.6022828), (10060, 0.9709427), (10061, 0.38376933), (10064, 0.98916537), (10066, 0.98770034), (10072, 0.961404), (10082, 0.8281066), (10092, 0.9969247), (10093, 0.98637205), (10094, 0.9915876), (10096, 0.43149537), (10098, 0.8199947), (10110, 0.9872551), (10114, 0.631693), (10121, 0.6324009), (10133, 0.8989391), (10140, 0.98996115), (10142, 0.76846254), (10146, 0.78363), (10149, 0.66158414), (10150, 0.5857631), (10153, 0.99177516), (10155, 0.8454097), (10167, 0.49923906), (10175, 0.9961785), (10186, 0.8854556), (10187, 0.985642), (10190, 0.9821754), (10191, 0.9335834), (10195, 0.9571375), (10203, 0.92769253), (10218, 0.5814287), (10229, 0.99244267), (10237, 0.9923429), (10242, 0.9971834), (10244, 0.76248294), (10247, 0.9795862), (10248, 0.9822795), (10256, 0.9872104), (10258, 0.9926899), (10272, 0.98643714), (10294, 0.6715573), (10295, 0.9638688), (10304, 0.908695), (10316, 0.92089224), (10318, 0.8141014), (10327, 0.9964881), (10329, 0.4914986), (10330, 0.94521606), (10333, 0.77090776), (10351, 0.4575648), (10352, 0.93589026), (10366, 0.68593496), (10380, 0.92510337), (10381, 0.8080252), (10383, 0.8568256), (10384, 0.9597687), (10387, 0.97320956), (10389, 0.97858673), (10390, 0.994981), (10391, 0.9008737), (10392, 0.5774915), (10407, 0.7985072), (10412, 0.90383214), (10424, 0.9710343), (10426, 0.8044325), (10427, 0.9039848), (10431, 0.98026055), (10441, 0.9090646), (10443, 0.97787535), (10451, 0.97669435), (10457, 0.99111736), (10468, 0.7882278), (10470, 0.53390646), (10473, 0.58910644), (10478, 0.6782661), (10482, 0.9813291), (10483, 0.6827188), (10484, 0.9058782), (10485, 0.76242685), (10487, 0.8314291), (10488, 0.9503612), (10489, 0.6246046), (10490, 0.9036638), (10492, 0.9782072), (10498, 0.98628926), (10501, 0.51119393), (10506, 0.7537626), (10507, 0.99616915), (10516, 0.9918182), (10519, 0.86534536), (10529, 0.9680084), (10533, 0.635193), (10534, 0.92069685), (10549, 0.98267543), (10550, 0.85420024), (10552, 0.76280713), (10555, 0.9848007), (10577, 0.9805533), (10581, 0.9954615), (10583, 0.6848595), (10591, 0.7276211), (10592, 0.7957744), (10593, 0.99424934), (10597, 0.89715046), (10600, 0.9900259), (10602, 0.62953377), (10610, 0.754489), (10616, 0.55488205), (10637, 0.7784995), (10639, 0.6387946), (10640, 0.99561286), (10643, 0.9866729), (10644, 0.9975733), (10646, 0.4853622), (10652, 0.9816952), (10658, 0.9810017), (10667, 0.9935394), (10676, 0.55731046), (10689, 0.9686817), (10690, 0.98162365), (10697, 0.7468824), (10702, 0.5074143), (10704, 0.8789732), (10711, 0.9912747), (10713, 0.9947699), (10715, 0.80894506), (10718, 0.99786264), (10719, 0.986381), (10728, 0.82118917), (10729, 0.82384104), (10730, 0.72516346), (10738, 0.8113865), (10739, 0.92072475), (10752, 0.96379095), (10757, 0.9711594), (10762, 0.89743185), (10763, 0.7014039), (10764, 0.46054327), (10766, 0.9694426), (10778, 0.955755), (10811, 0.95986205), (10813, 0.88287866), (10825, 0.9530224), (10828, 0.5314214), (10840, 0.99398756), (10846, 0.6935201), (10848, 0.6249773), (10850, 0.47023442), (10857, 0.9977738), (10870, 0.88378406), (10874, 0.9914288), (10876, 0.73678803), (10882, 0.9658058), (10885, 0.7421608), (10907, 0.9600985), (10913, 0.97356343), (10918, 0.9559337), (10930, 0.9440456), (10934, 0.9919802), (10941, 0.91999567), (10949, 0.9865774), (10953, 0.97999007), (10957, 0.58407384), (10968, 0.8328214), (10969, 0.80220556), (10970, 0.6220604), (10975, 0.448356), (10992, 0.85387), (10993, 0.797862), (10997, 0.5029677), (11017, 0.7323037), (11019, 0.8976873), (11022, 0.81912106), (11048, 0.85353607), (11072, 0.98621005), (11093, 0.9323226), (11094, 0.9196662), (11097, 0.77354205), (11099, 0.5327815), (11102, 0.87320626), (11104, 0.7361877), (11106, 0.8633175), (11107, 0.9781748), (11115, 0.46054196), (11118, 0.73903936), (11142, 0.9751849), (11150, 0.958853), (11151, 0.5276473), (11152, 0.72013867), (11153, 0.83276016), (11154, 0.9954293), (11156, 0.4767524), (11157, 0.9980829), (11160, 0.66454065), (11161, 0.87816954), (11163, 0.87906694), (11172, 0.7980794), (11184, 0.99411136), (11196, 0.6031995), (11197, 0.7248076), (11203, 0.48673213), (11213, 0.6589325), (11215, 0.94823164), (11216, 0.57473147), (11218, 0.8090463), (11224, 0.51753473), (11238, 0.9582609), (11253, 0.8143505), (11254, 0.72159415), (11255, 0.78252447), (11257, 0.99660987), (11271, 0.49760246), (11272, 0.9730223), (11274, 0.69460815), (11278, 0.9508011), (11281, 0.67889404), (11301, 0.38166204), (11303, 0.99878246), (11315, 0.48326397), (11320, 0.69449663), (11327, 0.38522893), (11331, 0.6766937), (11333, 0.976077), (11337, 0.9980508), (11339, 0.89410627), (11340, 0.38477176), (11350, 0.5517127), (11355, 0.8970079), (11364, 0.80097115), (11366, 0.9812882), (11367, 0.94626915), (11375, 0.6785686), (11378, 0.94373834), (11422, 0.68119913), (11436, 0.83048815), (11444, 0.5959004), (11447, 0.8549621), (11450, 0.8171299), (11451, 0.9224249), (11452, 0.57813615), (11458, 0.70944536), (11461, 0.94398487), (11472, 0.90809494), (11475, 0.6867554), (11477, 0.9096294), (11491, 0.8924746), (11509, 0.86064583), (11513, 0.7625596), (11526, 0.68864566), (11527, 0.74288815), (11528, 0.9614084), (11541, 0.8776969), (11558, 0.9758873), (11563, 0.9935055), (11570, 0.6517968), (11572, 0.7642827), (11578, 0.9920134), (11581, 0.97104686), (11583, 0.9661344), (11589, 0.7673222), (11599, 0.99256986), (11625, 0.6108769), (11632, 0.9153626), (11642, 0.9366848), (11654, 0.7020632), (11659, 0.9881494), (11669, 0.9963158), (11670, 0.9629187), (11676, 0.6940923), (11681, 0.9764423), (11683, 0.82880735), (11690, 0.96955925), (11706, 0.9353817), (11712, 0.8455918), (11718, 0.9887876), (11719, 0.9340649), (11721, 0.6325893), (11739, 0.9918134), (11749, 0.9771423), (11752, 0.86324006), (11757, 0.77632153), (11778, 0.9826863), (11780, 0.6042766), (11795, 0.6544905), (11797, 0.8916845), (11810, 0.98034334), (11821, 0.88790214), (11841, 0.9385953), (11844, 0.8831601), (11858, 0.53605384), (11864, 0.9479055), (11867, 0.80403405), (11869, 0.9510129), (11877, 0.9641444), (11880, 0.94529474), (11894, 0.88078827), (11907, 0.72468626), (11909, 0.9644077), (11910, 0.8253794), (11913, 0.79128873), (11928, 0.98869866), (11932, 0.9941713), (11972, 0.99819416), (12001, 0.5892961), (12002, 0.9180874), (12024, 0.6063842), (12067, 0.82414955), (12071, 0.9955291), (12076, 0.9902564), (12077, 0.84435254), (12079, 0.5964278), (12080, 0.89156854), (12087, 0.91628563), (12099, 0.5890896), (12118, 0.8186581), (12157, 0.9962549), (12192, 0.9935388), (12197, 0.95641685), (12198, 0.83363336), (12199, 0.48772427), (12200, 0.94220567), (12204, 0.7218638), (12230, 0.9772809), (12248, 0.8827942), (12287, 0.76823276), (12288, 0.9823744), (12289, 0.9977196), (12305, 0.8239429), (12306, 0.5676967), (12313, 0.7515487), (12331, 0.65541184), (12332, 0.4534551), (12333, 0.9650311), (12336, 0.9806563), (12338, 0.86786324), (12347, 0.9586229), (12355, 0.98546785), (12366, 0.9705439), (12369, 0.96415085), (12372, 0.9740051), (12377, 0.5897776), (12379, 0.9262311), (12385, 0.7656375), (12389, 0.9284168), (12402, 0.9406173), (12403, 0.97274435), (12412, 0.9040949), (12413, 0.9366033), (12418, 0.6650476), (12420, 0.9987214), (12429, 0.86935174), (12431, 0.89850134), (12435, 0.9938199), (12436, 0.98434806), (12438, 0.9380393), (12439, 0.9906336), (12447, 0.9104502), (12451, 0.9681541), (12455, 0.994381), (12462, 0.9803703), (12465, 0.5037221), (12473, 0.98975325), (12477, 0.5072711), (12491, 0.7973563), (12494, 0.9834593), (12509, 0.892283), (12513, 0.98949105), (12515, 0.58553207), (12518, 0.8867886), (12522, 0.50135726), (12524, 0.99004817), (12534, 0.8870729), (12535, 0.74492896), (12546, 0.9304176), (12547, 0.96653247), (12548, 0.98993635), (12581, 0.55491596), (12583, 0.6757634), (12588, 0.94926894), (12611, 0.85640824), (12625, 0.8785798), (12638, 0.8214219), (12673, 0.99591994), (12674, 0.7641857), (12688, 0.91070354), (12692, 0.8446305), (12700, 0.50403523), (12707, 0.9199176), (12711, 0.98007786), (12730, 0.97898704), (12731, 0.8761897), (12736, 0.9963709), (12754, 0.72190386), (12756, 0.8060723), (12760, 0.9696624), (12781, 0.898376), (12788, 0.97988224), (12806, 0.71367204), (12810, 0.96500856), (12822, 0.9919303), (12845, 0.96832263), (12848, 0.9864915), (12852, 0.92356664), (12868, 0.97625035), (12881, 0.9877203), (12892, 0.9726605), (12895, 0.9974946), (12906, 0.97386736), (12914, 0.9779559), (12919, 0.8798968), (12925, 0.9438932), (12927, 0.61881614), (12937, 0.9807417), (12939, 0.6286091), (12945, 0.63266075), (12952, 0.9888427), (12970, 0.85670596), (12973, 0.96974516), (12985, 0.67652446), (12991, 0.9861691), (12997, 0.9916359), (13011, 0.9080743), (13014, 0.7050013), (13018, 0.77377367), (13019, 0.8327605), (13022, 0.5386808), (13030, 0.6603814), (13032, 0.6554803), (13047, 0.92167526), (13050, 0.94283706), (13063, 0.9452517), (13085, 0.5626105), (13091, 0.59082943), (13093, 0.92573166), (13101, 0.9844007), (13105, 0.88158035), (13111, 0.62935865), (13114, 0.960706), (13118, 0.6021341), (13129, 0.72868305), (13131, 0.6687179), (13132, 0.44355285), (13136, 0.9943901), (13143, 0.8212689), (13148, 0.83952254), (13151, 0.9563037), (13156, 0.68410456), (13168, 0.9953282), (13171, 0.9441436), (13178, 0.95085144), (13183, 0.39901876), (13188, 0.49608338), (13197, 0.5061782), (13252, 0.998445), (13276, 0.9155318), (13279, 0.9695386), (13293, 0.777903), (13311, 0.6093912), (13323, 0.5918666), (13330, 0.9110059), (13349, 0.9508724), (13360, 0.7873558), (13364, 0.74695104), (13365, 0.9956291), (13366, 0.75452805), (13379, 0.95189434), (13390, 0.976355), (13392, 0.49753928), (13419, 0.9911334), (13424, 0.90363896), (13432, 0.97248816), (13438, 0.8578454), (13450, 0.72650754), (13460, 0.87289387), (13475, 0.6822714), (13477, 0.7445965), (13481, 0.9947214), (13487, 0.7577413), (13490, 0.5489003), (13492, 0.9808899), (13494, 0.99127895), (13501, 0.980448), (13547, 0.8462344), (13548, 0.7301868), (13554, 0.70824903), (13561, 0.96890163), (13572, 0.993704), (13596, 0.94866025), (13603, 0.97306734), (13604, 0.98685753), (13608, 0.8214453), (13618, 0.9498657), (13622, 0.8023257), (13623, 0.64067644), (13627, 0.9957936), (13634, 0.83995056), (13646, 0.6478567), (13648, 0.9309615), (13650, 0.59282637), (13663, 0.5166081), (13670, 0.7320657), (13695, 0.81142735), (13700, 0.8121261), (13713, 0.9909378), (13719, 0.5682633), (13720, 0.972445), (13728, 0.99495417), (13773, 0.7945547), (13792, 0.6540818), (13797, 0.48849097), (13798, 0.84165585), (13807, 0.6446358), (13811, 0.7402695), (13823, 0.9484153), (13824, 0.56324923), (13828, 0.93068206), (13836, 0.97926164), (13858, 0.86704165), (13860, 0.9922267), (13861, 0.7769418), (13881, 0.97170466), (13896, 0.99637777), (13918, 0.74391174), (13958, 0.991606), (13966, 0.90178424), (13982, 0.9418877), (13995, 0.766757), (14001, 0.9650331), (14041, 0.98179436), (14046, 0.8560582), (14049, 0.7863957), (14064, 0.8212012), (14065, 0.99584574), (14067, 0.98174506), (14072, 0.9675532), (14073, 0.86421967), (14075, 0.8274551), (14082, 0.9755044), (14083, 0.7216942), (14091, 0.9094667), (14101, 0.86609703), (14106, 0.9116973), (14110, 0.70356554), (14112, 0.89851695), (14115, 0.512205), (14124, 0.71402174), (14127, 0.6976537), (14132, 0.5292258), (14134, 0.84229296), (14151, 0.9797152), (14152, 0.5870782), (14157, 0.99822813), (14177, 0.9798467), (14187, 0.6684564), (14188, 0.73062676), (14194, 0.67060655), (14195, 0.56118304), (14196, 0.6418531), (14197, 0.99583167), (14203, 0.907723), (14221, 0.58526057), (14243, 0.9645989), (14246, 0.74085), (14250, 0.6544189), (14259, 0.46182042), (14262, 0.9967692), (14267, 0.99556136), (14274, 0.99664515), (14278, 0.9886131), (14281, 0.85187274), (14285, 0.80364686), (14312, 0.99042916), (14314, 0.9919348), (14319, 0.6019935), (14353, 0.9839146), (14356, 0.9892804), (14361, 0.9474065), (14368, 0.99457836), (14369, 0.69698167), (14380, 0.97610176), (14388, 0.83151835), (14394, 0.9162342), (14397, 0.45055863), (14411, 0.9710487), (14425, 0.522325), (14452, 0.9147058), (14533, 0.7997311), (14534, 0.99745244), (14554, 0.8736419), (14620, 0.8510837), (14630, 0.97789997), (14668, 0.92055213), (14669, 0.9597763), (14683, 0.9989126), (14684, 0.9501403), (14690, 0.77283454), (14695, 0.5102271), (14734, 0.8304388), (14738, 0.99023914), (14764, 0.9939714), (14765, 0.9072826), (14766, 0.9903594), (14768, 0.9813337), (14773, 0.6548623), (14776, 0.90383106), (14778, 0.96980697), (14798, 0.997758), (14802, 0.9781374), (14808, 0.81277955), (14825, 0.9043044), (14829, 0.897256), (14831, 0.9918492), (14838, 0.9126113), (14840, 0.9426245), (14842, 0.42647868), (14856, 0.9798701), (14860, 0.7208698), (14874, 0.9965802), (14877, 0.8687364), (14882, 0.9427598), (14884, 0.7203998), (14896, 0.38170227), (14925, 0.99595284), (14932, 0.99094135), (14933, 0.99414766), (14935, 0.9892281), (14938, 0.6642473), (14939, 0.8556462), (14943, 0.98867595), (14944, 0.89930016), (14946, 0.9918509), (14947, 0.5257377), (14948, 0.85849816), (14949, 0.8088455), (14952, 0.99308866), (14953, 0.9976253), (14955, 0.6977593), (14958, 0.57362163), (14964, 0.50439906), (14973, 0.9958156), (14977, 0.966881), (14981, 0.67361677), (14985, 0.99810433), (14992, 0.7881608), (14998, 0.9914391), (14999, 0.96466285), (15001, 0.6449966), (15016, 0.8332162), (15018, 0.9914147), (15024, 0.9639407), (15026, 0.9964903), (15028, 0.59008944), (15030, 0.99793845), (15041, 0.4157027), (15054, 0.9785422), (15063, 0.734554), (15108, 0.84721357), (15110, 0.6234169), (15114, 0.7041611), (15139, 0.9935958), (15141, 0.9547763), (15151, 0.85787696), (15153, 0.9584225), (15158, 0.9761194), (15164, 0.8499482), (15170, 0.948259), (15171, 0.60657644), (15174, 0.9309369), (15180, 0.99765044), (15182, 0.9831042), (15184, 0.5259563), (15186, 0.92369694), (15196, 0.98262805), (15200, 0.62277836), (15227, 0.9539679), (15232, 0.9398801), (15234, 0.9755156), (15236, 0.9932405), (15245, 0.7549803), (15263, 0.9723016), (15265, 0.9915901), (15280, 0.5231103), (15297, 0.9983949), (15325, 0.9902692), (15335, 0.52813524), (15342, 0.9934881), (15363, 0.99683607), (15367, 0.73684746), (15372, 0.5257885), (15382, 0.9944112), (15386, 0.9767462), (15390, 0.64409965), (15394, 0.9978169), (15401, 0.8080535), (15403, 0.98989993), (15408, 0.99482346), (15436, 0.76318455), (15489, 0.93281764), (15493, 0.85894066), (15495, 0.9522903), (15496, 0.5467911), (15499, 0.5179874), (15504, 0.54930204), (15510, 0.8466475), (15514, 0.92268723), (15516, 0.99724567), (15519, 0.7832658), (15522, 0.9977805), (15529, 0.9739207), (15531, 0.5400888), (15532, 0.7923222), (15534, 0.99670744), (15535, 0.9987447), (15537, 0.5762717), (15542, 0.764205), (15546, 0.99652964), (15550, 0.9983341), (15551, 0.880612), (15555, 0.99442357), (15563, 0.66883814), (15565, 0.646457), (15576, 0.96095216), (15610, 0.7223528), (15613, 0.99132967), (15614, 0.5490699), (15625, 0.6365341), (15630, 0.93491894), (15634, 0.96210843), (15636, 0.6759366), (15640, 0.8359904), (15647, 0.9466156), (15649, 0.99258655), (15651, 0.9521528), (15655, 0.9713606), (15660, 0.99851686), (15662, 0.96428275), (15665, 0.94070804), (15667, 0.5228606), (15675, 0.9870006), (15676, 0.9468383), (15677, 0.8597688), (15680, 0.84992135), (15681, 0.9982407), (15684, 0.43389022), (15686, 0.54748535), (15703, 0.4736191), (15704, 0.9951887), (15710, 0.5142082), (15716, 0.99786204), (15723, 0.9970733), (15725, 0.9934754), (15727, 0.9769637), (15728, 0.93862605), (15734, 0.9425382), (15735, 0.99814105), (15736, 0.99813783), (15741, 0.6649091), (15742, 0.9877984), (15751, 0.5292236), (15754, 0.50920075), (15761, 0.64688736), (15768, 0.8983593), (15775, 0.90919274), (15799, 0.77129287), (15811, 0.997244), (15822, 0.9946051), (15823, 0.972868), (15840, 0.8960305), (15842, 0.94498175), (15844, 0.62268114), (15848, 0.4994567), (15853, 0.9950772), (15854, 0.7817782), (15859, 0.8196888), (15862, 0.6303777), (15864, 0.98441017), (15870, 0.76165307), (15898, 0.8057755), (15903, 0.99399006), (15916, 0.65659326), (15925, 0.97243685), (15928, 0.99410385), (15929, 0.68147933), (15934, 0.4882552), (15936, 0.95131207), (15942, 0.9795308), (15943, 0.99595827), (15962, 0.8232779), (15965, 0.47613537), (15974, 0.989988), (15985, 0.99652416), (15988, 0.977729), (15991, 0.9806786), (15998, 0.6578792), (16000, 0.9740641), (16036, 0.7515059), (16037, 0.97866803), (16042, 0.9979917), (16049, 0.73660696), (16052, 0.99375194), (16057, 0.85304075), (16059, 0.8310158), (16062, 0.9932052), (16065, 0.6110937), (16068, 0.93383604), (16069, 0.9314471), (16073, 0.58769965), (16074, 0.93858993), (16076, 0.9987203), (16077, 0.9955941), (16082, 0.6100047), (16090, 0.46409726), (16095, 0.99563867), (16096, 0.9349919), (16101, 0.93441176), (16105, 0.9585554), (16107, 0.9978357), (16108, 0.6819845), (16113, 0.9951918), (16118, 0.56397337), (16124, 0.9890482), (16132, 0.96516055), (16135, 0.9925729), (16137, 0.46916667), (16139, 0.9941011), (16145, 0.94547683), (16146, 0.98735577), (16148, 0.8319285), (16155, 0.9832275), (16156, 0.95216817), (16157, 0.9142328), (16159, 0.8662981), (16163, 0.9538605), (16168, 0.9847882), (16169, 0.970205), (16172, 0.92403746), (16173, 0.48662007), (16179, 0.98243195), (16194, 0.9528204), (16198, 0.9945839), (16199, 0.96838045), (16201, 0.9762453), (16202, 0.96634746), (16210, 0.98810893), (16226, 0.97581905), (16237, 0.76463586), (16238, 0.98163694), (16241, 0.993429), (16250, 0.9987897), (16262, 0.99673754), (16267, 0.97360194), (16278, 0.6431343), (16366, 0.9936786), (16397, 0.98620516), (16407, 0.9885789), (16418, 0.8780711), (16464, 0.9965959), (16468, 0.9145843), (16532, 0.9678413), (16535, 0.87913316), (16542, 0.99495405), (16572, 0.7589696), (16596, 0.91213983), (16640, 0.9903555), (16799, 0.8453891), (16800, 0.9987662), (16803, 0.78193295), (16808, 0.5924232), (16813, 0.56370825), (16815, 0.9025375), (16817, 0.87873405), (16818, 0.9983444), (16819, 0.8993265), (16830, 0.67396307), (16831, 0.8277901), (16832, 0.73077375), (16833, 0.6067471), (16835, 0.99695647), (16838, 0.96257025), (16840, 0.92528147), (16855, 0.6753648), (16857, 0.8234117), (16859, 0.99801195), (16864, 0.66173553), (16873, 0.8970899), (16881, 0.84457767), (16886, 0.8566347), (16893, 0.62357885), (16895, 0.8889532), (16896, 0.9963883), (16897, 0.99223375), (16902, 0.9795752), (16907, 0.7202992), (16914, 0.9947125), (16915, 0.9625893), (16923, 0.9944648), (16928, 0.8852471), (16933, 0.616928), (16937, 0.63466644), (16939, 0.936998), (16942, 0.87753737), (16948, 0.49469608), (16952, 0.700882), (16956, 0.9660302), (16958, 0.9268646), (16962, 0.9691739), (16963, 0.935627), (16965, 0.9972609), (16966, 0.6626774), (16982, 0.90614605), (16987, 0.9762817), (16988, 0.97577614), (16993, 0.37627998), (16995, 0.973865), (17006, 0.8833868), (17017, 0.9959293), (17020, 0.5795806), (17025, 0.9881841), (17041, 0.652811), (17098, 0.99057955), (17099, 0.8814399), (17100, 0.9944733), (17101, 0.9155598), (17102, 0.8602449), (17106, 0.6989058), (17109, 0.89924395), (17122, 0.9924218), (17124, 0.92091507), (17128, 0.99322504), (17129, 0.98343325), (17135, 0.98832256), (17142, 0.9666127), (17144, 0.99415576), (17150, 0.99833006), (17153, 0.9943228), (17154, 0.9967705), (17161, 0.9846021), (17172, 0.9731555), (17175, 0.83212376), (17182, 0.94806695), (17184, 0.9725372), (17194, 0.98093045), (17197, 0.9977482), (17199, 0.661437), (17207, 0.99536526), (17211, 0.8981077), (17253, 0.9218317), (17272, 0.98793447), (17274, 0.98598355), (17275, 0.90080345), (17280, 0.54517335), (17285, 0.8157005), (17286, 0.64512616), (17287, 0.9641347), (17294, 0.9965243), (17296, 0.4985866), (17329, 0.976024), (17336, 0.94039613), (17340, 0.9814874), (17341, 0.99719244), (17348, 0.99013174), (17375, 0.9938784), (17382, 0.98428786), (17418, 0.6291434), (17488, 0.8000981), (17503, 0.7388045), (17543, 0.9784333), (17559, 0.6167996), (17561, 0.9953046), (17610, 0.8779293), (17670, 0.7098711), (17823, 0.970282), (17824, 0.96137893), (17826, 0.87462384), (17828, 0.88829887), (17831, 0.9891747), (17839, 0.99315757), (17850, 0.99159765), (17851, 0.7756874), (17855, 0.8470358), (17861, 0.9905578), (17879, 0.9694476), (17880, 0.9946907), (17882, 0.8372005), (17884, 0.9399361), (17897, 0.98236483), (17901, 0.9687837), (17902, 0.9984566), (17909, 0.9908868), (17915, 0.99661475), (17916, 0.7779937), (17918, 0.5196541), (17937, 0.9858), (17942, 0.99654335), (17943, 0.9658848), (17950, 0.9878533), (17998, 0.90607077), (18000, 0.945832), (18003, 0.9769598), (18033, 0.98053545), (18037, 0.70204294), (18038, 0.9873618), (18043, 0.9837757), (18048, 0.9471953), (18056, 0.98830473), (18058, 0.99430436), (18065, 0.88227725), (18069, 0.9513913), (18071, 0.9880712), (18072, 0.95883775), (18078, 0.8356469), (18080, 0.8903487), (18089, 0.7477558), (18091, 0.9679134), (18092, 0.9751081), (18097, 0.99591273), (18099, 0.9691101), (18101, 0.97483134), (18111, 0.9942577), (18112, 0.98607033), (18131, 0.5657919), (18144, 0.6818614), (18151, 0.99551326), (18156, 0.68382317), (18173, 0.979614), (18176, 0.9267389), (18197, 0.9721963), (18204, 0.50357974), (18213, 0.8049892), (18214, 0.998063), (18221, 0.6120145), (18224, 0.9243862), (18231, 0.948454), (18240, 0.98879516), (18242, 0.8198882), (18250, 0.8867824), (18256, 0.9251452), (18260, 0.9823949), (18266, 0.3710747), (18284, 0.5738251), (18295, 0.8879351), (18297, 0.9981489), (18305, 0.8351008), (18318, 0.9885908), (18342, 0.9951434), (18350, 0.7249113), (18351, 0.9982779), (18357, 0.99491656), (18362, 0.9915024), (18364, 0.5613434), (18366, 0.9840373), (18376, 0.67757434), (18381, 0.96402633), (18387, 0.982369), (18454, 0.49567983), (18460, 0.5094939), (18467, 0.8863091), (18469, 0.79817545), (18473, 0.9881097), (18480, 0.9651451), (18481, 0.71633154), (18488, 0.9908428), (18499, 0.639809), (18500, 0.97880346), (18511, 0.99617445), (18513, 0.7536689), (18515, 0.97021264), (18521, 0.99346304), (18522, 0.90637994), (18523, 0.72498477), (18524, 0.9499126), (18525, 0.9714038), (18527, 0.9820477), (18532, 0.92555374), (18538, 0.68778545), (18552, 0.9892203), (18557, 0.9355139), (18573, 0.5930546), (18585, 0.97293514), (18588, 0.67450124), (18590, 0.9736135), (18592, 0.98793703), (18593, 0.579756), (18598, 0.9886235), (18605, 0.60472345), (18609, 0.6949248), (18614, 0.9214836), (18617, 0.9651281), (18619, 0.998321), (18621, 0.4923277), (18622, 0.97754943), (18626, 0.9623987), (18634, 0.9390639), (18636, 0.9958259), (18645, 0.98959094), (18646, 0.9902305), (18647, 0.97945476), (18649, 0.9788775), (18650, 0.9706243), (18653, 0.8621911), (18656, 0.988811), (18657, 0.9854917), (18658, 0.96772534), (18659, 0.91683894), (18660, 0.75178015), (18664, 0.98611426), (18668, 0.9519892), (18671, 0.5008602), (18672, 0.9039833), (18675, 0.3984115), (18677, 0.78327554), (18692, 0.78090096), (18701, 0.9962721), (18704, 0.94999427), (18708, 0.8383677), (18710, 0.9436636), (18717, 0.81925607), (18750, 0.89484537), (18752, 0.9007638), (18756, 0.6274312), (18757, 0.9881247), (18758, 0.9644672), (18766, 0.9245043), (18793, 0.56886035), (18797, 0.85952127), (18800, 0.7966677), (18806, 0.9421505), (18826, 0.99132544), (18829, 0.6842595), (18830, 0.51721), (18831, 0.96759415), (18832, 0.9787758), (18835, 0.6963725), (18837, 0.91686684), (18847, 0.7199823), (18854, 0.99791676), (18868, 0.971199), (18883, 0.98439723), (18885, 0.5112317), (18897, 0.9631282), (18905, 0.92599213), (18906, 0.7394488), (18908, 0.9928698), (18913, 0.96762913), (18936, 0.5019399), (18953, 0.9797362), (18954, 0.8522234), (18957, 0.56664485), (18959, 0.9703044), (18963, 0.9979638), (18966, 0.61814773), (18970, 0.95098907), (18974, 0.6695006), (18982, 0.98459345), (18992, 0.5495674), (18993, 0.75801396), (18999, 0.6878968), (19001, 0.9449495), (19015, 0.9665781), (19017, 0.85683036), (19020, 0.65064234), (19021, 0.94587183), (19025, 0.997652), (19027, 0.99564904), (19028, 0.72483325), (19035, 0.9680384), (19040, 0.99850595), (19042, 0.5063276), (19048, 0.93393874), (19049, 0.99721104), (19050, 0.9892069), (19056, 0.96062636), (19063, 0.99232167), (19067, 0.94242364), (19071, 0.5053031), (19076, 0.92340165), (19077, 0.99790996), (19079, 0.9527412), (19085, 0.9921523), (19094, 0.82721084), (19099, 0.9764339), (19105, 0.91636074), (19136, 0.88555765), (19137, 0.7313524), (19140, 0.9431096), (19143, 0.67513674), (19146, 0.61464065), (19148, 0.8573904), (19151, 0.90656203), (19162, 0.77129287), (19174, 0.997244), (19185, 0.9946051), (19186, 0.972868), (19202, 0.69988817), (19211, 0.8864987), (19217, 0.99200505), (19221, 0.9885666), (19224, 0.9137326), (19225, 0.9764084), (19230, 0.9359607), (19236, 0.9541172), (19237, 0.52456796), (19243, 0.9939177), (19246, 0.99474514), (19251, 0.9895196), (19262, 0.9929132), (19263, 0.8496437), (19264, 0.98951644), (19289, 0.9961733), (19290, 0.9363931), (19292, 0.9541232), (19296, 0.93201286), (19304, 0.4913714), (19316, 0.9466261), (19318, 0.95573276), (19324, 0.95478344), (19325, 0.95351505), (19331, 0.93247336), (19335, 0.95574486), (19336, 0.9913674), (19356, 0.9900974), (19364, 0.64051616), (19366, 0.56372), (19372, 0.9958728), (19373, 0.70350385), (19379, 0.984574), (19389, 0.99793184), (19392, 0.92260766), (19397, 0.40171307), (19414, 0.9730363), (19423, 0.6079558), (19429, 0.6340478), (19432, 0.9357511), (19440, 0.9007745), (19452, 0.79239404), (19456, 0.98889786), (19462, 0.65380526), (19464, 0.99343514), (19467, 0.34559977), (19468, 0.9951715), (19481, 0.9160215), (19486, 0.77621144), (19509, 0.9947319), (19528, 0.976611), (19545, 0.99697673), (19571, 0.9236869), (19590, 0.9799785), (19593, 0.9600176), (19605, 0.78945744), (19606, 0.9957838), (19611, 0.99439335), (19615, 0.908817), (19624, 0.9985324), (19625, 0.79435086), (19626, 0.79988384), (19639, 0.6502447), (19644, 0.8180923), (19653, 0.9263097), (19662, 0.944679), (19666, 0.95046), (19672, 0.99815995), (19699, 0.98989), (19704, 0.84609425), (19706, 0.86606085), (19707, 0.67973393), (19726, 0.72864443), (19729, 0.7162046), (19733, 0.99193233), (19738, 0.6363108), (19742, 0.95607644), (19746, 0.9234289), (19747, 0.9233303), (19750, 0.5155635), (19752, 0.54641676), (19753, 0.9231469), (19756, 0.99869615), (19760, 0.9822611), (19761, 0.9643466), (19762, 0.37459242), (19766, 0.9676971), (19767, 0.92468876), (19772, 0.9911265), (19774, 0.51873314), (19775, 0.9869004), (19785, 0.9970276), (19787, 0.912614), (19795, 0.526642), (19805, 0.986072), (19825, 0.99723923), (19826, 0.9798391), (19827, 0.5568419), (19841, 0.9604494), (19843, 0.9432064), (19846, 0.5828203), (19861, 0.98597986), (19862, 0.99762326), (19864, 0.97093934), (19867, 0.74154806), (19874, 0.7449923), (19880, 0.794192), (19884, 0.77522993), (19886, 0.9940848), (19894, 0.99257), (19900, 0.8502951), (19905, 0.99561006), (19908, 0.9828053), (19915, 0.8157765), (19916, 0.7971381), (19919, 0.9855458), (19929, 0.44423568), (19960, 0.8822806), (19965, 0.6576209), (19970, 0.9912503), (19983, 0.8051823), (19992, 0.9408719), (19995, 0.9802269), (19996, 0.99140596), (20001, 0.8979767), (20006, 0.9960537), (20014, 0.66511834), (20019, 0.95342493), (20021, 0.99099535), (20024, 0.79353803), (20032, 0.89251363), (20038, 0.9898359), (20040, 0.7322636), (20060, 0.8808334), (20063, 0.77648044), (20070, 0.49056125), (20074, 0.6828009), (20077, 0.9980452), (20079, 0.50958836), (20140, 0.70003647), (20154, 0.4380897), (20156, 0.8803492), (20161, 0.7831556), (20164, 0.5076934), (20172, 0.72303873), (20176, 0.76639074), (20186, 0.95371604), (20187, 0.9453368), (20197, 0.74683565), (20198, 0.9917617), (20217, 0.98885685), (20233, 0.80327153), (20242, 0.99505806), (20251, 0.94658434), (20252, 0.926015), (20264, 0.73758334), (20266, 0.99643046), (20271, 0.42202246), (20274, 0.9846469), (20278, 0.8827199), (20291, 0.9353774), (20296, 0.7115545), (20301, 0.9179149), (20319, 0.9938467), (20330, 0.9236326), (20332, 0.97082), (20340, 0.99158734), (20341, 0.8318608), (20348, 0.6481544), (20363, 0.97276187), (20400, 0.98495144), (20418, 0.9978446), (20423, 0.5561897), (20424, 0.98419327), (20441, 0.6449707), (20446, 0.96279746), (20448, 0.84223646), (20450, 0.977122), (20458, 0.6122084), (20459, 0.9837472), (20481, 0.90718997), (20491, 0.95873225), (20492, 0.9928433), (20494, 0.98314697), (20496, 0.73990256), (20499, 0.9980088)]\n"
          ]
        }
      ]
    },
    {
      "cell_type": "code",
      "execution_count": null,
      "metadata": {
        "id": "-NFqA78Tf1tz"
      },
      "outputs": [],
      "source": [
        "import pickle \n",
        "with open(\"gdrive/My Drive/ML/clusters-8.pkl\", \"wb\") as pkl_handle:\n",
        "\tpickle.dump(clusters, pkl_handle)"
      ]
    },
    {
      "cell_type": "code",
      "execution_count": null,
      "metadata": {
        "id": "roT6k5A0f-do"
      },
      "outputs": [],
      "source": [
        "with open(\"gdrive/My Drive/ML/clusters-8.pkl\", \"rb\") as pkl_handle:\n",
        "\tclusters_copy = pickle.load(pkl_handle)"
      ]
    },
    {
      "cell_type": "code",
      "source": [
        "print(clusters_copy[8])"
      ],
      "metadata": {
        "colab": {
          "base_uri": "https://localhost:8080/"
        },
        "id": "rlSVfg5_L0ik",
        "outputId": "737aaed5-f14a-4efa-98e2-b10f36568402"
      },
      "execution_count": null,
      "outputs": [
        {
          "output_type": "stream",
          "name": "stdout",
          "text": [
            "[]\n"
          ]
        }
      ]
    },
    {
      "cell_type": "code",
      "source": [],
      "metadata": {
        "id": "XdyVz5-GMSgp"
      },
      "execution_count": null,
      "outputs": []
    },
    {
      "cell_type": "code",
      "source": [],
      "metadata": {
        "id": "eazX9i4oMSi3"
      },
      "execution_count": null,
      "outputs": []
    },
    {
      "cell_type": "code",
      "source": [],
      "metadata": {
        "id": "zeXSfCDZMSll"
      },
      "execution_count": null,
      "outputs": []
    },
    {
      "cell_type": "code",
      "execution_count": null,
      "metadata": {
        "id": "ZbpVYqz8g39S"
      },
      "outputs": [],
      "source": [
        "import pickle \n",
        "\n",
        "with open(\"/content/sample_data/x_data-20500.pkl\", \"wb\") as pkl_handle:\n",
        "\tpickle.dump(x_data, pkl_handle)"
      ]
    },
    {
      "cell_type": "code",
      "execution_count": null,
      "metadata": {
        "id": "besTqOLlhEU-"
      },
      "outputs": [],
      "source": [
        "with open(\"x_data-20500.pkl\", \"rb\") as pkl_handle:\n",
        "\tx_data_copy = pickle.load(pkl_handle)"
      ]
    },
    {
      "cell_type": "code",
      "execution_count": null,
      "metadata": {
        "colab": {
          "base_uri": "https://localhost:8080/"
        },
        "id": "eXlT1SALhOjR",
        "outputId": "1c1d96a6-be2a-4f98-fb24-9d855059a1cc"
      },
      "outputs": [
        {
          "data": {
            "text/plain": [
              "array([[[[255., 255., 255.],\n",
              "         [255., 255., 255.],\n",
              "         [255., 255., 255.],\n",
              "         ...,\n",
              "         [255., 255., 255.],\n",
              "         [255., 255., 255.],\n",
              "         [255., 255., 255.]],\n",
              "\n",
              "        [[255., 255., 255.],\n",
              "         [255., 255., 255.],\n",
              "         [255., 255., 255.],\n",
              "         ...,\n",
              "         [255., 255., 255.],\n",
              "         [255., 255., 255.],\n",
              "         [255., 255., 255.]],\n",
              "\n",
              "        [[255., 255., 255.],\n",
              "         [255., 255., 255.],\n",
              "         [255., 255., 255.],\n",
              "         ...,\n",
              "         [255., 255., 255.],\n",
              "         [255., 255., 255.],\n",
              "         [255., 255., 255.]],\n",
              "\n",
              "        ...,\n",
              "\n",
              "        [[255., 255., 255.],\n",
              "         [255., 255., 255.],\n",
              "         [255., 255., 255.],\n",
              "         ...,\n",
              "         [255., 255., 255.],\n",
              "         [255., 255., 255.],\n",
              "         [255., 255., 255.]],\n",
              "\n",
              "        [[255., 255., 255.],\n",
              "         [255., 255., 255.],\n",
              "         [255., 255., 255.],\n",
              "         ...,\n",
              "         [255., 255., 255.],\n",
              "         [255., 255., 255.],\n",
              "         [255., 255., 255.]],\n",
              "\n",
              "        [[255., 255., 255.],\n",
              "         [255., 255., 255.],\n",
              "         [255., 255., 255.],\n",
              "         ...,\n",
              "         [255., 255., 255.],\n",
              "         [255., 255., 255.],\n",
              "         [255., 255., 255.]]],\n",
              "\n",
              "\n",
              "       [[[255., 255., 255.],\n",
              "         [255., 255., 255.],\n",
              "         [255., 255., 255.],\n",
              "         ...,\n",
              "         [255., 255., 255.],\n",
              "         [255., 255., 255.],\n",
              "         [255., 255., 255.]],\n",
              "\n",
              "        [[255., 255., 255.],\n",
              "         [255., 255., 255.],\n",
              "         [255., 255., 255.],\n",
              "         ...,\n",
              "         [255., 255., 255.],\n",
              "         [255., 255., 255.],\n",
              "         [255., 255., 255.]],\n",
              "\n",
              "        [[255., 255., 255.],\n",
              "         [255., 255., 255.],\n",
              "         [255., 255., 255.],\n",
              "         ...,\n",
              "         [255., 255., 255.],\n",
              "         [255., 255., 255.],\n",
              "         [255., 255., 255.]],\n",
              "\n",
              "        ...,\n",
              "\n",
              "        [[255., 255., 255.],\n",
              "         [255., 255., 255.],\n",
              "         [255., 255., 255.],\n",
              "         ...,\n",
              "         [255., 255., 255.],\n",
              "         [255., 255., 255.],\n",
              "         [255., 255., 255.]],\n",
              "\n",
              "        [[255., 255., 255.],\n",
              "         [255., 255., 255.],\n",
              "         [255., 255., 255.],\n",
              "         ...,\n",
              "         [255., 255., 255.],\n",
              "         [255., 255., 255.],\n",
              "         [255., 255., 255.]],\n",
              "\n",
              "        [[255., 255., 255.],\n",
              "         [255., 255., 255.],\n",
              "         [255., 255., 255.],\n",
              "         ...,\n",
              "         [255., 255., 255.],\n",
              "         [255., 255., 255.],\n",
              "         [255., 255., 255.]]],\n",
              "\n",
              "\n",
              "       [[[255., 255., 255.],\n",
              "         [255., 255., 255.],\n",
              "         [255., 255., 255.],\n",
              "         ...,\n",
              "         [255., 255., 255.],\n",
              "         [255., 255., 255.],\n",
              "         [255., 255., 255.]],\n",
              "\n",
              "        [[255., 255., 255.],\n",
              "         [255., 255., 255.],\n",
              "         [255., 255., 255.],\n",
              "         ...,\n",
              "         [255., 255., 255.],\n",
              "         [255., 255., 255.],\n",
              "         [255., 255., 255.]],\n",
              "\n",
              "        [[255., 255., 255.],\n",
              "         [255., 255., 255.],\n",
              "         [255., 255., 255.],\n",
              "         ...,\n",
              "         [255., 255., 255.],\n",
              "         [255., 255., 255.],\n",
              "         [255., 255., 255.]],\n",
              "\n",
              "        ...,\n",
              "\n",
              "        [[255., 255., 255.],\n",
              "         [255., 255., 255.],\n",
              "         [255., 255., 255.],\n",
              "         ...,\n",
              "         [255., 255., 255.],\n",
              "         [255., 255., 255.],\n",
              "         [255., 255., 255.]],\n",
              "\n",
              "        [[255., 255., 255.],\n",
              "         [255., 255., 255.],\n",
              "         [255., 255., 255.],\n",
              "         ...,\n",
              "         [255., 255., 255.],\n",
              "         [255., 255., 255.],\n",
              "         [255., 255., 255.]],\n",
              "\n",
              "        [[255., 255., 255.],\n",
              "         [255., 255., 255.],\n",
              "         [255., 255., 255.],\n",
              "         ...,\n",
              "         [255., 255., 255.],\n",
              "         [255., 255., 255.],\n",
              "         [255., 255., 255.]]],\n",
              "\n",
              "\n",
              "       ...,\n",
              "\n",
              "\n",
              "       [[[255., 255., 255.],\n",
              "         [255., 255., 255.],\n",
              "         [255., 255., 255.],\n",
              "         ...,\n",
              "         [255., 255., 255.],\n",
              "         [255., 255., 255.],\n",
              "         [255., 255., 255.]],\n",
              "\n",
              "        [[255., 255., 255.],\n",
              "         [255., 255., 255.],\n",
              "         [255., 255., 255.],\n",
              "         ...,\n",
              "         [255., 255., 255.],\n",
              "         [255., 255., 255.],\n",
              "         [255., 255., 255.]],\n",
              "\n",
              "        [[255., 255., 255.],\n",
              "         [255., 255., 255.],\n",
              "         [255., 255., 255.],\n",
              "         ...,\n",
              "         [255., 255., 255.],\n",
              "         [255., 255., 255.],\n",
              "         [255., 255., 255.]],\n",
              "\n",
              "        ...,\n",
              "\n",
              "        [[255., 255., 255.],\n",
              "         [255., 255., 255.],\n",
              "         [255., 255., 255.],\n",
              "         ...,\n",
              "         [255., 255., 255.],\n",
              "         [255., 255., 255.],\n",
              "         [255., 255., 255.]],\n",
              "\n",
              "        [[255., 255., 255.],\n",
              "         [255., 255., 255.],\n",
              "         [255., 255., 255.],\n",
              "         ...,\n",
              "         [255., 255., 255.],\n",
              "         [255., 255., 255.],\n",
              "         [255., 255., 255.]],\n",
              "\n",
              "        [[255., 255., 255.],\n",
              "         [255., 255., 255.],\n",
              "         [255., 255., 255.],\n",
              "         ...,\n",
              "         [255., 255., 255.],\n",
              "         [255., 255., 255.],\n",
              "         [255., 255., 255.]]],\n",
              "\n",
              "\n",
              "       [[[255., 255., 255.],\n",
              "         [255., 255., 255.],\n",
              "         [255., 255., 255.],\n",
              "         ...,\n",
              "         [255., 255., 255.],\n",
              "         [255., 255., 255.],\n",
              "         [255., 255., 255.]],\n",
              "\n",
              "        [[255., 255., 255.],\n",
              "         [255., 255., 255.],\n",
              "         [255., 255., 255.],\n",
              "         ...,\n",
              "         [255., 255., 255.],\n",
              "         [255., 255., 255.],\n",
              "         [255., 255., 255.]],\n",
              "\n",
              "        [[255., 255., 255.],\n",
              "         [255., 255., 255.],\n",
              "         [255., 255., 255.],\n",
              "         ...,\n",
              "         [255., 255., 255.],\n",
              "         [255., 255., 255.],\n",
              "         [255., 255., 255.]],\n",
              "\n",
              "        ...,\n",
              "\n",
              "        [[255., 255., 255.],\n",
              "         [255., 255., 255.],\n",
              "         [255., 255., 255.],\n",
              "         ...,\n",
              "         [255., 255., 255.],\n",
              "         [255., 255., 255.],\n",
              "         [255., 255., 255.]],\n",
              "\n",
              "        [[255., 255., 255.],\n",
              "         [255., 255., 255.],\n",
              "         [255., 255., 255.],\n",
              "         ...,\n",
              "         [255., 255., 255.],\n",
              "         [255., 255., 255.],\n",
              "         [255., 255., 255.]],\n",
              "\n",
              "        [[255., 255., 255.],\n",
              "         [255., 255., 255.],\n",
              "         [255., 255., 255.],\n",
              "         ...,\n",
              "         [255., 255., 255.],\n",
              "         [255., 255., 255.],\n",
              "         [255., 255., 255.]]],\n",
              "\n",
              "\n",
              "       [[[255., 255., 255.],\n",
              "         [255., 255., 255.],\n",
              "         [255., 255., 255.],\n",
              "         ...,\n",
              "         [255., 255., 255.],\n",
              "         [255., 255., 255.],\n",
              "         [255., 255., 255.]],\n",
              "\n",
              "        [[255., 255., 255.],\n",
              "         [255., 255., 255.],\n",
              "         [255., 255., 255.],\n",
              "         ...,\n",
              "         [255., 255., 255.],\n",
              "         [255., 255., 255.],\n",
              "         [255., 255., 255.]],\n",
              "\n",
              "        [[255., 255., 255.],\n",
              "         [255., 255., 255.],\n",
              "         [255., 255., 255.],\n",
              "         ...,\n",
              "         [255., 255., 255.],\n",
              "         [255., 255., 255.],\n",
              "         [255., 255., 255.]],\n",
              "\n",
              "        ...,\n",
              "\n",
              "        [[255., 255., 255.],\n",
              "         [255., 255., 255.],\n",
              "         [255., 255., 255.],\n",
              "         ...,\n",
              "         [255., 255., 255.],\n",
              "         [255., 255., 255.],\n",
              "         [255., 255., 255.]],\n",
              "\n",
              "        [[255., 255., 255.],\n",
              "         [255., 255., 255.],\n",
              "         [255., 255., 255.],\n",
              "         ...,\n",
              "         [255., 255., 255.],\n",
              "         [255., 255., 255.],\n",
              "         [255., 255., 255.]],\n",
              "\n",
              "        [[255., 255., 255.],\n",
              "         [255., 255., 255.],\n",
              "         [255., 255., 255.],\n",
              "         ...,\n",
              "         [255., 255., 255.],\n",
              "         [255., 255., 255.],\n",
              "         [255., 255., 255.]]]], dtype=float32)"
            ]
          },
          "execution_count": 50,
          "metadata": {},
          "output_type": "execute_result"
        }
      ],
      "source": [
        "x_data_copy"
      ]
    },
    {
      "cell_type": "markdown",
      "metadata": {
        "id": "_Hf5YHblKEX2"
      },
      "source": [
        "### Compute clustering accuracy\n",
        "\n",
        "First, we assign a label for each cluster based on the majority label of its images.\n",
        "Then, we compute the accuracy of each cluster by dividing the number of image with the\n",
        "majority label by the size of the cluster."
      ]
    },
    {
      "cell_type": "code",
      "execution_count": null,
      "metadata": {
        "colab": {
          "base_uri": "https://localhost:8080/"
        },
        "id": "x1oC6wgBKEX2",
        "outputId": "8d923af6-7ec2-4cb5-c60f-316347c18d67"
      },
      "outputs": [
        {
          "name": "stdout",
          "output_type": "stream",
          "text": [
            "cluster 0 label is: 9  -  accuracy: 100.0 %\n",
            "cluster 1 label is: 9  -  accuracy: 100.0 %\n",
            "cluster 2 label is: 9  -  accuracy: 100.0 %\n",
            "cluster 3 label is: 9  -  accuracy: 100.0 %\n",
            "cluster 4 label is: 9  -  accuracy: 100.0 %\n",
            "cluster 5 label is: 9  -  accuracy: 100.0 %\n"
          ]
        }
      ],
      "source": [
        "cluster_label_counts = dict()\n",
        "\n",
        "for c in range(num_clusters):\n",
        "    cluster_label_counts[c] = [0] * num_classes\n",
        "    instances = clusters[c]\n",
        "    for i, _ in instances:\n",
        "        cluster_label_counts[c][y_data[i][0]] += 1\n",
        "\n",
        "    cluster_label_idx = np.argmax(cluster_label_counts[c])\n",
        "    correct_count = np.max(cluster_label_counts[c])\n",
        "    cluster_size = len(clusters[c])\n",
        "    accuracy = (\n",
        "        np.round((correct_count / cluster_size) * 100, 2) if cluster_size > 0 else 0\n",
        "    )\n",
        "    cluster_label = classes[cluster_label_idx]\n",
        "    print(\"cluster\", c, \"label is:\", cluster_label, \" -  accuracy:\", accuracy, \"%\")"
      ]
    },
    {
      "cell_type": "markdown",
      "metadata": {
        "id": "yvUIYrjZKEX3"
      },
      "source": [
        "## Conclusion\n",
        "\n",
        "To improve the accuracy results, you can: 1) increase the number\n",
        "of epochs in the representation learning and the clustering phases; 2)\n",
        "allow the encoder weights to be tuned during the clustering phase; and 3) perform a final\n",
        "fine-tuning step through self-labeling, as described in the [original SCAN paper](https://arxiv.org/abs/2005.12320).\n",
        "Note that unsupervised image clustering techniques are not expected to outperform the accuracy\n",
        "of supervised image classification techniques, rather showing that they can learn the semantics\n",
        "of the images and group them into clusters that are similar to their original classes."
      ]
    },
    {
      "cell_type": "code",
      "execution_count": null,
      "metadata": {
        "id": "uTCMKuHIkDAk"
      },
      "outputs": [],
      "source": [
        "from pydrive.auth import GoogleAuth\n",
        "from pydrive.drive import GoogleDrive\n",
        "\n",
        "gauth = GoogleAuth()           \n",
        "drive = GoogleDrive(gauth)  "
      ]
    },
    {
      "cell_type": "code",
      "execution_count": null,
      "metadata": {
        "id": "t2U6ubEokD3T"
      },
      "outputs": [],
      "source": [
        "pickle_out = open(\"clusters_scan-6.pickle\",\"wb\")\n",
        "pickle.dump(clusters, pickle_out)\n",
        "pickle_out.close()"
      ]
    },
    {
      "cell_type": "code",
      "execution_count": null,
      "metadata": {
        "colab": {
          "base_uri": "https://localhost:8080/"
        },
        "id": "L7rcJOkll9Yo",
        "outputId": "dd4276d5-67f4-44fc-e791-7da3f0ee82d3"
      },
      "outputs": [
        {
          "data": {
            "text/plain": [
              "<_io.BufferedWriter name='clusters_scan-6.pickle'>"
            ]
          },
          "execution_count": 57,
          "metadata": {},
          "output_type": "execute_result"
        }
      ],
      "source": [
        "pickle_out"
      ]
    },
    {
      "cell_type": "code",
      "execution_count": null,
      "metadata": {
        "colab": {
          "base_uri": "https://localhost:8080/"
        },
        "id": "VGCd0-O1marP",
        "outputId": "646d88f5-19c6-477e-bdbb-f1d7a6eaf377"
      },
      "outputs": [
        {
          "data": {
            "text/plain": [
              "['.config',\n",
              " 'dict.pickle',\n",
              " 'data.pkl',\n",
              " 'gdrive',\n",
              " 'clusters_scan-6.pickle',\n",
              " 'clusters.pkl',\n",
              " 'x_data-20500.pkl',\n",
              " 'dict.pkl',\n",
              " 'sample_data']"
            ]
          },
          "execution_count": 58,
          "metadata": {},
          "output_type": "execute_result"
        }
      ],
      "source": [
        "import os\n",
        "os.listdir('.')"
      ]
    },
    {
      "cell_type": "code",
      "execution_count": null,
      "metadata": {
        "id": "jZZlXABAm306"
      },
      "outputs": [],
      "source": []
    }
  ],
  "metadata": {
    "accelerator": "GPU",
    "colab": {
      "provenance": []
    },
    "gpuClass": "standard",
    "kernelspec": {
      "display_name": "Python 3",
      "language": "python",
      "name": "python3"
    },
    "language_info": {
      "codemirror_mode": {
        "name": "ipython",
        "version": 3
      },
      "file_extension": ".py",
      "mimetype": "text/x-python",
      "name": "python",
      "nbconvert_exporter": "python",
      "pygments_lexer": "ipython3",
      "version": "3.7.0"
    }
  },
  "nbformat": 4,
  "nbformat_minor": 0
}