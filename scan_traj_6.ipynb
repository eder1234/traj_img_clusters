{
  "cells": [
    {
      "cell_type": "code",
      "execution_count": 1,
      "metadata": {
        "colab": {
          "base_uri": "https://localhost:8080/"
        },
        "id": "HGRRdE2H0lTp",
        "outputId": "92d1dde7-d419-4ac7-e97f-93245db0c56b"
      },
      "outputs": [
        {
          "output_type": "stream",
          "name": "stdout",
          "text": [
            "Looking in indexes: https://pypi.org/simple, https://us-python.pkg.dev/colab-wheels/public/simple/\n",
            "Collecting tensorflow-addons\n",
            "  Downloading tensorflow_addons-0.20.0-cp39-cp39-manylinux_2_17_x86_64.manylinux2014_x86_64.whl (591 kB)\n",
            "\u001b[2K     \u001b[90m━━━━━━━━━━━━━━━━━━━━━━━━━━━━━━━━━━━━━━\u001b[0m \u001b[32m591.0/591.0 kB\u001b[0m \u001b[31m19.3 MB/s\u001b[0m eta \u001b[36m0:00:00\u001b[0m\n",
            "\u001b[?25hRequirement already satisfied: packaging in /usr/local/lib/python3.9/dist-packages (from tensorflow-addons) (23.0)\n",
            "Collecting typeguard<3.0.0,>=2.7\n",
            "  Downloading typeguard-2.13.3-py3-none-any.whl (17 kB)\n",
            "Installing collected packages: typeguard, tensorflow-addons\n",
            "Successfully installed tensorflow-addons-0.20.0 typeguard-2.13.3\n"
          ]
        }
      ],
      "source": [
        "pip install tensorflow-addons"
      ]
    },
    {
      "cell_type": "code",
      "execution_count": 2,
      "metadata": {
        "colab": {
          "base_uri": "https://localhost:8080/"
        },
        "id": "Zt0nkN8VmdeK",
        "outputId": "698c7713-93dd-4bdb-c63f-d8d5a05df809"
      },
      "outputs": [
        {
          "output_type": "stream",
          "name": "stdout",
          "text": [
            "Mounted at /content/gdrive\n"
          ]
        }
      ],
      "source": [
        "import pandas as pd\n",
        "from google.colab import drive \n",
        "\n",
        "drive.mount('/content/gdrive')"
      ]
    },
    {
      "cell_type": "code",
      "execution_count": 3,
      "metadata": {
        "id": "0t5QmJGqm1go"
      },
      "outputs": [],
      "source": [
        "import numpy as np\n",
        "with open('gdrive/My Drive/ML/x_data-1.npy', 'rb') as f:\n",
        "\n",
        "    x_data = np.load(f)"
      ]
    },
    {
      "cell_type": "code",
      "source": [
        "x_data=x_data[:20500]"
      ],
      "metadata": {
        "id": "41iebUp1jEah"
      },
      "execution_count": 4,
      "outputs": []
    },
    {
      "cell_type": "code",
      "source": [
        "\n",
        "x_data.shape"
      ],
      "metadata": {
        "colab": {
          "base_uri": "https://localhost:8080/"
        },
        "id": "bxYetQWC1YWV",
        "outputId": "97e9a41c-0d37-473d-a163-314689129ec8"
      },
      "execution_count": 5,
      "outputs": [
        {
          "output_type": "execute_result",
          "data": {
            "text/plain": [
              "(20500, 32, 32, 3)"
            ]
          },
          "metadata": {},
          "execution_count": 5
        }
      ]
    },
    {
      "cell_type": "code",
      "source": [
        "y_data = np.ones((20500, 1), dtype=int)*9"
      ],
      "metadata": {
        "id": "BrzFNCv21Wyi"
      },
      "execution_count": 6,
      "outputs": []
    },
    {
      "cell_type": "markdown",
      "metadata": {
        "id": "3292k22UKEXg"
      },
      "source": [
        "## Setup"
      ]
    },
    {
      "cell_type": "code",
      "execution_count": 7,
      "metadata": {
        "id": "GgT3gW1DKEXi",
        "colab": {
          "base_uri": "https://localhost:8080/"
        },
        "outputId": "e3610bab-d69b-47fb-fcdb-c288d6f6f053"
      },
      "outputs": [
        {
          "output_type": "stream",
          "name": "stderr",
          "text": [
            "/usr/local/lib/python3.9/dist-packages/tensorflow_addons/utils/tfa_eol_msg.py:23: UserWarning: \n",
            "\n",
            "TensorFlow Addons (TFA) has ended development and introduction of new features.\n",
            "TFA has entered a minimal maintenance and release mode until a planned end of life in May 2024.\n",
            "Please modify downstream libraries to take dependencies from other repositories in our TensorFlow community (e.g. Keras, Keras-CV, and Keras-NLP). \n",
            "\n",
            "For more information see: https://github.com/tensorflow/addons/issues/2807 \n",
            "\n",
            "  warnings.warn(\n"
          ]
        }
      ],
      "source": [
        "from collections import defaultdict\n",
        "import random\n",
        "import numpy as np\n",
        "import tensorflow as tf\n",
        "import tensorflow_addons as tfa\n",
        "from tensorflow import keras\n",
        "from tensorflow.keras import layers\n",
        "import matplotlib.pyplot as plt\n",
        "from tqdm import tqdm"
      ]
    },
    {
      "cell_type": "markdown",
      "metadata": {
        "id": "Al4hXQrzKEXj"
      },
      "source": [
        "## Prepare the data"
      ]
    },
    {
      "cell_type": "code",
      "execution_count": 8,
      "metadata": {
        "id": "yP_yvjE5KEXj",
        "colab": {
          "base_uri": "https://localhost:8080/"
        },
        "outputId": "62debac6-7e2c-4205-ae7a-0c4afa1b8f97"
      },
      "outputs": [
        {
          "output_type": "execute_result",
          "data": {
            "text/plain": [
              "['0',\n",
              " '1',\n",
              " '2',\n",
              " '3',\n",
              " '4',\n",
              " '5',\n",
              " '6',\n",
              " '7',\n",
              " '8',\n",
              " '9',\n",
              " '10',\n",
              " '11',\n",
              " '12',\n",
              " '13',\n",
              " '14']"
            ]
          },
          "metadata": {},
          "execution_count": 8
        }
      ],
      "source": [
        "num_classes = 15 #initially 10\n",
        "input_shape = (32,32,3)\n",
        "\n",
        "#classes = ['0', '1', '2', '3', '4', '5', '6', '7', '8', '9']\n",
        "classes = [str(i) for i in range(num_classes)]\n",
        "classes"
      ]
    },
    {
      "cell_type": "markdown",
      "metadata": {
        "id": "5B1yoqGNKEXk"
      },
      "source": [
        "## Define hyperparameters"
      ]
    },
    {
      "cell_type": "code",
      "execution_count": 9,
      "metadata": {
        "id": "XmfzputyKEXk"
      },
      "outputs": [],
      "source": [
        "target_size = 32  # Resize the input images.\n",
        "representation_dim = 512  # The dimensions of the features vector.\n",
        "projection_units = 128  # The projection head of the representation learner.\n",
        "num_clusters = 6  # Number of clusters. 20 here\n",
        "k_neighbours = 10  # Number of neighbours to consider during cluster learning. Initially 5\n",
        "tune_encoder_during_clustering = False  # Freeze the encoder in the cluster learning."
      ]
    },
    {
      "cell_type": "markdown",
      "metadata": {
        "id": "oBgGOr8dKEXl"
      },
      "source": [
        "## Implement data preprocessing\n",
        "\n",
        "The data preprocessing step resizes the input images to the desired `target_size` and applies\n",
        "feature-wise normalization. Note that, when using `keras.applications.ResNet50V2` as the\n",
        "visual encoder, resizing the images into 255 x 255 inputs would lead to more accurate results\n",
        "but require a longer time to train."
      ]
    },
    {
      "cell_type": "code",
      "execution_count": 10,
      "metadata": {
        "id": "jZ46yZG5KEXm"
      },
      "outputs": [],
      "source": [
        "data_preprocessing = keras.Sequential(\n",
        "    [\n",
        "        layers.Resizing(target_size, target_size),\n",
        "        layers.Normalization(),\n",
        "    ]\n",
        ")\n",
        "# Compute the mean and the variance from the data for normalization.\n",
        "data_preprocessing.layers[-1].adapt(x_data)"
      ]
    },
    {
      "cell_type": "markdown",
      "metadata": {
        "id": "E_jrqhDHKEXp"
      },
      "source": [
        "## Data augmentation\n",
        "\n",
        "Unlike simCLR, which randomly picks a single data augmentation function to apply to an input\n",
        "image, we apply a set of data augmentation functions randomly to the input image.\n",
        "(You can experiment with other image augmentation techniques by following the [data augmentation tutorial](https://www.tensorflow.org/tutorials/images/data_augmentation).)"
      ]
    },
    {
      "cell_type": "code",
      "execution_count": 11,
      "metadata": {
        "id": "FqFzDWTNKEXp"
      },
      "outputs": [],
      "source": [
        "data_augmentation = keras.Sequential(\n",
        "    [\n",
        "        layers.RandomTranslation(\n",
        "            height_factor=(-0.001, 0.001), width_factor=(-0.001, 0.001), fill_mode=\"nearest\"\n",
        "        ),\n",
        "        layers.RandomFlip(mode=\"horizontal\"),\n",
        "        layers.RandomRotation(\n",
        "            factor=0.25, fill_mode=\"nearest\"\n",
        "        ),\n",
        "        layers.RandomZoom(\n",
        "            height_factor=(-0.001, 0.001), width_factor=(-0.001, 0.001), fill_mode=\"nearest\"\n",
        "        )\n",
        "    ]\n",
        ")"
      ]
    },
    {
      "cell_type": "markdown",
      "metadata": {
        "id": "MpIezhuqKEXq"
      },
      "source": [
        "Display a random image"
      ]
    },
    {
      "cell_type": "code",
      "execution_count": 12,
      "metadata": {
        "colab": {
          "base_uri": "https://localhost:8080/",
          "height": 290
        },
        "id": "aQ0nVdcvKEXq",
        "outputId": "22e8d86b-7163-4b96-ba3f-0aef59c43944"
      },
      "outputs": [
        {
          "output_type": "display_data",
          "data": {
            "text/plain": [
              "<Figure size 300x300 with 1 Axes>"
            ],
            "image/png": "[encoded data removed]"
          },
          "metadata": {}
        }
      ],
      "source": [
        "image_idx = np.random.choice(range(x_data.shape[0]))\n",
        "image = x_data[image_idx]\n",
        "image_class = classes[y_data[image_idx][0]]\n",
        "plt.figure(figsize=(3, 3))\n",
        "plt.imshow(x_data[image_idx].astype(\"uint8\"))\n",
        "plt.title(image_class)\n",
        "_ = plt.axis(\"off\")"
      ]
    },
    {
      "cell_type": "markdown",
      "metadata": {
        "id": "nMgvmv_dKEXq"
      },
      "source": [
        "Display a sample of augmented versions of the image"
      ]
    },
    {
      "cell_type": "code",
      "execution_count": 13,
      "metadata": {
        "colab": {
          "base_uri": "https://localhost:8080/",
          "height": 807
        },
        "id": "otfP5e0TKEXr",
        "outputId": "7fd49c3f-a5d2-462e-c2b3-f9d5b5b63e06"
      },
      "outputs": [
        {
          "output_type": "display_data",
          "data": {
            "text/plain": [
              "<Figure size 1000x1000 with 9 Axes>"
            ],
            "image/png": "[encoded data removed]"
          },
          "metadata": {}
        }
      ],
      "source": [
        "plt.figure(figsize=(10, 10))\n",
        "for i in range(9):\n",
        "    augmented_images = data_augmentation(np.array([image]))\n",
        "    ax = plt.subplot(3, 3, i + 1)\n",
        "    plt.imshow(augmented_images[0].numpy().astype(\"uint8\"))\n",
        "    plt.axis(\"off\")"
      ]
    },
    {
      "cell_type": "markdown",
      "metadata": {
        "id": "-FHjWZ0wKEXr"
      },
      "source": [
        "## Self-supervised representation learning"
      ]
    },
    {
      "cell_type": "markdown",
      "metadata": {
        "id": "Ah-rA5dZKEXs"
      },
      "source": [
        "### Implement the vision encoder"
      ]
    },
    {
      "cell_type": "code",
      "execution_count": 14,
      "metadata": {
        "id": "Avk5k8AgKEXs"
      },
      "outputs": [],
      "source": [
        "\n",
        "def create_encoder(representation_dim):\n",
        "    encoder = keras.Sequential(\n",
        "        [\n",
        "            keras.applications.ResNet50V2(\n",
        "                include_top=False, weights=None, pooling=\"avg\"\n",
        "            ),\n",
        "            layers.Dense(representation_dim),\n",
        "        ]\n",
        "    )\n",
        "    return encoder\n"
      ]
    },
    {
      "cell_type": "markdown",
      "metadata": {
        "id": "uC9331RrKEXt"
      },
      "source": [
        "### Implement the unsupervised contrastive loss"
      ]
    },
    {
      "cell_type": "code",
      "execution_count": 15,
      "metadata": {
        "id": "RMJzhKOPKEXt"
      },
      "outputs": [],
      "source": [
        "\n",
        "class RepresentationLearner(keras.Model):\n",
        "    def __init__(\n",
        "        self,\n",
        "        encoder,\n",
        "        projection_units,\n",
        "        num_augmentations,\n",
        "        temperature=1.0,\n",
        "        dropout_rate=0.1,\n",
        "        l2_normalize=False,\n",
        "        **kwargs\n",
        "    ):\n",
        "        super(RepresentationLearner, self).__init__(**kwargs)\n",
        "        self.encoder = encoder\n",
        "        # Create projection head.\n",
        "        self.projector = keras.Sequential(\n",
        "            [\n",
        "                layers.Dropout(dropout_rate),\n",
        "                layers.Dense(units=projection_units, use_bias=False),\n",
        "                layers.BatchNormalization(),\n",
        "                layers.ReLU(),\n",
        "            ]\n",
        "        )\n",
        "        self.num_augmentations = num_augmentations\n",
        "        self.temperature = temperature\n",
        "        self.l2_normalize = l2_normalize\n",
        "        self.loss_tracker = keras.metrics.Mean(name=\"loss\")\n",
        "\n",
        "    @property\n",
        "    def metrics(self):\n",
        "        return [self.loss_tracker]\n",
        "\n",
        "    def compute_contrastive_loss(self, feature_vectors, batch_size):\n",
        "        num_augmentations = tf.shape(feature_vectors)[0] // batch_size\n",
        "        if self.l2_normalize:\n",
        "            feature_vectors = tf.math.l2_normalize(feature_vectors, -1)\n",
        "        # The logits shape is [num_augmentations * batch_size, num_augmentations * batch_size].\n",
        "        logits = (\n",
        "            tf.linalg.matmul(feature_vectors, feature_vectors, transpose_b=True)\n",
        "            / self.temperature\n",
        "        )\n",
        "        # Apply log-max trick for numerical stability.\n",
        "        logits_max = tf.math.reduce_max(logits, axis=1)\n",
        "        logits = logits - logits_max\n",
        "        # The shape of targets is [num_augmentations * batch_size, num_augmentations * batch_size].\n",
        "        # targets is a matrix consits of num_augmentations submatrices of shape [batch_size * batch_size].\n",
        "        # Each [batch_size * batch_size] submatrix is an identity matrix (diagonal entries are ones).\n",
        "        targets = tf.tile(tf.eye(batch_size), [num_augmentations, num_augmentations])\n",
        "        # Compute cross entropy loss\n",
        "        return keras.losses.categorical_crossentropy(\n",
        "            y_true=targets, y_pred=logits, from_logits=True\n",
        "        )\n",
        "\n",
        "    def call(self, inputs):\n",
        "        # Preprocess the input images.\n",
        "        preprocessed = data_preprocessing(inputs)\n",
        "        # Create augmented versions of the images.\n",
        "        augmented = []\n",
        "        for _ in range(self.num_augmentations):\n",
        "            augmented.append(data_augmentation(preprocessed))\n",
        "        augmented = layers.Concatenate(axis=0)(augmented)\n",
        "        # Generate embedding representations of the images.\n",
        "        features = self.encoder(augmented)\n",
        "        # Apply projection head.\n",
        "        return self.projector(features)\n",
        "\n",
        "    def train_step(self, inputs):\n",
        "        batch_size = tf.shape(inputs)[0]\n",
        "        # Run the forward pass and compute the contrastive loss\n",
        "        with tf.GradientTape() as tape:\n",
        "            feature_vectors = self(inputs, training=True)\n",
        "            loss = self.compute_contrastive_loss(feature_vectors, batch_size)\n",
        "        # Compute gradients\n",
        "        trainable_vars = self.trainable_variables\n",
        "        gradients = tape.gradient(loss, trainable_vars)\n",
        "        # Update weights\n",
        "        self.optimizer.apply_gradients(zip(gradients, trainable_vars))\n",
        "        # Update loss tracker metric\n",
        "        self.loss_tracker.update_state(loss)\n",
        "        # Return a dict mapping metric names to current value\n",
        "        return {m.name: m.result() for m in self.metrics}\n",
        "\n",
        "    def test_step(self, inputs):\n",
        "        batch_size = tf.shape(inputs)[0]\n",
        "        feature_vectors = self(inputs, training=False)\n",
        "        loss = self.compute_contrastive_loss(feature_vectors, batch_size)\n",
        "        self.loss_tracker.update_state(loss)\n",
        "        return {\"loss\": self.loss_tracker.result()}\n"
      ]
    },
    {
      "cell_type": "markdown",
      "metadata": {
        "id": "QVg8c2wZKEXu"
      },
      "source": [
        "### Train the model"
      ]
    },
    {
      "cell_type": "code",
      "execution_count": 16,
      "metadata": {
        "colab": {
          "base_uri": "https://localhost:8080/"
        },
        "id": "24nbhpPFKEXu",
        "outputId": "8fdf03ca-d103-4b3e-e4f0-fde8669bbe32"
      },
      "outputs": [
        {
          "output_type": "stream",
          "name": "stdout",
          "text": [
            "Epoch 1/50\n",
            "41/41 [==============================] - 56s 350ms/step - loss: 100.1115\n",
            "Epoch 2/50\n",
            "41/41 [==============================] - 12s 304ms/step - loss: 13.0405\n",
            "Epoch 3/50\n",
            "41/41 [==============================] - 12s 300ms/step - loss: 12.0266\n",
            "Epoch 4/50\n",
            "41/41 [==============================] - 12s 297ms/step - loss: 11.6449\n",
            "Epoch 5/50\n",
            "41/41 [==============================] - 12s 294ms/step - loss: 11.2766\n",
            "Epoch 6/50\n",
            "41/41 [==============================] - 12s 299ms/step - loss: 10.9587\n",
            "Epoch 7/50\n",
            "41/41 [==============================] - 12s 298ms/step - loss: 10.6016\n",
            "Epoch 8/50\n",
            "41/41 [==============================] - 12s 299ms/step - loss: 10.3768\n",
            "Epoch 9/50\n",
            "41/41 [==============================] - 12s 299ms/step - loss: 10.2204\n",
            "Epoch 10/50\n",
            "41/41 [==============================] - 12s 299ms/step - loss: 10.1311\n",
            "Epoch 11/50\n",
            "41/41 [==============================] - 12s 298ms/step - loss: 10.0460\n",
            "Epoch 12/50\n",
            "41/41 [==============================] - 12s 297ms/step - loss: 9.9969\n",
            "Epoch 13/50\n",
            "41/41 [==============================] - 12s 298ms/step - loss: 9.9375\n",
            "Epoch 14/50\n",
            "41/41 [==============================] - 12s 297ms/step - loss: 9.9228\n",
            "Epoch 15/50\n",
            "41/41 [==============================] - 12s 298ms/step - loss: 9.9143\n",
            "Epoch 16/50\n",
            "41/41 [==============================] - 12s 298ms/step - loss: 9.8376\n",
            "Epoch 17/50\n",
            "41/41 [==============================] - 12s 299ms/step - loss: 9.7790\n",
            "Epoch 18/50\n",
            "41/41 [==============================] - 12s 298ms/step - loss: 9.7585\n",
            "Epoch 19/50\n",
            "41/41 [==============================] - 12s 298ms/step - loss: 9.7137\n",
            "Epoch 20/50\n",
            "41/41 [==============================] - 12s 299ms/step - loss: 9.6475\n",
            "Epoch 21/50\n",
            "41/41 [==============================] - 12s 298ms/step - loss: 9.6237\n",
            "Epoch 22/50\n",
            "41/41 [==============================] - 12s 298ms/step - loss: 9.5881\n",
            "Epoch 23/50\n",
            "41/41 [==============================] - 12s 298ms/step - loss: 9.5448\n",
            "Epoch 24/50\n",
            "41/41 [==============================] - 12s 297ms/step - loss: 9.5156\n",
            "Epoch 25/50\n",
            "41/41 [==============================] - 12s 297ms/step - loss: 9.4839\n",
            "Epoch 26/50\n",
            "41/41 [==============================] - 12s 298ms/step - loss: 9.4444\n",
            "Epoch 27/50\n",
            "41/41 [==============================] - 12s 298ms/step - loss: 9.3999\n",
            "Epoch 28/50\n",
            "41/41 [==============================] - 12s 298ms/step - loss: 9.3750\n",
            "Epoch 29/50\n",
            "41/41 [==============================] - 12s 298ms/step - loss: 9.2874\n",
            "Epoch 30/50\n",
            "41/41 [==============================] - 12s 297ms/step - loss: 9.2796\n",
            "Epoch 31/50\n",
            "41/41 [==============================] - 12s 298ms/step - loss: 9.2358\n",
            "Epoch 32/50\n",
            "41/41 [==============================] - 12s 298ms/step - loss: 9.1779\n",
            "Epoch 33/50\n",
            "41/41 [==============================] - 12s 298ms/step - loss: 9.1356\n",
            "Epoch 34/50\n",
            "41/41 [==============================] - 12s 298ms/step - loss: 9.0708\n",
            "Epoch 35/50\n",
            "41/41 [==============================] - 12s 297ms/step - loss: 9.0448\n",
            "Epoch 36/50\n",
            "41/41 [==============================] - 12s 298ms/step - loss: 8.9724\n",
            "Epoch 37/50\n",
            "41/41 [==============================] - 12s 298ms/step - loss: 8.9626\n",
            "Epoch 38/50\n",
            "41/41 [==============================] - 12s 299ms/step - loss: 8.8538\n",
            "Epoch 39/50\n",
            "41/41 [==============================] - 12s 299ms/step - loss: 8.8806\n",
            "Epoch 40/50\n",
            "41/41 [==============================] - 12s 298ms/step - loss: 8.8251\n",
            "Epoch 41/50\n",
            "41/41 [==============================] - 12s 298ms/step - loss: 8.7439\n",
            "Epoch 42/50\n",
            "41/41 [==============================] - 12s 298ms/step - loss: 8.6634\n",
            "Epoch 43/50\n",
            "41/41 [==============================] - 12s 299ms/step - loss: 8.6633\n",
            "Epoch 44/50\n",
            "41/41 [==============================] - 12s 298ms/step - loss: 8.5726\n",
            "Epoch 45/50\n",
            "41/41 [==============================] - 12s 298ms/step - loss: 8.5448\n",
            "Epoch 46/50\n",
            "41/41 [==============================] - 12s 298ms/step - loss: 8.4369\n",
            "Epoch 47/50\n",
            "41/41 [==============================] - 12s 298ms/step - loss: 8.4386\n",
            "Epoch 48/50\n",
            "41/41 [==============================] - 12s 297ms/step - loss: 8.3780\n",
            "Epoch 49/50\n",
            "41/41 [==============================] - 12s 297ms/step - loss: 8.3406\n",
            "Epoch 50/50\n",
            "41/41 [==============================] - 12s 298ms/step - loss: 8.2826\n"
          ]
        }
      ],
      "source": [
        "# Create vision encoder.\n",
        "encoder = create_encoder(representation_dim)\n",
        "# Create representation learner.\n",
        "representation_learner = RepresentationLearner(\n",
        "    encoder, projection_units, num_augmentations=2, temperature=0.1\n",
        ")\n",
        "# Create a a Cosine decay learning rate scheduler.\n",
        "lr_scheduler = keras.optimizers.schedules.CosineDecay(\n",
        "    initial_learning_rate=0.001, decay_steps=500, alpha=0.1\n",
        ")\n",
        "# Compile the model.\n",
        "representation_learner.compile(\n",
        "    optimizer=tfa.optimizers.AdamW(learning_rate=lr_scheduler, weight_decay=0.0001),\n",
        ")\n",
        "# Fit the model.\n",
        "history = representation_learner.fit(\n",
        "    x=x_data,\n",
        "    batch_size=512,\n",
        "    epochs=50,  # for better results, increase the number of epochs to 500.\n",
        ")\n"
      ]
    },
    {
      "cell_type": "markdown",
      "metadata": {
        "id": "fgCqhNuIKEXu"
      },
      "source": [
        "Plot training loss"
      ]
    },
    {
      "cell_type": "code",
      "execution_count": 17,
      "metadata": {
        "id": "b6cjYdigKEXv",
        "colab": {
          "base_uri": "https://localhost:8080/",
          "height": 449
        },
        "outputId": "556a26cf-2037-4725-a42c-198c6c498658"
      },
      "outputs": [
        {
          "output_type": "display_data",
          "data": {
            "text/plain": [
              "<Figure size 640x480 with 1 Axes>"
            ],
            "image/png": "[encoded data removed]"
          },
          "metadata": {}
        }
      ],
      "source": [
        "plt.plot(history.history[\"loss\"])\n",
        "plt.ylabel(\"loss\")\n",
        "plt.xlabel(\"epoch\")\n",
        "plt.show()"
      ]
    },
    {
      "cell_type": "markdown",
      "metadata": {
        "id": "dbSaZw2HKEXv"
      },
      "source": [
        "## Compute the nearest neighbors"
      ]
    },
    {
      "cell_type": "markdown",
      "metadata": {
        "id": "57BMqGxrKEXv"
      },
      "source": [
        "### Generate the embeddings for the images"
      ]
    },
    {
      "cell_type": "code",
      "execution_count": 18,
      "metadata": {
        "id": "PaHpiTQ2KEXv",
        "colab": {
          "base_uri": "https://localhost:8080/"
        },
        "outputId": "e343bebf-5aca-40b9-bfaa-9b074ec0be11"
      },
      "outputs": [
        {
          "output_type": "stream",
          "name": "stdout",
          "text": [
            "41/41 [==============================] - 3s 33ms/step\n"
          ]
        }
      ],
      "source": [
        "batch_size = 500\n",
        "# Get the feature vector representations of the images.\n",
        "feature_vectors = encoder.predict(x_data, batch_size=batch_size, verbose=1)\n",
        "# Normalize the feature vectores.\n",
        "feature_vectors = tf.math.l2_normalize(feature_vectors, -1)"
      ]
    },
    {
      "cell_type": "markdown",
      "metadata": {
        "id": "FaC6-BNmKEXw"
      },
      "source": [
        "### Find the *k* nearest neighbours for each embedding"
      ]
    },
    {
      "cell_type": "code",
      "execution_count": 19,
      "metadata": {
        "id": "521sQJg0KEXw",
        "colab": {
          "base_uri": "https://localhost:8080/"
        },
        "outputId": "403906bd-858f-41b1-eebf-9746d6c1b5bc"
      },
      "outputs": [
        {
          "output_type": "stream",
          "name": "stderr",
          "text": [
            "100%|██████████| 41/41 [00:00<00:00, 130.66it/s]\n"
          ]
        }
      ],
      "source": [
        "neighbours = []\n",
        "num_batches = feature_vectors.shape[0] // batch_size\n",
        "for batch_idx in tqdm(range(num_batches)):\n",
        "    start_idx = batch_idx * batch_size\n",
        "    end_idx = start_idx + batch_size\n",
        "    current_batch = feature_vectors[start_idx:end_idx]\n",
        "    # Compute the dot similarity.\n",
        "    similarities = tf.linalg.matmul(current_batch, feature_vectors, transpose_b=True)\n",
        "    # Get the indices of most similar vectors.\n",
        "    _, indices = tf.math.top_k(similarities, k=k_neighbours + 1, sorted=True)\n",
        "    # Add the indices to the neighbours.\n",
        "    neighbours.append(indices[..., 1:])\n",
        "\n",
        "neighbours = np.reshape(np.array(neighbours), (-1, k_neighbours))"
      ]
    },
    {
      "cell_type": "markdown",
      "metadata": {
        "id": "tjiGtRmoKEXw"
      },
      "source": [
        "Let's display some neighbors on each row"
      ]
    },
    {
      "cell_type": "code",
      "execution_count": 20,
      "metadata": {
        "id": "pwxlt4pUKEXw",
        "colab": {
          "base_uri": "https://localhost:8080/",
          "height": 854
        },
        "outputId": "0616ad4d-354d-4f48-ec71-894a14579736"
      },
      "outputs": [
        {
          "output_type": "display_data",
          "data": {
            "text/plain": [
              "<Figure size 1200x1200 with 44 Axes>"
            ],
            "image/png": "[encoded data removed]"
          },
          "metadata": {}
        }
      ],
      "source": [
        "nrows = 4\n",
        "ncols = k_neighbours + 1\n",
        "\n",
        "plt.figure(figsize=(12, 12))\n",
        "position = 1\n",
        "for _ in range(nrows):\n",
        "    anchor_idx = np.random.choice(range(x_data.shape[0]))\n",
        "    neighbour_indicies = neighbours[anchor_idx]\n",
        "    indices = [anchor_idx] + neighbour_indicies.tolist()\n",
        "    for j in range(ncols):\n",
        "        plt.subplot(nrows, ncols, position)\n",
        "        plt.imshow(x_data[indices[j]].astype(\"uint8\"))\n",
        "        plt.title(classes[y_data[indices[j]][0]])\n",
        "        plt.axis(\"off\")\n",
        "        position += 1"
      ]
    },
    {
      "cell_type": "markdown",
      "metadata": {
        "id": "-ni2DmULKEXx"
      },
      "source": [
        "You notice that images on each row are visually similar, and belong to similar classes."
      ]
    },
    {
      "cell_type": "markdown",
      "metadata": {
        "id": "Y-nGkoIaKEXx"
      },
      "source": [
        "## Semantic clustering with nearest neighbours"
      ]
    },
    {
      "cell_type": "markdown",
      "metadata": {
        "id": "RiXYt0SXKEXx"
      },
      "source": [
        "### Implement clustering consistency loss\n",
        "\n",
        "This loss tries to make sure that neighbours have the same clustering assignments."
      ]
    },
    {
      "cell_type": "code",
      "execution_count": 21,
      "metadata": {
        "id": "j15kVP7hKEXx"
      },
      "outputs": [],
      "source": [
        "\n",
        "class ClustersConsistencyLoss(keras.losses.Loss):\n",
        "    def __init__(self):\n",
        "        super(ClustersConsistencyLoss, self).__init__()\n",
        "\n",
        "    def __call__(self, target, similarity, sample_weight=None):\n",
        "        # Set targets to be ones.\n",
        "        target = tf.ones_like(similarity)\n",
        "        # Compute cross entropy loss.\n",
        "        loss = keras.losses.binary_crossentropy(\n",
        "            y_true=target, y_pred=similarity, from_logits=True\n",
        "        )\n",
        "        return tf.math.reduce_mean(loss)\n"
      ]
    },
    {
      "cell_type": "markdown",
      "metadata": {
        "id": "wGMKejPDKEXx"
      },
      "source": [
        "### Implement the clusters entropy loss\n",
        "\n",
        "This loss tries to make sure that cluster distribution is roughly uniformed, to avoid\n",
        "assigning most of the instances to one cluster."
      ]
    },
    {
      "cell_type": "code",
      "execution_count": 22,
      "metadata": {
        "id": "0vBS4_nlKEXy"
      },
      "outputs": [],
      "source": [
        "\n",
        "class ClustersEntropyLoss(keras.losses.Loss):\n",
        "    def __init__(self, entropy_loss_weight=1.0):\n",
        "        super(ClustersEntropyLoss, self).__init__()\n",
        "        self.entropy_loss_weight = entropy_loss_weight\n",
        "\n",
        "    def __call__(self, target, cluster_probabilities, sample_weight=None):\n",
        "        # Ideal entropy = log(num_clusters).\n",
        "        num_clusters = tf.cast(tf.shape(cluster_probabilities)[-1], tf.dtypes.float32)\n",
        "        target = tf.math.log(num_clusters)\n",
        "        # Compute the overall clusters distribution.\n",
        "        cluster_probabilities = tf.math.reduce_mean(cluster_probabilities, axis=0)\n",
        "        # Replacing zero probabilities - if any - with a very small value.\n",
        "        cluster_probabilities = tf.clip_by_value(\n",
        "            cluster_probabilities, clip_value_min=1e-8, clip_value_max=1.0\n",
        "        )\n",
        "        # Compute the entropy over the clusters.\n",
        "        entropy = -tf.math.reduce_sum(\n",
        "            cluster_probabilities * tf.math.log(cluster_probabilities)\n",
        "        )\n",
        "        # Compute the difference between the target and the actual.\n",
        "        loss = target - entropy\n",
        "        return loss\n"
      ]
    },
    {
      "cell_type": "markdown",
      "metadata": {
        "id": "kgnrOd53KEXy"
      },
      "source": [
        "### Implement clustering model\n",
        "\n",
        "This model takes a raw image as an input, generated its feature vector using the trained\n",
        "encoder, and produces a probability distribution of the clusters given the feature vector\n",
        "as the cluster assignments."
      ]
    },
    {
      "cell_type": "code",
      "execution_count": 23,
      "metadata": {
        "id": "KrjnSp7eKEXy"
      },
      "outputs": [],
      "source": [
        "\n",
        "def create_clustering_model(encoder, num_clusters, name=None):\n",
        "    inputs = keras.Input(shape=input_shape)\n",
        "    # Preprocess the input images.\n",
        "    preprocessed = data_preprocessing(inputs)\n",
        "    # Apply data augmentation to the images.\n",
        "    augmented = data_augmentation(preprocessed)\n",
        "    # Generate embedding representations of the images.\n",
        "    features = encoder(augmented)\n",
        "    # Assign the images to clusters.\n",
        "    outputs = layers.Dense(units=num_clusters, activation=\"softmax\")(features)\n",
        "    # Create the model.\n",
        "    model = keras.Model(inputs=inputs, outputs=outputs, name=name)\n",
        "    return model\n"
      ]
    },
    {
      "cell_type": "markdown",
      "metadata": {
        "id": "8W-WTYVdKEXy"
      },
      "source": [
        "### Implement clustering learner\n",
        "\n",
        "This model receives the input `anchor` image and its `neighbours`, produces the clusters\n",
        "assignments for them using the `clustering_model`, and produces two outputs:\n",
        "1. `similarity`: the similarity between the cluster assignments of the `anchor` image and\n",
        "its `neighbours`. This output is fed to the `ClustersConsistencyLoss`.\n",
        "2. `anchor_clustering`: cluster assignments of the `anchor` images. This is fed to the `ClustersEntropyLoss`."
      ]
    },
    {
      "cell_type": "code",
      "execution_count": 24,
      "metadata": {
        "id": "ssgkAc_mKEXy"
      },
      "outputs": [],
      "source": [
        "\n",
        "def create_clustering_learner(clustering_model):\n",
        "    anchor = keras.Input(shape=input_shape, name=\"anchors\")\n",
        "    neighbours = keras.Input(\n",
        "        shape=tuple([k_neighbours]) + input_shape, name=\"neighbours\"\n",
        "    )\n",
        "    # Changes neighbours shape to [batch_size * k_neighbours, width, height, channels]\n",
        "    neighbours_reshaped = tf.reshape(neighbours, shape=tuple([-1]) + input_shape)\n",
        "    # anchor_clustering shape: [batch_size, num_clusters]\n",
        "    anchor_clustering = clustering_model(anchor)\n",
        "    # neighbours_clustering shape: [batch_size * k_neighbours, num_clusters]\n",
        "    neighbours_clustering = clustering_model(neighbours_reshaped)\n",
        "    # Convert neighbours_clustering shape to [batch_size, k_neighbours, num_clusters]\n",
        "    neighbours_clustering = tf.reshape(\n",
        "        neighbours_clustering,\n",
        "        shape=(-1, k_neighbours, tf.shape(neighbours_clustering)[-1]),\n",
        "    )\n",
        "    # similarity shape: [batch_size, 1, k_neighbours]\n",
        "    similarity = tf.linalg.einsum(\n",
        "        \"bij,bkj->bik\", tf.expand_dims(anchor_clustering, axis=1), neighbours_clustering\n",
        "    )\n",
        "    # similarity shape:  [batch_size, k_neighbours]\n",
        "    similarity = layers.Lambda(lambda x: tf.squeeze(x, axis=1), name=\"similarity\")(\n",
        "        similarity\n",
        "    )\n",
        "    # Create the model.\n",
        "    model = keras.Model(\n",
        "        inputs=[anchor, neighbours],\n",
        "        outputs=[similarity, anchor_clustering],\n",
        "        name=\"clustering_learner\",\n",
        "    )\n",
        "    return model\n"
      ]
    },
    {
      "cell_type": "markdown",
      "metadata": {
        "id": "kTi4QPLTKEXz"
      },
      "source": [
        "### Train model"
      ]
    },
    {
      "cell_type": "code",
      "execution_count": 25,
      "metadata": {
        "id": "7NFDg6vVKEXz",
        "colab": {
          "base_uri": "https://localhost:8080/"
        },
        "outputId": "b099a556-7f50-463e-bf6d-512f4a099560"
      },
      "outputs": [
        {
          "output_type": "stream",
          "name": "stdout",
          "text": [
            "Epoch 1/50\n",
            "41/41 [==============================] - 35s 458ms/step - loss: 0.6104 - similarity_loss: 0.6085 - clustering_loss: 0.0018\n",
            "Epoch 2/50\n",
            "41/41 [==============================] - 17s 411ms/step - loss: 0.5984 - similarity_loss: 0.5972 - clustering_loss: 0.0012\n",
            "Epoch 3/50\n",
            "41/41 [==============================] - 16s 402ms/step - loss: 0.5913 - similarity_loss: 0.5897 - clustering_loss: 0.0015\n",
            "Epoch 4/50\n",
            "41/41 [==============================] - 16s 400ms/step - loss: 0.5854 - similarity_loss: 0.5834 - clustering_loss: 0.0020\n",
            "Epoch 5/50\n",
            "41/41 [==============================] - 17s 405ms/step - loss: 0.5820 - similarity_loss: 0.5792 - clustering_loss: 0.0028\n",
            "Epoch 6/50\n",
            "41/41 [==============================] - 17s 408ms/step - loss: 0.5794 - similarity_loss: 0.5766 - clustering_loss: 0.0028\n",
            "Epoch 7/50\n",
            "41/41 [==============================] - 17s 409ms/step - loss: 0.5779 - similarity_loss: 0.5751 - clustering_loss: 0.0029\n",
            "Epoch 8/50\n",
            "41/41 [==============================] - 17s 404ms/step - loss: 0.5771 - similarity_loss: 0.5740 - clustering_loss: 0.0032\n",
            "Epoch 9/50\n",
            "41/41 [==============================] - 17s 405ms/step - loss: 0.5761 - similarity_loss: 0.5735 - clustering_loss: 0.0026\n",
            "Epoch 10/50\n",
            "41/41 [==============================] - 17s 406ms/step - loss: 0.5758 - similarity_loss: 0.5727 - clustering_loss: 0.0031\n",
            "Epoch 11/50\n",
            "41/41 [==============================] - 17s 407ms/step - loss: 0.5750 - similarity_loss: 0.5719 - clustering_loss: 0.0031\n",
            "Epoch 12/50\n",
            "41/41 [==============================] - 17s 408ms/step - loss: 0.5750 - similarity_loss: 0.5720 - clustering_loss: 0.0030\n",
            "Epoch 13/50\n",
            "41/41 [==============================] - 17s 407ms/step - loss: 0.5750 - similarity_loss: 0.5718 - clustering_loss: 0.0032\n",
            "Epoch 14/50\n",
            "41/41 [==============================] - 17s 408ms/step - loss: 0.5753 - similarity_loss: 0.5709 - clustering_loss: 0.0044\n",
            "Epoch 15/50\n",
            "41/41 [==============================] - 17s 406ms/step - loss: 0.5743 - similarity_loss: 0.5717 - clustering_loss: 0.0026\n",
            "Epoch 16/50\n",
            "41/41 [==============================] - 17s 407ms/step - loss: 0.5741 - similarity_loss: 0.5708 - clustering_loss: 0.0033\n",
            "Epoch 17/50\n",
            "41/41 [==============================] - 17s 404ms/step - loss: 0.5745 - similarity_loss: 0.5709 - clustering_loss: 0.0036\n",
            "Epoch 18/50\n",
            "41/41 [==============================] - 17s 408ms/step - loss: 0.5739 - similarity_loss: 0.5707 - clustering_loss: 0.0032\n",
            "Epoch 19/50\n",
            "41/41 [==============================] - 17s 405ms/step - loss: 0.5744 - similarity_loss: 0.5705 - clustering_loss: 0.0039\n",
            "Epoch 20/50\n",
            "41/41 [==============================] - 17s 405ms/step - loss: 0.5734 - similarity_loss: 0.5705 - clustering_loss: 0.0029\n",
            "Epoch 21/50\n",
            "41/41 [==============================] - 17s 405ms/step - loss: 0.5735 - similarity_loss: 0.5703 - clustering_loss: 0.0032\n",
            "Epoch 22/50\n",
            "41/41 [==============================] - 17s 406ms/step - loss: 0.5731 - similarity_loss: 0.5702 - clustering_loss: 0.0029\n",
            "Epoch 23/50\n",
            "41/41 [==============================] - 17s 407ms/step - loss: 0.5731 - similarity_loss: 0.5704 - clustering_loss: 0.0027\n",
            "Epoch 24/50\n",
            "41/41 [==============================] - 17s 405ms/step - loss: 0.5738 - similarity_loss: 0.5705 - clustering_loss: 0.0033\n",
            "Epoch 25/50\n",
            "41/41 [==============================] - 17s 409ms/step - loss: 0.5737 - similarity_loss: 0.5705 - clustering_loss: 0.0031\n",
            "Epoch 26/50\n",
            "41/41 [==============================] - 17s 408ms/step - loss: 0.5732 - similarity_loss: 0.5701 - clustering_loss: 0.0031\n",
            "Epoch 27/50\n",
            "41/41 [==============================] - 17s 408ms/step - loss: 0.5726 - similarity_loss: 0.5698 - clustering_loss: 0.0028\n",
            "Epoch 28/50\n",
            "41/41 [==============================] - 17s 406ms/step - loss: 0.5733 - similarity_loss: 0.5701 - clustering_loss: 0.0032\n",
            "Epoch 29/50\n",
            "41/41 [==============================] - 17s 406ms/step - loss: 0.5730 - similarity_loss: 0.5698 - clustering_loss: 0.0032\n",
            "Epoch 30/50\n",
            "41/41 [==============================] - 17s 406ms/step - loss: 0.5732 - similarity_loss: 0.5698 - clustering_loss: 0.0034\n",
            "Epoch 31/50\n",
            "41/41 [==============================] - 17s 407ms/step - loss: 0.5730 - similarity_loss: 0.5699 - clustering_loss: 0.0031\n",
            "Epoch 32/50\n",
            "41/41 [==============================] - 17s 410ms/step - loss: 0.5737 - similarity_loss: 0.5699 - clustering_loss: 0.0039\n",
            "Epoch 33/50\n",
            "41/41 [==============================] - 17s 405ms/step - loss: 0.5737 - similarity_loss: 0.5700 - clustering_loss: 0.0037\n",
            "Epoch 34/50\n",
            "41/41 [==============================] - 17s 407ms/step - loss: 0.5728 - similarity_loss: 0.5698 - clustering_loss: 0.0030\n",
            "Epoch 35/50\n",
            "41/41 [==============================] - 17s 406ms/step - loss: 0.5737 - similarity_loss: 0.5696 - clustering_loss: 0.0041\n",
            "Epoch 36/50\n",
            "41/41 [==============================] - 17s 408ms/step - loss: 0.5733 - similarity_loss: 0.5697 - clustering_loss: 0.0037\n",
            "Epoch 37/50\n",
            "41/41 [==============================] - 17s 409ms/step - loss: 0.5727 - similarity_loss: 0.5694 - clustering_loss: 0.0033\n",
            "Epoch 38/50\n",
            "41/41 [==============================] - 17s 405ms/step - loss: 0.5730 - similarity_loss: 0.5693 - clustering_loss: 0.0036\n",
            "Epoch 39/50\n",
            "41/41 [==============================] - 17s 408ms/step - loss: 0.5728 - similarity_loss: 0.5694 - clustering_loss: 0.0034\n",
            "Epoch 40/50\n",
            "41/41 [==============================] - 17s 405ms/step - loss: 0.5727 - similarity_loss: 0.5698 - clustering_loss: 0.0028\n",
            "Epoch 41/50\n",
            "41/41 [==============================] - 17s 407ms/step - loss: 0.5735 - similarity_loss: 0.5691 - clustering_loss: 0.0044\n",
            "Epoch 42/50\n",
            "41/41 [==============================] - 17s 406ms/step - loss: 0.5729 - similarity_loss: 0.5697 - clustering_loss: 0.0031\n",
            "Epoch 43/50\n",
            "41/41 [==============================] - 17s 407ms/step - loss: 0.5728 - similarity_loss: 0.5693 - clustering_loss: 0.0035\n",
            "Epoch 44/50\n",
            "41/41 [==============================] - 17s 405ms/step - loss: 0.5727 - similarity_loss: 0.5693 - clustering_loss: 0.0035\n",
            "Epoch 45/50\n",
            "41/41 [==============================] - 17s 407ms/step - loss: 0.5726 - similarity_loss: 0.5694 - clustering_loss: 0.0032\n",
            "Epoch 46/50\n",
            "41/41 [==============================] - 17s 409ms/step - loss: 0.5726 - similarity_loss: 0.5698 - clustering_loss: 0.0028\n",
            "Epoch 47/50\n",
            "41/41 [==============================] - 17s 406ms/step - loss: 0.5734 - similarity_loss: 0.5693 - clustering_loss: 0.0042\n",
            "Epoch 48/50\n",
            "41/41 [==============================] - 17s 406ms/step - loss: 0.5726 - similarity_loss: 0.5694 - clustering_loss: 0.0031\n",
            "Epoch 49/50\n",
            "41/41 [==============================] - 17s 403ms/step - loss: 0.5729 - similarity_loss: 0.5693 - clustering_loss: 0.0036\n",
            "Epoch 50/50\n",
            "41/41 [==============================] - 17s 405ms/step - loss: 0.5732 - similarity_loss: 0.5693 - clustering_loss: 0.0038\n"
          ]
        },
        {
          "output_type": "execute_result",
          "data": {
            "text/plain": [
              "<keras.callbacks.History at 0x7fd6ae26e520>"
            ]
          },
          "metadata": {},
          "execution_count": 25
        }
      ],
      "source": [
        "# If tune_encoder_during_clustering is set to False,\n",
        "# then freeze the encoder weights.\n",
        "for layer in encoder.layers:\n",
        "    layer.trainable = tune_encoder_during_clustering\n",
        "# Create the clustering model and learner.\n",
        "clustering_model = create_clustering_model(encoder, num_clusters, name=\"clustering\")\n",
        "clustering_learner = create_clustering_learner(clustering_model)\n",
        "# Instantiate the model losses.\n",
        "losses = [ClustersConsistencyLoss(), ClustersEntropyLoss(entropy_loss_weight=5)]\n",
        "# Create the model inputs and labels.\n",
        "inputs = {\"anchors\": x_data, \"neighbours\": tf.gather(x_data, neighbours)}\n",
        "labels = tf.ones(shape=(x_data.shape[0]))\n",
        "# Compile the model.\n",
        "clustering_learner.compile(\n",
        "    optimizer=tfa.optimizers.AdamW(learning_rate=0.0005, weight_decay=0.0001),\n",
        "    loss=losses,\n",
        ")\n",
        "\n",
        "# Begin training the model.\n",
        "clustering_learner.fit(x=inputs, y=labels, batch_size=512, epochs=50)"
      ]
    },
    {
      "cell_type": "markdown",
      "metadata": {
        "id": "CQH8iONYKEXz"
      },
      "source": [
        "Plot training loss"
      ]
    },
    {
      "cell_type": "code",
      "execution_count": 26,
      "metadata": {
        "id": "SlQvnU_QKEXz",
        "colab": {
          "base_uri": "https://localhost:8080/",
          "height": 449
        },
        "outputId": "23d2d1fb-ce52-475b-c164-b0ad82202928"
      },
      "outputs": [
        {
          "output_type": "display_data",
          "data": {
            "text/plain": [
              "<Figure size 640x480 with 1 Axes>"
            ],
            "image/png": "[encoded data removed]"
          },
          "metadata": {}
        }
      ],
      "source": [
        "plt.plot(history.history[\"loss\"])\n",
        "plt.ylabel(\"loss\")\n",
        "plt.xlabel(\"epoch\")\n",
        "plt.show()"
      ]
    },
    {
      "cell_type": "markdown",
      "metadata": {
        "id": "FBLEhWVzKEXz"
      },
      "source": [
        "## Cluster analysis"
      ]
    },
    {
      "cell_type": "markdown",
      "metadata": {
        "id": "VC7NCPT2KEX0"
      },
      "source": [
        "### Assign images to clusters"
      ]
    },
    {
      "cell_type": "code",
      "execution_count": 27,
      "metadata": {
        "id": "GhGCwCSJKEX0",
        "colab": {
          "base_uri": "https://localhost:8080/"
        },
        "outputId": "abfcdfef-737c-420c-be60-904cdfc1fc12"
      },
      "outputs": [
        {
          "output_type": "stream",
          "name": "stdout",
          "text": [
            "41/41 [==============================] - 2s 35ms/step\n"
          ]
        }
      ],
      "source": [
        "# Get the cluster probability distribution of the input images.\n",
        "clustering_probs = clustering_model.predict(x_data, batch_size=batch_size, verbose=1)\n",
        "# Get the cluster of the highest probability.\n",
        "cluster_assignments = tf.math.argmax(clustering_probs, axis=-1).numpy()\n",
        "# Store the clustering confidence.\n",
        "# Images with the highest clustering confidence are considered the 'prototypes'\n",
        "# of the clusters.\n",
        "cluster_confidence = tf.math.reduce_max(clustering_probs, axis=-1).numpy()"
      ]
    },
    {
      "cell_type": "markdown",
      "metadata": {
        "id": "wtge_38VKEX0"
      },
      "source": [
        "Let's compute the cluster sizes"
      ]
    },
    {
      "cell_type": "code",
      "execution_count": 28,
      "metadata": {
        "id": "qJlFicNnKEX0",
        "colab": {
          "base_uri": "https://localhost:8080/"
        },
        "outputId": "47f0dbad-7502-4930-8e0a-9cc88c5ae32f"
      },
      "outputs": [
        {
          "output_type": "stream",
          "name": "stdout",
          "text": [
            "cluster 0 : 3379\n",
            "cluster 1 : 7367\n",
            "cluster 2 : 1859\n",
            "cluster 3 : 3006\n",
            "cluster 4 : 1894\n",
            "cluster 5 : 2995\n"
          ]
        }
      ],
      "source": [
        "clusters = defaultdict(list)\n",
        "for idx, c in enumerate(cluster_assignments):\n",
        "    clusters[c].append((idx, cluster_confidence[idx]))\n",
        "\n",
        "for c in range(num_clusters):\n",
        "    print(\"cluster\", c, \":\", len(clusters[c]))"
      ]
    },
    {
      "cell_type": "markdown",
      "metadata": {
        "id": "YZ6WvJKjKEX0"
      },
      "source": [
        "Notice that the clusters have roughly balanced sizes."
      ]
    },
    {
      "cell_type": "markdown",
      "metadata": {
        "id": "wHc_5tB6KEX0"
      },
      "source": [
        "### Visualize cluster images\n",
        "\n",
        "Display the *prototypes*—instances with the highest clustering confidence—of each cluster:"
      ]
    },
    {
      "cell_type": "code",
      "execution_count": 29,
      "metadata": {
        "id": "nmXJ7h6sKEX1",
        "colab": {
          "base_uri": "https://localhost:8080/",
          "height": 1000
        },
        "outputId": "c42d1749-99bc-4b29-c1a3-65c1073a219e"
      },
      "outputs": [
        {
          "output_type": "display_data",
          "data": {
            "text/plain": [
              "<Figure size 2000x2000 with 48 Axes>"
            ],
            "image/png": "[encoded data removed]"
          },
          "metadata": {}
        }
      ],
      "source": [
        "num_images = 8\n",
        "plt.figure(figsize=(20, 20))\n",
        "position = 1\n",
        "for c in range(num_clusters):\n",
        "    cluster_instances = sorted(clusters[c], key=lambda kv: kv[1], reverse=True)\n",
        "\n",
        "    for j in range(num_images):\n",
        "        image_idx = cluster_instances[j][0]\n",
        "        plt.subplot(num_clusters, num_images, position)\n",
        "        plt.imshow(x_data[image_idx].astype(\"uint8\"))\n",
        "        #plt.title(classes[y_data[image_idx][0]])\n",
        "        plt.axis(\"off\")\n",
        "        position += 1"
      ]
    },
    {
      "cell_type": "code",
      "source": [
        "num_images = 8\n",
        "plt.figure(figsize=(20, 20))\n",
        "position = 1\n",
        "for c in range(num_clusters):\n",
        "    cluster_instances = sorted(clusters[c], key=lambda kv: kv[1], reverse=False)\n",
        "\n",
        "    for j in range(num_images):\n",
        "        image_idx = cluster_instances[j][0]\n",
        "        plt.subplot(num_clusters, num_images, position)\n",
        "        plt.imshow(x_data[image_idx].astype(\"uint8\"))\n",
        "        #plt.title(classes[y_data[image_idx][0]])\n",
        "        plt.axis(\"off\")\n",
        "        position += 1"
      ],
      "metadata": {
        "id": "lbfJV70a_7CB",
        "colab": {
          "base_uri": "https://localhost:8080/",
          "height": 1000
        },
        "outputId": "0ef85ca8-4f99-41b2-fc08-581ce1a9f09e"
      },
      "execution_count": 30,
      "outputs": [
        {
          "output_type": "display_data",
          "data": {
            "text/plain": [
              "<Figure size 2000x2000 with 48 Axes>"
            ],
            "image/png": "[encoded data removed]"
          },
          "metadata": {}
        }
      ]
    },
    {
      "cell_type": "code",
      "source": [
        "print(type(clusters))"
      ],
      "metadata": {
        "colab": {
          "base_uri": "https://localhost:8080/"
        },
        "id": "QxXlul7heUzo",
        "outputId": "550e0acb-0ed9-4afb-eb28-5b78e5058d10"
      },
      "execution_count": 31,
      "outputs": [
        {
          "output_type": "stream",
          "name": "stdout",
          "text": [
            "<class 'collections.defaultdict'>\n"
          ]
        }
      ]
    },
    {
      "cell_type": "code",
      "source": [
        "import pickle \n",
        "with open(\"/content/sample_data/clusters.pkl\", \"wb\") as pkl_handle:\n",
        "\tpickle.dump(clusters, pkl_handle)"
      ],
      "metadata": {
        "id": "-NFqA78Tf1tz"
      },
      "execution_count": 32,
      "outputs": []
    },
    {
      "cell_type": "code",
      "source": [
        "with open(\"clusters.pkl\", \"rb\") as pkl_handle:\n",
        "\tclusters_copy = pickle.load(pkl_handle)"
      ],
      "metadata": {
        "id": "roT6k5A0f-do"
      },
      "execution_count": null,
      "outputs": []
    },
    {
      "cell_type": "code",
      "source": [
        "import pickle \n",
        "\n",
        "with open(\"/content/sample_data/x_data-20500.pkl\", \"wb\") as pkl_handle:\n",
        "\tpickle.dump(x_data, pkl_handle)"
      ],
      "metadata": {
        "id": "ZbpVYqz8g39S"
      },
      "execution_count": null,
      "outputs": []
    },
    {
      "cell_type": "code",
      "source": [
        "with open(\"x_data-20500.pkl\", \"rb\") as pkl_handle:\n",
        "\tx_data_copy = pickle.load(pkl_handle)"
      ],
      "metadata": {
        "id": "besTqOLlhEU-"
      },
      "execution_count": null,
      "outputs": []
    }
  ],
  "metadata": {
    "accelerator": "GPU",
    "colab": {
      "provenance": []
    },
    "kernelspec": {
      "display_name": "Python 3",
      "language": "python",
      "name": "python3"
    },
    "language_info": {
      "codemirror_mode": {
        "name": "ipython",
        "version": 3
      },
      "file_extension": ".py",
      "mimetype": "text/x-python",
      "name": "python",
      "nbconvert_exporter": "python",
      "pygments_lexer": "ipython3",
      "version": "3.7.0"
    },
    "gpuClass": "standard"
  },
  "nbformat": 4,
  "nbformat_minor": 0
}