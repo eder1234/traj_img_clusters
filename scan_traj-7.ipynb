{
  "cells": [
    {
      "cell_type": "markdown",
      "metadata": {
        "id": "Xpp5T5piKEXe"
      },
      "source": [
        "# Semantic Image Clustering\n",
        "\n",
        "**Author:** [Khalid Salama](https://www.linkedin.com/in/khalid-salama-24403144/)<br>\n",
        "**Date created:** 2021/02/28<br>\n",
        "**Last modified:** 2021/02/28<br>\n",
        "**Description:** Semantic Clustering by Adopting Nearest neighbors (SCAN) algorithm."
      ]
    },
    {
      "cell_type": "markdown",
      "metadata": {
        "id": "-G51YFwTKEXf"
      },
      "source": [
        "## Introduction\n",
        "\n",
        "This example demonstrates how to apply the [Semantic Clustering by Adopting Nearest neighbors\n",
        "(SCAN)](https://arxiv.org/abs/2005.12320) algorithm (Van Gansbeke et al., 2020) on the\n",
        "[CIFAR-10](https://www.cs.toronto.edu/~kriz/cifar.html) dataset. The algorithm consists of\n",
        "two phases:\n",
        "\n",
        "1. Self-supervised visual representation learning of images, in which we use the\n",
        "[simCLR](https://arxiv.org/abs/2002.05709) technique.\n",
        "2. Clustering of the learned visual representation vectors to maximize the agreement\n",
        "between the cluster assignments of neighboring vectors.\n",
        "\n",
        "The example requires [TensorFlow Addons](https://www.tensorflow.org/addons),\n",
        "which you can install using the following command:\n",
        "\n",
        "```python\n",
        "pip install tensorflow-addons\n",
        "```"
      ]
    },
    {
      "cell_type": "code",
      "execution_count": null,
      "metadata": {
        "colab": {
          "base_uri": "https://localhost:8080/"
        },
        "id": "HGRRdE2H0lTp",
        "outputId": "6239a273-f2b5-4614-c09f-640137f2467b"
      },
      "outputs": [
        {
          "output_type": "stream",
          "name": "stdout",
          "text": [
            "Looking in indexes: https://pypi.org/simple, https://us-python.pkg.dev/colab-wheels/public/simple/\n",
            "Collecting tensorflow-addons\n",
            "  Downloading tensorflow_addons-0.17.1-cp37-cp37m-manylinux_2_17_x86_64.manylinux2014_x86_64.whl (1.1 MB)\n",
            "\u001b[K     |████████████████████████████████| 1.1 MB 5.1 MB/s \n",
            "\u001b[?25hRequirement already satisfied: packaging in /usr/local/lib/python3.7/dist-packages (from tensorflow-addons) (21.3)\n",
            "Requirement already satisfied: typeguard>=2.7 in /usr/local/lib/python3.7/dist-packages (from tensorflow-addons) (2.7.1)\n",
            "Requirement already satisfied: pyparsing!=3.0.5,>=2.0.2 in /usr/local/lib/python3.7/dist-packages (from packaging->tensorflow-addons) (3.0.9)\n",
            "Installing collected packages: tensorflow-addons\n",
            "Successfully installed tensorflow-addons-0.17.1\n"
          ]
        }
      ],
      "source": [
        "pip install tensorflow-addons"
      ]
    },
    {
      "cell_type": "code",
      "execution_count": null,
      "metadata": {
        "colab": {
          "base_uri": "https://localhost:8080/"
        },
        "id": "Zt0nkN8VmdeK",
        "outputId": "de0ca502-569f-4602-e12c-84106a5b1e04"
      },
      "outputs": [
        {
          "output_type": "stream",
          "name": "stdout",
          "text": [
            "Mounted at /content/gdrive\n"
          ]
        }
      ],
      "source": [
        "import pandas as pd\n",
        "from google.colab import drive \n",
        "\n",
        "drive.mount('/content/gdrive')"
      ]
    },
    {
      "cell_type": "code",
      "execution_count": null,
      "metadata": {
        "id": "0t5QmJGqm1go"
      },
      "outputs": [],
      "source": [
        "import numpy as np\n",
        "with open('gdrive/My Drive/ML/x_data-1.npy', 'rb') as f:\n",
        "\n",
        "    x_data = np.load(f)"
      ]
    },
    {
      "cell_type": "code",
      "source": [
        "x_data=x_data[:20500]"
      ],
      "metadata": {
        "id": "41iebUp1jEah"
      },
      "execution_count": null,
      "outputs": []
    },
    {
      "cell_type": "code",
      "source": [
        "x_data.shape"
      ],
      "metadata": {
        "colab": {
          "base_uri": "https://localhost:8080/"
        },
        "id": "bxYetQWC1YWV",
        "outputId": "6864f104-8f37-4500-c68b-5dd7d0eff786"
      },
      "execution_count": null,
      "outputs": [
        {
          "output_type": "execute_result",
          "data": {
            "text/plain": [
              "(20500, 32, 32, 3)"
            ]
          },
          "metadata": {},
          "execution_count": 5
        }
      ]
    },
    {
      "cell_type": "code",
      "source": [
        "y_data = np.ones((20500, 1), dtype=int)*9"
      ],
      "metadata": {
        "id": "BrzFNCv21Wyi"
      },
      "execution_count": null,
      "outputs": []
    },
    {
      "cell_type": "markdown",
      "metadata": {
        "id": "3292k22UKEXg"
      },
      "source": [
        "## Setup"
      ]
    },
    {
      "cell_type": "code",
      "execution_count": null,
      "metadata": {
        "id": "GgT3gW1DKEXi"
      },
      "outputs": [],
      "source": [
        "from collections import defaultdict\n",
        "import random\n",
        "import numpy as np\n",
        "import tensorflow as tf\n",
        "import tensorflow_addons as tfa\n",
        "from tensorflow import keras\n",
        "from tensorflow.keras import layers\n",
        "import matplotlib.pyplot as plt\n",
        "from tqdm import tqdm"
      ]
    },
    {
      "cell_type": "markdown",
      "metadata": {
        "id": "Al4hXQrzKEXj"
      },
      "source": [
        "## Prepare the data"
      ]
    },
    {
      "cell_type": "code",
      "execution_count": null,
      "metadata": {
        "id": "yP_yvjE5KEXj",
        "colab": {
          "base_uri": "https://localhost:8080/"
        },
        "outputId": "a909c2ba-12ac-4c31-d09f-2d5e56f0ad92"
      },
      "outputs": [
        {
          "output_type": "execute_result",
          "data": {
            "text/plain": [
              "['0',\n",
              " '1',\n",
              " '2',\n",
              " '3',\n",
              " '4',\n",
              " '5',\n",
              " '6',\n",
              " '7',\n",
              " '8',\n",
              " '9',\n",
              " '10',\n",
              " '11',\n",
              " '12',\n",
              " '13',\n",
              " '14']"
            ]
          },
          "metadata": {},
          "execution_count": 15
        }
      ],
      "source": [
        "num_classes = 15 #initially 10\n",
        "input_shape = (32,32,3)\n",
        "\n",
        "#classes = ['0', '1', '2', '3', '4', '5', '6', '7', '8', '9']\n",
        "classes = [str(i) for i in range(num_classes)]\n",
        "classes"
      ]
    },
    {
      "cell_type": "markdown",
      "metadata": {
        "id": "5B1yoqGNKEXk"
      },
      "source": [
        "## Define hyperparameters"
      ]
    },
    {
      "cell_type": "code",
      "execution_count": null,
      "metadata": {
        "id": "XmfzputyKEXk"
      },
      "outputs": [],
      "source": [
        "target_size = 32  # Resize the input images.\n",
        "representation_dim = 512  # The dimensions of the features vector.\n",
        "projection_units = 128  # The projection head of the representation learner.\n",
        "num_clusters = 7  # Number of clusters. 20 here\n",
        "k_neighbours = 10  # Number of neighbours to consider during cluster learning. Initially 5\n",
        "tune_encoder_during_clustering = False  # Freeze the encoder in the cluster learning."
      ]
    },
    {
      "cell_type": "markdown",
      "metadata": {
        "id": "oBgGOr8dKEXl"
      },
      "source": [
        "## Implement data preprocessing\n",
        "\n",
        "The data preprocessing step resizes the input images to the desired `target_size` and applies\n",
        "feature-wise normalization. Note that, when using `keras.applications.ResNet50V2` as the\n",
        "visual encoder, resizing the images into 255 x 255 inputs would lead to more accurate results\n",
        "but require a longer time to train."
      ]
    },
    {
      "cell_type": "code",
      "execution_count": null,
      "metadata": {
        "id": "jZ46yZG5KEXm"
      },
      "outputs": [],
      "source": [
        "data_preprocessing = keras.Sequential(\n",
        "    [\n",
        "        layers.Resizing(target_size, target_size),\n",
        "        layers.Normalization(),\n",
        "    ]\n",
        ")\n",
        "# Compute the mean and the variance from the data for normalization.\n",
        "data_preprocessing.layers[-1].adapt(x_data)"
      ]
    },
    {
      "cell_type": "markdown",
      "metadata": {
        "id": "E_jrqhDHKEXp"
      },
      "source": [
        "## Data augmentation\n",
        "\n",
        "Unlike simCLR, which randomly picks a single data augmentation function to apply to an input\n",
        "image, we apply a set of data augmentation functions randomly to the input image.\n",
        "(You can experiment with other image augmentation techniques by following the [data augmentation tutorial](https://www.tensorflow.org/tutorials/images/data_augmentation).)"
      ]
    },
    {
      "cell_type": "code",
      "execution_count": null,
      "metadata": {
        "id": "FqFzDWTNKEXp"
      },
      "outputs": [],
      "source": [
        "data_augmentation = keras.Sequential(\n",
        "    [\n",
        "        layers.RandomTranslation(\n",
        "            height_factor=(-0.001, 0.001), width_factor=(-0.001, 0.001), fill_mode=\"nearest\"\n",
        "        ),\n",
        "        layers.RandomFlip(mode=\"horizontal\"),\n",
        "        layers.RandomRotation(\n",
        "            factor=0.25, fill_mode=\"nearest\"\n",
        "        ),\n",
        "        layers.RandomZoom(\n",
        "            height_factor=(-0.001, 0.001), width_factor=(-0.001, 0.001), fill_mode=\"nearest\"\n",
        "        )\n",
        "    ]\n",
        ")"
      ]
    },
    {
      "cell_type": "markdown",
      "metadata": {
        "id": "MpIezhuqKEXq"
      },
      "source": [
        "Display a random image"
      ]
    },
    {
      "cell_type": "code",
      "execution_count": null,
      "metadata": {
        "colab": {
          "base_uri": "https://localhost:8080/",
          "height": 210
        },
        "id": "aQ0nVdcvKEXq",
        "outputId": "c87ee335-e973-4a17-e48f-0012a01252ac"
      },
      "outputs": [
        {
          "output_type": "display_data",
          "data": {
            "text/plain": [
              "<Figure size 216x216 with 1 Axes>"
            ],
            "image/png": "[encoded data removed]"
          },
          "metadata": {
            "needs_background": "light"
          }
        }
      ],
      "source": [
        "image_idx = np.random.choice(range(x_data.shape[0]))\n",
        "image = x_data[image_idx]\n",
        "image_class = classes[y_data[image_idx][0]]\n",
        "plt.figure(figsize=(3, 3))\n",
        "plt.imshow(x_data[image_idx].astype(\"uint8\"))\n",
        "plt.title(image_class)\n",
        "_ = plt.axis(\"off\")"
      ]
    },
    {
      "cell_type": "markdown",
      "metadata": {
        "id": "nMgvmv_dKEXq"
      },
      "source": [
        "Display a sample of augmented versions of the image"
      ]
    },
    {
      "cell_type": "code",
      "execution_count": null,
      "metadata": {
        "colab": {
          "base_uri": "https://localhost:8080/",
          "height": 575
        },
        "id": "otfP5e0TKEXr",
        "outputId": "defd4993-329a-49eb-e1c0-c6611a47b127"
      },
      "outputs": [
        {
          "output_type": "display_data",
          "data": {
            "text/plain": [
              "<Figure size 720x720 with 9 Axes>"
            ],
            "image/png": "[encoded data removed]"
          },
          "metadata": {
            "needs_background": "light"
          }
        }
      ],
      "source": [
        "plt.figure(figsize=(10, 10))\n",
        "for i in range(9):\n",
        "    augmented_images = data_augmentation(np.array([image]))\n",
        "    ax = plt.subplot(3, 3, i + 1)\n",
        "    plt.imshow(augmented_images[0].numpy().astype(\"uint8\"))\n",
        "    plt.axis(\"off\")"
      ]
    },
    {
      "cell_type": "markdown",
      "metadata": {
        "id": "-FHjWZ0wKEXr"
      },
      "source": [
        "## Self-supervised representation learning"
      ]
    },
    {
      "cell_type": "markdown",
      "metadata": {
        "id": "Ah-rA5dZKEXs"
      },
      "source": [
        "### Implement the vision encoder"
      ]
    },
    {
      "cell_type": "code",
      "execution_count": null,
      "metadata": {
        "id": "Avk5k8AgKEXs"
      },
      "outputs": [],
      "source": [
        "\n",
        "def create_encoder(representation_dim):\n",
        "    encoder = keras.Sequential(\n",
        "        [\n",
        "            keras.applications.ResNet50V2(\n",
        "                include_top=False, weights=None, pooling=\"avg\"\n",
        "            ),\n",
        "            layers.Dense(representation_dim),\n",
        "        ]\n",
        "    )\n",
        "    return encoder\n"
      ]
    },
    {
      "cell_type": "markdown",
      "metadata": {
        "id": "uC9331RrKEXt"
      },
      "source": [
        "### Implement the unsupervised contrastive loss"
      ]
    },
    {
      "cell_type": "code",
      "execution_count": null,
      "metadata": {
        "id": "RMJzhKOPKEXt"
      },
      "outputs": [],
      "source": [
        "\n",
        "class RepresentationLearner(keras.Model):\n",
        "    def __init__(\n",
        "        self,\n",
        "        encoder,\n",
        "        projection_units,\n",
        "        num_augmentations,\n",
        "        temperature=1.0,\n",
        "        dropout_rate=0.1,\n",
        "        l2_normalize=False,\n",
        "        **kwargs\n",
        "    ):\n",
        "        super(RepresentationLearner, self).__init__(**kwargs)\n",
        "        self.encoder = encoder\n",
        "        # Create projection head.\n",
        "        self.projector = keras.Sequential(\n",
        "            [\n",
        "                layers.Dropout(dropout_rate),\n",
        "                layers.Dense(units=projection_units, use_bias=False),\n",
        "                layers.BatchNormalization(),\n",
        "                layers.ReLU(),\n",
        "            ]\n",
        "        )\n",
        "        self.num_augmentations = num_augmentations\n",
        "        self.temperature = temperature\n",
        "        self.l2_normalize = l2_normalize\n",
        "        self.loss_tracker = keras.metrics.Mean(name=\"loss\")\n",
        "\n",
        "    @property\n",
        "    def metrics(self):\n",
        "        return [self.loss_tracker]\n",
        "\n",
        "    def compute_contrastive_loss(self, feature_vectors, batch_size):\n",
        "        num_augmentations = tf.shape(feature_vectors)[0] // batch_size\n",
        "        if self.l2_normalize:\n",
        "            feature_vectors = tf.math.l2_normalize(feature_vectors, -1)\n",
        "        # The logits shape is [num_augmentations * batch_size, num_augmentations * batch_size].\n",
        "        logits = (\n",
        "            tf.linalg.matmul(feature_vectors, feature_vectors, transpose_b=True)\n",
        "            / self.temperature\n",
        "        )\n",
        "        # Apply log-max trick for numerical stability.\n",
        "        logits_max = tf.math.reduce_max(logits, axis=1)\n",
        "        logits = logits - logits_max\n",
        "        # The shape of targets is [num_augmentations * batch_size, num_augmentations * batch_size].\n",
        "        # targets is a matrix consits of num_augmentations submatrices of shape [batch_size * batch_size].\n",
        "        # Each [batch_size * batch_size] submatrix is an identity matrix (diagonal entries are ones).\n",
        "        targets = tf.tile(tf.eye(batch_size), [num_augmentations, num_augmentations])\n",
        "        # Compute cross entropy loss\n",
        "        return keras.losses.categorical_crossentropy(\n",
        "            y_true=targets, y_pred=logits, from_logits=True\n",
        "        )\n",
        "\n",
        "    def call(self, inputs):\n",
        "        # Preprocess the input images.\n",
        "        preprocessed = data_preprocessing(inputs)\n",
        "        # Create augmented versions of the images.\n",
        "        augmented = []\n",
        "        for _ in range(self.num_augmentations):\n",
        "            augmented.append(data_augmentation(preprocessed))\n",
        "        augmented = layers.Concatenate(axis=0)(augmented)\n",
        "        # Generate embedding representations of the images.\n",
        "        features = self.encoder(augmented)\n",
        "        # Apply projection head.\n",
        "        return self.projector(features)\n",
        "\n",
        "    def train_step(self, inputs):\n",
        "        batch_size = tf.shape(inputs)[0]\n",
        "        # Run the forward pass and compute the contrastive loss\n",
        "        with tf.GradientTape() as tape:\n",
        "            feature_vectors = self(inputs, training=True)\n",
        "            loss = self.compute_contrastive_loss(feature_vectors, batch_size)\n",
        "        # Compute gradients\n",
        "        trainable_vars = self.trainable_variables\n",
        "        gradients = tape.gradient(loss, trainable_vars)\n",
        "        # Update weights\n",
        "        self.optimizer.apply_gradients(zip(gradients, trainable_vars))\n",
        "        # Update loss tracker metric\n",
        "        self.loss_tracker.update_state(loss)\n",
        "        # Return a dict mapping metric names to current value\n",
        "        return {m.name: m.result() for m in self.metrics}\n",
        "\n",
        "    def test_step(self, inputs):\n",
        "        batch_size = tf.shape(inputs)[0]\n",
        "        feature_vectors = self(inputs, training=False)\n",
        "        loss = self.compute_contrastive_loss(feature_vectors, batch_size)\n",
        "        self.loss_tracker.update_state(loss)\n",
        "        return {\"loss\": self.loss_tracker.result()}\n"
      ]
    },
    {
      "cell_type": "markdown",
      "metadata": {
        "id": "QVg8c2wZKEXu"
      },
      "source": [
        "### Train the model"
      ]
    },
    {
      "cell_type": "code",
      "execution_count": null,
      "metadata": {
        "colab": {
          "base_uri": "https://localhost:8080/"
        },
        "id": "24nbhpPFKEXu",
        "outputId": "baff0b4c-9710-4def-f39f-047360d4d6ff"
      },
      "outputs": [
        {
          "output_type": "stream",
          "name": "stdout",
          "text": [
            "Epoch 1/50\n",
            "41/41 [==============================] - 44s 360ms/step - loss: 72.1964\n",
            "Epoch 2/50\n",
            "41/41 [==============================] - 13s 328ms/step - loss: 26.9195\n",
            "Epoch 3/50\n",
            "41/41 [==============================] - 14s 333ms/step - loss: 20.4086\n",
            "Epoch 4/50\n",
            "41/41 [==============================] - 14s 338ms/step - loss: 14.9339\n",
            "Epoch 5/50\n",
            "41/41 [==============================] - 14s 346ms/step - loss: 12.4015\n",
            "Epoch 6/50\n",
            "41/41 [==============================] - 14s 350ms/step - loss: 10.7477\n",
            "Epoch 7/50\n",
            "41/41 [==============================] - 14s 345ms/step - loss: 10.1591\n",
            "Epoch 8/50\n",
            "41/41 [==============================] - 14s 341ms/step - loss: 9.5399\n",
            "Epoch 9/50\n",
            "41/41 [==============================] - 14s 339ms/step - loss: 9.2589\n",
            "Epoch 10/50\n",
            "41/41 [==============================] - 14s 342ms/step - loss: 9.0774\n",
            "Epoch 11/50\n",
            "41/41 [==============================] - 14s 342ms/step - loss: 9.0348\n",
            "Epoch 12/50\n",
            "41/41 [==============================] - 14s 344ms/step - loss: 9.0953\n",
            "Epoch 13/50\n",
            "41/41 [==============================] - 14s 343ms/step - loss: 8.9284\n",
            "Epoch 14/50\n",
            "41/41 [==============================] - 14s 342ms/step - loss: 9.0330\n",
            "Epoch 15/50\n",
            "41/41 [==============================] - 14s 342ms/step - loss: 8.8408\n",
            "Epoch 16/50\n",
            "41/41 [==============================] - 14s 343ms/step - loss: 8.6660\n",
            "Epoch 17/50\n",
            "41/41 [==============================] - 14s 341ms/step - loss: 8.6719\n",
            "Epoch 18/50\n",
            "41/41 [==============================] - 14s 341ms/step - loss: 8.6444\n",
            "Epoch 19/50\n",
            "41/41 [==============================] - 14s 343ms/step - loss: 8.5512\n",
            "Epoch 20/50\n",
            "41/41 [==============================] - 14s 342ms/step - loss: 8.4116\n",
            "Epoch 21/50\n",
            "41/41 [==============================] - 14s 343ms/step - loss: 8.3165\n",
            "Epoch 22/50\n",
            "41/41 [==============================] - 14s 342ms/step - loss: 8.2787\n",
            "Epoch 23/50\n",
            "41/41 [==============================] - 14s 342ms/step - loss: 8.2539\n",
            "Epoch 24/50\n",
            "41/41 [==============================] - 14s 342ms/step - loss: 8.1840\n",
            "Epoch 25/50\n",
            "41/41 [==============================] - 14s 343ms/step - loss: 8.1388\n",
            "Epoch 26/50\n",
            "41/41 [==============================] - 14s 343ms/step - loss: 8.0580\n",
            "Epoch 27/50\n",
            "41/41 [==============================] - 14s 342ms/step - loss: 8.0206\n",
            "Epoch 28/50\n",
            "41/41 [==============================] - 14s 341ms/step - loss: 8.0558\n",
            "Epoch 29/50\n",
            "41/41 [==============================] - 14s 341ms/step - loss: 7.7942\n",
            "Epoch 30/50\n",
            "41/41 [==============================] - 14s 341ms/step - loss: 7.8281\n",
            "Epoch 31/50\n",
            "41/41 [==============================] - 14s 342ms/step - loss: 7.7558\n",
            "Epoch 32/50\n",
            "41/41 [==============================] - 14s 342ms/step - loss: 7.6413\n",
            "Epoch 33/50\n",
            "41/41 [==============================] - 14s 342ms/step - loss: 7.5430\n",
            "Epoch 34/50\n",
            "41/41 [==============================] - 14s 342ms/step - loss: 7.4200\n",
            "Epoch 35/50\n",
            "41/41 [==============================] - 14s 342ms/step - loss: 7.3861\n",
            "Epoch 36/50\n",
            "41/41 [==============================] - 14s 342ms/step - loss: 7.3606\n",
            "Epoch 37/50\n",
            "41/41 [==============================] - 14s 341ms/step - loss: 7.2116\n",
            "Epoch 38/50\n",
            "41/41 [==============================] - 14s 340ms/step - loss: 7.0795\n",
            "Epoch 39/50\n",
            "41/41 [==============================] - 14s 341ms/step - loss: 7.0459\n",
            "Epoch 40/50\n",
            "41/41 [==============================] - 14s 343ms/step - loss: 6.8875\n",
            "Epoch 41/50\n",
            "41/41 [==============================] - 14s 344ms/step - loss: 6.9552\n",
            "Epoch 42/50\n",
            "41/41 [==============================] - 14s 342ms/step - loss: 6.7907\n",
            "Epoch 43/50\n",
            "41/41 [==============================] - 14s 342ms/step - loss: 6.6792\n",
            "Epoch 44/50\n",
            "41/41 [==============================] - 14s 341ms/step - loss: 6.6073\n",
            "Epoch 45/50\n",
            "41/41 [==============================] - 14s 342ms/step - loss: 6.5166\n",
            "Epoch 46/50\n",
            "41/41 [==============================] - 14s 342ms/step - loss: 6.4236\n",
            "Epoch 47/50\n",
            "41/41 [==============================] - 14s 343ms/step - loss: 6.3591\n",
            "Epoch 48/50\n",
            "41/41 [==============================] - 14s 342ms/step - loss: 6.3211\n",
            "Epoch 49/50\n",
            "41/41 [==============================] - 14s 342ms/step - loss: 6.2647\n",
            "Epoch 50/50\n",
            "41/41 [==============================] - 14s 341ms/step - loss: 6.1212\n"
          ]
        }
      ],
      "source": [
        "# Create vision encoder.\n",
        "encoder = create_encoder(representation_dim)\n",
        "# Create representation learner.\n",
        "representation_learner = RepresentationLearner(\n",
        "    encoder, projection_units, num_augmentations=2, temperature=0.1\n",
        ")\n",
        "# Create a a Cosine decay learning rate scheduler.\n",
        "lr_scheduler = keras.optimizers.schedules.CosineDecay(\n",
        "    initial_learning_rate=0.001, decay_steps=500, alpha=0.1\n",
        ")\n",
        "# Compile the model.\n",
        "representation_learner.compile(\n",
        "    optimizer=tfa.optimizers.AdamW(learning_rate=lr_scheduler, weight_decay=0.0001),\n",
        ")\n",
        "# Fit the model.\n",
        "history = representation_learner.fit(\n",
        "    x=x_data,\n",
        "    batch_size=512,\n",
        "    epochs=50,  # for better results, increase the number of epochs to 500.\n",
        ")\n"
      ]
    },
    {
      "cell_type": "markdown",
      "metadata": {
        "id": "fgCqhNuIKEXu"
      },
      "source": [
        "Plot training loss"
      ]
    },
    {
      "cell_type": "code",
      "execution_count": null,
      "metadata": {
        "colab": {
          "base_uri": "https://localhost:8080/",
          "height": 279
        },
        "id": "b6cjYdigKEXv",
        "outputId": "a9d9932f-cfd2-417c-87e8-7a2aca28dd24"
      },
      "outputs": [
        {
          "output_type": "display_data",
          "data": {
            "text/plain": [
              "<Figure size 432x288 with 1 Axes>"
            ],
            "image/png": "[encoded data removed]"
          },
          "metadata": {
            "needs_background": "light"
          }
        }
      ],
      "source": [
        "plt.plot(history.history[\"loss\"])\n",
        "plt.ylabel(\"loss\")\n",
        "plt.xlabel(\"epoch\")\n",
        "plt.show()"
      ]
    },
    {
      "cell_type": "markdown",
      "metadata": {
        "id": "dbSaZw2HKEXv"
      },
      "source": [
        "## Compute the nearest neighbors"
      ]
    },
    {
      "cell_type": "markdown",
      "metadata": {
        "id": "57BMqGxrKEXv"
      },
      "source": [
        "### Generate the embeddings for the images"
      ]
    },
    {
      "cell_type": "code",
      "execution_count": null,
      "metadata": {
        "colab": {
          "base_uri": "https://localhost:8080/"
        },
        "id": "PaHpiTQ2KEXv",
        "outputId": "322fc331-272e-4db2-8fa5-db2440d40323"
      },
      "outputs": [
        {
          "output_type": "stream",
          "name": "stdout",
          "text": [
            "41/41 [==============================] - 5s 34ms/step\n"
          ]
        }
      ],
      "source": [
        "batch_size = 500\n",
        "# Get the feature vector representations of the images.\n",
        "feature_vectors = encoder.predict(x_data, batch_size=batch_size, verbose=1)\n",
        "# Normalize the feature vectores.\n",
        "feature_vectors = tf.math.l2_normalize(feature_vectors, -1)"
      ]
    },
    {
      "cell_type": "markdown",
      "metadata": {
        "id": "FaC6-BNmKEXw"
      },
      "source": [
        "### Find the *k* nearest neighbours for each embedding"
      ]
    },
    {
      "cell_type": "code",
      "execution_count": null,
      "metadata": {
        "colab": {
          "base_uri": "https://localhost:8080/"
        },
        "id": "521sQJg0KEXw",
        "outputId": "09485da6-9818-4401-9520-b466fb4f6c25"
      },
      "outputs": [
        {
          "output_type": "stream",
          "name": "stderr",
          "text": [
            "100%|██████████| 41/41 [00:00<00:00, 219.99it/s]\n"
          ]
        }
      ],
      "source": [
        "neighbours = []\n",
        "num_batches = feature_vectors.shape[0] // batch_size\n",
        "for batch_idx in tqdm(range(num_batches)):\n",
        "    start_idx = batch_idx * batch_size\n",
        "    end_idx = start_idx + batch_size\n",
        "    current_batch = feature_vectors[start_idx:end_idx]\n",
        "    # Compute the dot similarity.\n",
        "    similarities = tf.linalg.matmul(current_batch, feature_vectors, transpose_b=True)\n",
        "    # Get the indices of most similar vectors.\n",
        "    _, indices = tf.math.top_k(similarities, k=k_neighbours + 1, sorted=True)\n",
        "    # Add the indices to the neighbours.\n",
        "    neighbours.append(indices[..., 1:])\n",
        "\n",
        "neighbours = np.reshape(np.array(neighbours), (-1, k_neighbours))"
      ]
    },
    {
      "cell_type": "markdown",
      "metadata": {
        "id": "tjiGtRmoKEXw"
      },
      "source": [
        "Let's display some neighbors on each row"
      ]
    },
    {
      "cell_type": "code",
      "execution_count": null,
      "metadata": {
        "colab": {
          "base_uri": "https://localhost:8080/",
          "height": 609
        },
        "id": "pwxlt4pUKEXw",
        "outputId": "384e358e-a1d4-405c-9e13-738e572b15b7"
      },
      "outputs": [
        {
          "output_type": "display_data",
          "data": {
            "text/plain": [
              "<Figure size 864x864 with 44 Axes>"
            ],
            "image/png": "[encoded data removed]"
          },
          "metadata": {
            "needs_background": "light"
          }
        }
      ],
      "source": [
        "nrows = 4\n",
        "ncols = k_neighbours + 1\n",
        "\n",
        "plt.figure(figsize=(12, 12))\n",
        "position = 1\n",
        "for _ in range(nrows):\n",
        "    anchor_idx = np.random.choice(range(x_data.shape[0]))\n",
        "    neighbour_indicies = neighbours[anchor_idx]\n",
        "    indices = [anchor_idx] + neighbour_indicies.tolist()\n",
        "    for j in range(ncols):\n",
        "        plt.subplot(nrows, ncols, position)\n",
        "        plt.imshow(x_data[indices[j]].astype(\"uint8\"))\n",
        "        plt.title(classes[y_data[indices[j]][0]])\n",
        "        plt.axis(\"off\")\n",
        "        position += 1"
      ]
    },
    {
      "cell_type": "markdown",
      "metadata": {
        "id": "-ni2DmULKEXx"
      },
      "source": [
        "You notice that images on each row are visually similar, and belong to similar classes."
      ]
    },
    {
      "cell_type": "markdown",
      "metadata": {
        "id": "Y-nGkoIaKEXx"
      },
      "source": [
        "## Semantic clustering with nearest neighbours"
      ]
    },
    {
      "cell_type": "markdown",
      "metadata": {
        "id": "RiXYt0SXKEXx"
      },
      "source": [
        "### Implement clustering consistency loss\n",
        "\n",
        "This loss tries to make sure that neighbours have the same clustering assignments."
      ]
    },
    {
      "cell_type": "code",
      "execution_count": null,
      "metadata": {
        "id": "j15kVP7hKEXx"
      },
      "outputs": [],
      "source": [
        "\n",
        "class ClustersConsistencyLoss(keras.losses.Loss):\n",
        "    def __init__(self):\n",
        "        super(ClustersConsistencyLoss, self).__init__()\n",
        "\n",
        "    def __call__(self, target, similarity, sample_weight=None):\n",
        "        # Set targets to be ones.\n",
        "        target = tf.ones_like(similarity)\n",
        "        # Compute cross entropy loss.\n",
        "        loss = keras.losses.binary_crossentropy(\n",
        "            y_true=target, y_pred=similarity, from_logits=True\n",
        "        )\n",
        "        return tf.math.reduce_mean(loss)\n"
      ]
    },
    {
      "cell_type": "markdown",
      "metadata": {
        "id": "wGMKejPDKEXx"
      },
      "source": [
        "### Implement the clusters entropy loss\n",
        "\n",
        "This loss tries to make sure that cluster distribution is roughly uniformed, to avoid\n",
        "assigning most of the instances to one cluster."
      ]
    },
    {
      "cell_type": "code",
      "execution_count": null,
      "metadata": {
        "id": "0vBS4_nlKEXy"
      },
      "outputs": [],
      "source": [
        "\n",
        "class ClustersEntropyLoss(keras.losses.Loss):\n",
        "    def __init__(self, entropy_loss_weight=1.0):\n",
        "        super(ClustersEntropyLoss, self).__init__()\n",
        "        self.entropy_loss_weight = entropy_loss_weight\n",
        "\n",
        "    def __call__(self, target, cluster_probabilities, sample_weight=None):\n",
        "        # Ideal entropy = log(num_clusters).\n",
        "        num_clusters = tf.cast(tf.shape(cluster_probabilities)[-1], tf.dtypes.float32)\n",
        "        target = tf.math.log(num_clusters)\n",
        "        # Compute the overall clusters distribution.\n",
        "        cluster_probabilities = tf.math.reduce_mean(cluster_probabilities, axis=0)\n",
        "        # Replacing zero probabilities - if any - with a very small value.\n",
        "        cluster_probabilities = tf.clip_by_value(\n",
        "            cluster_probabilities, clip_value_min=1e-8, clip_value_max=1.0\n",
        "        )\n",
        "        # Compute the entropy over the clusters.\n",
        "        entropy = -tf.math.reduce_sum(\n",
        "            cluster_probabilities * tf.math.log(cluster_probabilities)\n",
        "        )\n",
        "        # Compute the difference between the target and the actual.\n",
        "        loss = target - entropy\n",
        "        return loss\n"
      ]
    },
    {
      "cell_type": "markdown",
      "metadata": {
        "id": "kgnrOd53KEXy"
      },
      "source": [
        "### Implement clustering model\n",
        "\n",
        "This model takes a raw image as an input, generated its feature vector using the trained\n",
        "encoder, and produces a probability distribution of the clusters given the feature vector\n",
        "as the cluster assignments."
      ]
    },
    {
      "cell_type": "code",
      "execution_count": null,
      "metadata": {
        "id": "KrjnSp7eKEXy"
      },
      "outputs": [],
      "source": [
        "\n",
        "def create_clustering_model(encoder, num_clusters, name=None):\n",
        "    inputs = keras.Input(shape=input_shape)\n",
        "    # Preprocess the input images.\n",
        "    preprocessed = data_preprocessing(inputs)\n",
        "    # Apply data augmentation to the images.\n",
        "    augmented = data_augmentation(preprocessed)\n",
        "    # Generate embedding representations of the images.\n",
        "    features = encoder(augmented)\n",
        "    # Assign the images to clusters.\n",
        "    outputs = layers.Dense(units=num_clusters, activation=\"softmax\")(features)\n",
        "    # Create the model.\n",
        "    model = keras.Model(inputs=inputs, outputs=outputs, name=name)\n",
        "    return model\n"
      ]
    },
    {
      "cell_type": "markdown",
      "metadata": {
        "id": "8W-WTYVdKEXy"
      },
      "source": [
        "### Implement clustering learner\n",
        "\n",
        "This model receives the input `anchor` image and its `neighbours`, produces the clusters\n",
        "assignments for them using the `clustering_model`, and produces two outputs:\n",
        "1. `similarity`: the similarity between the cluster assignments of the `anchor` image and\n",
        "its `neighbours`. This output is fed to the `ClustersConsistencyLoss`.\n",
        "2. `anchor_clustering`: cluster assignments of the `anchor` images. This is fed to the `ClustersEntropyLoss`."
      ]
    },
    {
      "cell_type": "code",
      "execution_count": null,
      "metadata": {
        "id": "ssgkAc_mKEXy"
      },
      "outputs": [],
      "source": [
        "\n",
        "def create_clustering_learner(clustering_model):\n",
        "    anchor = keras.Input(shape=input_shape, name=\"anchors\")\n",
        "    neighbours = keras.Input(\n",
        "        shape=tuple([k_neighbours]) + input_shape, name=\"neighbours\"\n",
        "    )\n",
        "    # Changes neighbours shape to [batch_size * k_neighbours, width, height, channels]\n",
        "    neighbours_reshaped = tf.reshape(neighbours, shape=tuple([-1]) + input_shape)\n",
        "    # anchor_clustering shape: [batch_size, num_clusters]\n",
        "    anchor_clustering = clustering_model(anchor)\n",
        "    # neighbours_clustering shape: [batch_size * k_neighbours, num_clusters]\n",
        "    neighbours_clustering = clustering_model(neighbours_reshaped)\n",
        "    # Convert neighbours_clustering shape to [batch_size, k_neighbours, num_clusters]\n",
        "    neighbours_clustering = tf.reshape(\n",
        "        neighbours_clustering,\n",
        "        shape=(-1, k_neighbours, tf.shape(neighbours_clustering)[-1]),\n",
        "    )\n",
        "    # similarity shape: [batch_size, 1, k_neighbours]\n",
        "    similarity = tf.linalg.einsum(\n",
        "        \"bij,bkj->bik\", tf.expand_dims(anchor_clustering, axis=1), neighbours_clustering\n",
        "    )\n",
        "    # similarity shape:  [batch_size, k_neighbours]\n",
        "    similarity = layers.Lambda(lambda x: tf.squeeze(x, axis=1), name=\"similarity\")(\n",
        "        similarity\n",
        "    )\n",
        "    # Create the model.\n",
        "    model = keras.Model(\n",
        "        inputs=[anchor, neighbours],\n",
        "        outputs=[similarity, anchor_clustering],\n",
        "        name=\"clustering_learner\",\n",
        "    )\n",
        "    return model\n"
      ]
    },
    {
      "cell_type": "markdown",
      "metadata": {
        "id": "kTi4QPLTKEXz"
      },
      "source": [
        "### Train model"
      ]
    },
    {
      "cell_type": "code",
      "execution_count": null,
      "metadata": {
        "colab": {
          "base_uri": "https://localhost:8080/"
        },
        "id": "7NFDg6vVKEXz",
        "outputId": "ccfa7f68-5354-4c39-cbae-e139caa439bb"
      },
      "outputs": [
        {
          "output_type": "stream",
          "name": "stdout",
          "text": [
            "Epoch 1/50\n",
            "41/41 [==============================] - 34s 455ms/step - loss: 0.6102 - similarity_loss: 0.6057 - clustering_loss: 0.0045\n",
            "Epoch 2/50\n",
            "41/41 [==============================] - 17s 404ms/step - loss: 0.5839 - similarity_loss: 0.5808 - clustering_loss: 0.0031\n",
            "Epoch 3/50\n",
            "41/41 [==============================] - 16s 398ms/step - loss: 0.5609 - similarity_loss: 0.5570 - clustering_loss: 0.0039\n",
            "Epoch 4/50\n",
            "41/41 [==============================] - 16s 395ms/step - loss: 0.5482 - similarity_loss: 0.5430 - clustering_loss: 0.0052\n",
            "Epoch 5/50\n",
            "41/41 [==============================] - 16s 396ms/step - loss: 0.5409 - similarity_loss: 0.5340 - clustering_loss: 0.0069\n",
            "Epoch 6/50\n",
            "41/41 [==============================] - 16s 397ms/step - loss: 0.5358 - similarity_loss: 0.5309 - clustering_loss: 0.0048\n",
            "Epoch 7/50\n",
            "41/41 [==============================] - 16s 398ms/step - loss: 0.5339 - similarity_loss: 0.5286 - clustering_loss: 0.0054\n",
            "Epoch 8/50\n",
            "41/41 [==============================] - 16s 398ms/step - loss: 0.5322 - similarity_loss: 0.5265 - clustering_loss: 0.0057\n",
            "Epoch 9/50\n",
            "41/41 [==============================] - 16s 398ms/step - loss: 0.5311 - similarity_loss: 0.5244 - clustering_loss: 0.0067\n",
            "Epoch 10/50\n",
            "41/41 [==============================] - 16s 397ms/step - loss: 0.5291 - similarity_loss: 0.5233 - clustering_loss: 0.0057\n",
            "Epoch 11/50\n",
            "41/41 [==============================] - 16s 398ms/step - loss: 0.5277 - similarity_loss: 0.5223 - clustering_loss: 0.0055\n",
            "Epoch 12/50\n",
            "41/41 [==============================] - 16s 397ms/step - loss: 0.5281 - similarity_loss: 0.5219 - clustering_loss: 0.0062\n",
            "Epoch 13/50\n",
            "41/41 [==============================] - 16s 397ms/step - loss: 0.5277 - similarity_loss: 0.5219 - clustering_loss: 0.0057\n",
            "Epoch 14/50\n",
            "41/41 [==============================] - 16s 398ms/step - loss: 0.5270 - similarity_loss: 0.5208 - clustering_loss: 0.0062\n",
            "Epoch 15/50\n",
            "41/41 [==============================] - 16s 399ms/step - loss: 0.5271 - similarity_loss: 0.5207 - clustering_loss: 0.0064\n",
            "Epoch 16/50\n",
            "41/41 [==============================] - 16s 398ms/step - loss: 0.5260 - similarity_loss: 0.5209 - clustering_loss: 0.0050\n",
            "Epoch 17/50\n",
            "41/41 [==============================] - 16s 398ms/step - loss: 0.5257 - similarity_loss: 0.5195 - clustering_loss: 0.0062\n",
            "Epoch 18/50\n",
            "41/41 [==============================] - 16s 398ms/step - loss: 0.5252 - similarity_loss: 0.5200 - clustering_loss: 0.0052\n",
            "Epoch 19/50\n",
            "41/41 [==============================] - 16s 397ms/step - loss: 0.5262 - similarity_loss: 0.5194 - clustering_loss: 0.0068\n",
            "Epoch 20/50\n",
            "41/41 [==============================] - 16s 397ms/step - loss: 0.5256 - similarity_loss: 0.5185 - clustering_loss: 0.0071\n",
            "Epoch 21/50\n",
            "41/41 [==============================] - 16s 397ms/step - loss: 0.5255 - similarity_loss: 0.5190 - clustering_loss: 0.0065\n",
            "Epoch 22/50\n",
            "41/41 [==============================] - 16s 398ms/step - loss: 0.5252 - similarity_loss: 0.5190 - clustering_loss: 0.0061\n",
            "Epoch 23/50\n",
            "41/41 [==============================] - 16s 398ms/step - loss: 0.5246 - similarity_loss: 0.5184 - clustering_loss: 0.0062\n",
            "Epoch 24/50\n",
            "41/41 [==============================] - 16s 398ms/step - loss: 0.5246 - similarity_loss: 0.5189 - clustering_loss: 0.0056\n",
            "Epoch 25/50\n",
            "41/41 [==============================] - 16s 397ms/step - loss: 0.5246 - similarity_loss: 0.5180 - clustering_loss: 0.0065\n",
            "Epoch 26/50\n",
            "41/41 [==============================] - 16s 398ms/step - loss: 0.5241 - similarity_loss: 0.5173 - clustering_loss: 0.0068\n",
            "Epoch 27/50\n",
            "41/41 [==============================] - 16s 398ms/step - loss: 0.5229 - similarity_loss: 0.5176 - clustering_loss: 0.0053\n",
            "Epoch 28/50\n",
            "41/41 [==============================] - 16s 398ms/step - loss: 0.5230 - similarity_loss: 0.5171 - clustering_loss: 0.0058\n",
            "Epoch 29/50\n",
            "41/41 [==============================] - 16s 396ms/step - loss: 0.5242 - similarity_loss: 0.5174 - clustering_loss: 0.0068\n",
            "Epoch 30/50\n",
            "41/41 [==============================] - 16s 396ms/step - loss: 0.5238 - similarity_loss: 0.5171 - clustering_loss: 0.0067\n",
            "Epoch 31/50\n",
            "41/41 [==============================] - 16s 397ms/step - loss: 0.5236 - similarity_loss: 0.5166 - clustering_loss: 0.0070\n",
            "Epoch 32/50\n",
            "41/41 [==============================] - 16s 400ms/step - loss: 0.5237 - similarity_loss: 0.5160 - clustering_loss: 0.0078\n",
            "Epoch 33/50\n",
            "41/41 [==============================] - 16s 399ms/step - loss: 0.5224 - similarity_loss: 0.5169 - clustering_loss: 0.0055\n",
            "Epoch 34/50\n",
            "41/41 [==============================] - 16s 398ms/step - loss: 0.5237 - similarity_loss: 0.5171 - clustering_loss: 0.0066\n",
            "Epoch 35/50\n",
            "41/41 [==============================] - 16s 397ms/step - loss: 0.5250 - similarity_loss: 0.5168 - clustering_loss: 0.0082\n",
            "Epoch 36/50\n",
            "41/41 [==============================] - 16s 397ms/step - loss: 0.5234 - similarity_loss: 0.5165 - clustering_loss: 0.0069\n",
            "Epoch 37/50\n",
            "41/41 [==============================] - 16s 400ms/step - loss: 0.5237 - similarity_loss: 0.5172 - clustering_loss: 0.0064\n",
            "Epoch 38/50\n",
            "41/41 [==============================] - 16s 398ms/step - loss: 0.5227 - similarity_loss: 0.5167 - clustering_loss: 0.0060\n",
            "Epoch 39/50\n",
            "41/41 [==============================] - 16s 397ms/step - loss: 0.5231 - similarity_loss: 0.5168 - clustering_loss: 0.0063\n",
            "Epoch 40/50\n",
            "41/41 [==============================] - 16s 397ms/step - loss: 0.5227 - similarity_loss: 0.5162 - clustering_loss: 0.0065\n",
            "Epoch 41/50\n",
            "41/41 [==============================] - 16s 398ms/step - loss: 0.5222 - similarity_loss: 0.5168 - clustering_loss: 0.0054\n",
            "Epoch 42/50\n",
            "41/41 [==============================] - 16s 397ms/step - loss: 0.5226 - similarity_loss: 0.5170 - clustering_loss: 0.0056\n",
            "Epoch 43/50\n",
            "41/41 [==============================] - 16s 396ms/step - loss: 0.5227 - similarity_loss: 0.5157 - clustering_loss: 0.0070\n",
            "Epoch 44/50\n",
            "41/41 [==============================] - 16s 397ms/step - loss: 0.5221 - similarity_loss: 0.5163 - clustering_loss: 0.0058\n",
            "Epoch 45/50\n",
            "41/41 [==============================] - 16s 397ms/step - loss: 0.5220 - similarity_loss: 0.5166 - clustering_loss: 0.0054\n",
            "Epoch 46/50\n",
            "41/41 [==============================] - 16s 399ms/step - loss: 0.5227 - similarity_loss: 0.5163 - clustering_loss: 0.0064\n",
            "Epoch 47/50\n",
            "41/41 [==============================] - 16s 397ms/step - loss: 0.5229 - similarity_loss: 0.5162 - clustering_loss: 0.0066\n",
            "Epoch 48/50\n",
            "41/41 [==============================] - 16s 398ms/step - loss: 0.5228 - similarity_loss: 0.5168 - clustering_loss: 0.0060\n",
            "Epoch 49/50\n",
            "41/41 [==============================] - 16s 398ms/step - loss: 0.5219 - similarity_loss: 0.5159 - clustering_loss: 0.0059\n",
            "Epoch 50/50\n",
            "41/41 [==============================] - 16s 398ms/step - loss: 0.5218 - similarity_loss: 0.5161 - clustering_loss: 0.0058\n"
          ]
        },
        {
          "output_type": "execute_result",
          "data": {
            "text/plain": [
              "<keras.callbacks.History at 0x7f7e3e2c2ed0>"
            ]
          },
          "metadata": {},
          "execution_count": 29
        }
      ],
      "source": [
        "# If tune_encoder_during_clustering is set to False,\n",
        "# then freeze the encoder weights.\n",
        "for layer in encoder.layers:\n",
        "    layer.trainable = tune_encoder_during_clustering\n",
        "# Create the clustering model and learner.\n",
        "clustering_model = create_clustering_model(encoder, num_clusters, name=\"clustering\")\n",
        "clustering_learner = create_clustering_learner(clustering_model)\n",
        "# Instantiate the model losses.\n",
        "losses = [ClustersConsistencyLoss(), ClustersEntropyLoss(entropy_loss_weight=5)]\n",
        "# Create the model inputs and labels.\n",
        "inputs = {\"anchors\": x_data, \"neighbours\": tf.gather(x_data, neighbours)}\n",
        "labels = tf.ones(shape=(x_data.shape[0]))\n",
        "# Compile the model.\n",
        "clustering_learner.compile(\n",
        "    optimizer=tfa.optimizers.AdamW(learning_rate=0.0005, weight_decay=0.0001),\n",
        "    loss=losses,\n",
        ")\n",
        "\n",
        "# Begin training the model.\n",
        "clustering_learner.fit(x=inputs, y=labels, batch_size=512, epochs=50)"
      ]
    },
    {
      "cell_type": "markdown",
      "metadata": {
        "id": "CQH8iONYKEXz"
      },
      "source": [
        "Plot training loss"
      ]
    },
    {
      "cell_type": "code",
      "execution_count": null,
      "metadata": {
        "colab": {
          "base_uri": "https://localhost:8080/",
          "height": 279
        },
        "id": "SlQvnU_QKEXz",
        "outputId": "40d2a76f-b0a6-43eb-936e-909f4b04a0f2"
      },
      "outputs": [
        {
          "output_type": "display_data",
          "data": {
            "text/plain": [
              "<Figure size 432x288 with 1 Axes>"
            ],
            "image/png": "[encoded data removed]"
          },
          "metadata": {
            "needs_background": "light"
          }
        }
      ],
      "source": [
        "plt.plot(history.history[\"loss\"])\n",
        "plt.ylabel(\"loss\")\n",
        "plt.xlabel(\"epoch\")\n",
        "plt.show()"
      ]
    },
    {
      "cell_type": "markdown",
      "metadata": {
        "id": "FBLEhWVzKEXz"
      },
      "source": [
        "## Cluster analysis"
      ]
    },
    {
      "cell_type": "markdown",
      "metadata": {
        "id": "VC7NCPT2KEX0"
      },
      "source": [
        "### Assign images to clusters"
      ]
    },
    {
      "cell_type": "code",
      "execution_count": null,
      "metadata": {
        "colab": {
          "base_uri": "https://localhost:8080/"
        },
        "id": "GhGCwCSJKEX0",
        "outputId": "789e7e0a-7fc3-4121-807a-a69eb729b058"
      },
      "outputs": [
        {
          "output_type": "stream",
          "name": "stdout",
          "text": [
            "41/41 [==============================] - 2s 36ms/step\n"
          ]
        }
      ],
      "source": [
        "# Get the cluster probability distribution of the input images.\n",
        "clustering_probs = clustering_model.predict(x_data, batch_size=batch_size, verbose=1)\n",
        "# Get the cluster of the highest probability.\n",
        "cluster_assignments = tf.math.argmax(clustering_probs, axis=-1).numpy()\n",
        "# Store the clustering confidence.\n",
        "# Images with the highest clustering confidence are considered the 'prototypes'\n",
        "# of the clusters.\n",
        "cluster_confidence = tf.math.reduce_max(clustering_probs, axis=-1).numpy()"
      ]
    },
    {
      "cell_type": "markdown",
      "metadata": {
        "id": "wtge_38VKEX0"
      },
      "source": [
        "Let's compute the cluster sizes"
      ]
    },
    {
      "cell_type": "code",
      "execution_count": null,
      "metadata": {
        "colab": {
          "base_uri": "https://localhost:8080/"
        },
        "id": "qJlFicNnKEX0",
        "outputId": "3fb7ead8-c05e-4ebd-889e-0cb4e821ad44"
      },
      "outputs": [
        {
          "output_type": "stream",
          "name": "stdout",
          "text": [
            "cluster 0 : 1834\n",
            "cluster 1 : 3079\n",
            "cluster 2 : 3714\n",
            "cluster 3 : 3829\n",
            "cluster 4 : 3003\n",
            "cluster 5 : 2298\n",
            "cluster 6 : 2743\n"
          ]
        }
      ],
      "source": [
        "clusters = defaultdict(list)\n",
        "for idx, c in enumerate(cluster_assignments):\n",
        "    clusters[c].append((idx, cluster_confidence[idx]))\n",
        "\n",
        "for c in range(num_clusters):\n",
        "    print(\"cluster\", c, \":\", len(clusters[c]))"
      ]
    },
    {
      "cell_type": "markdown",
      "metadata": {
        "id": "YZ6WvJKjKEX0"
      },
      "source": [
        "Notice that the clusters have roughly balanced sizes."
      ]
    },
    {
      "cell_type": "markdown",
      "metadata": {
        "id": "wHc_5tB6KEX0"
      },
      "source": [
        "### Visualize cluster images\n",
        "\n",
        "Display the *prototypes*—instances with the highest clustering confidence—of each cluster:"
      ]
    },
    {
      "cell_type": "code",
      "execution_count": null,
      "metadata": {
        "colab": {
          "base_uri": "https://localhost:8080/",
          "height": 1000
        },
        "id": "nmXJ7h6sKEX1",
        "outputId": "c9cbf1c8-7f3a-4ba4-b004-74f2b3b13110"
      },
      "outputs": [
        {
          "output_type": "display_data",
          "data": {
            "text/plain": [
              "<Figure size 1440x1440 with 56 Axes>"
            ],
            "image/png": "[encoded data removed]"
          },
          "metadata": {
            "needs_background": "light"
          }
        }
      ],
      "source": [
        "num_images = 8\n",
        "plt.figure(figsize=(20, 20))\n",
        "position = 1\n",
        "for c in range(num_clusters):\n",
        "    cluster_instances = sorted(clusters[c], key=lambda kv: kv[1], reverse=True)\n",
        "\n",
        "    for j in range(num_images):\n",
        "        image_idx = cluster_instances[j][0]\n",
        "        plt.subplot(num_clusters, num_images, position)\n",
        "        plt.imshow(x_data[image_idx].astype(\"uint8\"))\n",
        "        #plt.title(classes[y_data[image_idx][0]])\n",
        "        plt.axis(\"off\")\n",
        "        position += 1"
      ]
    },
    {
      "cell_type": "code",
      "source": [
        "print(type(clusters))"
      ],
      "metadata": {
        "colab": {
          "base_uri": "https://localhost:8080/"
        },
        "id": "QxXlul7heUzo",
        "outputId": "94805028-80ef-4933-ab3c-8468fd6b0f75"
      },
      "execution_count": null,
      "outputs": [
        {
          "output_type": "stream",
          "name": "stdout",
          "text": [
            "<class 'collections.defaultdict'>\n"
          ]
        }
      ]
    },
    {
      "cell_type": "code",
      "source": [
        "import pickle \n",
        "with open(\"/content/sample_data/clusters.pkl\", \"wb\") as pkl_handle:\n",
        "\tpickle.dump(clusters, pkl_handle)"
      ],
      "metadata": {
        "id": "-NFqA78Tf1tz"
      },
      "execution_count": null,
      "outputs": []
    },
    {
      "cell_type": "code",
      "source": [
        "with open(\"clusters.pkl\", \"rb\") as pkl_handle:\n",
        "\tclusters_copy = pickle.load(pkl_handle)"
      ],
      "metadata": {
        "id": "roT6k5A0f-do"
      },
      "execution_count": null,
      "outputs": []
    },
    {
      "cell_type": "code",
      "source": [
        "import pickle \n",
        "\n",
        "with open(\"/content/sample_data/x_data-20500.pkl\", \"wb\") as pkl_handle:\n",
        "\tpickle.dump(x_data, pkl_handle)"
      ],
      "metadata": {
        "id": "ZbpVYqz8g39S"
      },
      "execution_count": null,
      "outputs": []
    },
    {
      "cell_type": "code",
      "source": [
        "with open(\"x_data-20500.pkl\", \"rb\") as pkl_handle:\n",
        "\tx_data_copy = pickle.load(pkl_handle)"
      ],
      "metadata": {
        "id": "besTqOLlhEU-"
      },
      "execution_count": null,
      "outputs": []
    },
    {
      "cell_type": "code",
      "source": [
        "x_data_copy"
      ],
      "metadata": {
        "colab": {
          "base_uri": "https://localhost:8080/"
        },
        "id": "eXlT1SALhOjR",
        "outputId": "1c1d96a6-be2a-4f98-fb24-9d855059a1cc"
      },
      "execution_count": null,
      "outputs": [
        {
          "output_type": "execute_result",
          "data": {
            "text/plain": [
              "array([[[[255., 255., 255.],\n",
              "         [255., 255., 255.],\n",
              "         [255., 255., 255.],\n",
              "         ...,\n",
              "         [255., 255., 255.],\n",
              "         [255., 255., 255.],\n",
              "         [255., 255., 255.]],\n",
              "\n",
              "        [[255., 255., 255.],\n",
              "         [255., 255., 255.],\n",
              "         [255., 255., 255.],\n",
              "         ...,\n",
              "         [255., 255., 255.],\n",
              "         [255., 255., 255.],\n",
              "         [255., 255., 255.]],\n",
              "\n",
              "        [[255., 255., 255.],\n",
              "         [255., 255., 255.],\n",
              "         [255., 255., 255.],\n",
              "         ...,\n",
              "         [255., 255., 255.],\n",
              "         [255., 255., 255.],\n",
              "         [255., 255., 255.]],\n",
              "\n",
              "        ...,\n",
              "\n",
              "        [[255., 255., 255.],\n",
              "         [255., 255., 255.],\n",
              "         [255., 255., 255.],\n",
              "         ...,\n",
              "         [255., 255., 255.],\n",
              "         [255., 255., 255.],\n",
              "         [255., 255., 255.]],\n",
              "\n",
              "        [[255., 255., 255.],\n",
              "         [255., 255., 255.],\n",
              "         [255., 255., 255.],\n",
              "         ...,\n",
              "         [255., 255., 255.],\n",
              "         [255., 255., 255.],\n",
              "         [255., 255., 255.]],\n",
              "\n",
              "        [[255., 255., 255.],\n",
              "         [255., 255., 255.],\n",
              "         [255., 255., 255.],\n",
              "         ...,\n",
              "         [255., 255., 255.],\n",
              "         [255., 255., 255.],\n",
              "         [255., 255., 255.]]],\n",
              "\n",
              "\n",
              "       [[[255., 255., 255.],\n",
              "         [255., 255., 255.],\n",
              "         [255., 255., 255.],\n",
              "         ...,\n",
              "         [255., 255., 255.],\n",
              "         [255., 255., 255.],\n",
              "         [255., 255., 255.]],\n",
              "\n",
              "        [[255., 255., 255.],\n",
              "         [255., 255., 255.],\n",
              "         [255., 255., 255.],\n",
              "         ...,\n",
              "         [255., 255., 255.],\n",
              "         [255., 255., 255.],\n",
              "         [255., 255., 255.]],\n",
              "\n",
              "        [[255., 255., 255.],\n",
              "         [255., 255., 255.],\n",
              "         [255., 255., 255.],\n",
              "         ...,\n",
              "         [255., 255., 255.],\n",
              "         [255., 255., 255.],\n",
              "         [255., 255., 255.]],\n",
              "\n",
              "        ...,\n",
              "\n",
              "        [[255., 255., 255.],\n",
              "         [255., 255., 255.],\n",
              "         [255., 255., 255.],\n",
              "         ...,\n",
              "         [255., 255., 255.],\n",
              "         [255., 255., 255.],\n",
              "         [255., 255., 255.]],\n",
              "\n",
              "        [[255., 255., 255.],\n",
              "         [255., 255., 255.],\n",
              "         [255., 255., 255.],\n",
              "         ...,\n",
              "         [255., 255., 255.],\n",
              "         [255., 255., 255.],\n",
              "         [255., 255., 255.]],\n",
              "\n",
              "        [[255., 255., 255.],\n",
              "         [255., 255., 255.],\n",
              "         [255., 255., 255.],\n",
              "         ...,\n",
              "         [255., 255., 255.],\n",
              "         [255., 255., 255.],\n",
              "         [255., 255., 255.]]],\n",
              "\n",
              "\n",
              "       [[[255., 255., 255.],\n",
              "         [255., 255., 255.],\n",
              "         [255., 255., 255.],\n",
              "         ...,\n",
              "         [255., 255., 255.],\n",
              "         [255., 255., 255.],\n",
              "         [255., 255., 255.]],\n",
              "\n",
              "        [[255., 255., 255.],\n",
              "         [255., 255., 255.],\n",
              "         [255., 255., 255.],\n",
              "         ...,\n",
              "         [255., 255., 255.],\n",
              "         [255., 255., 255.],\n",
              "         [255., 255., 255.]],\n",
              "\n",
              "        [[255., 255., 255.],\n",
              "         [255., 255., 255.],\n",
              "         [255., 255., 255.],\n",
              "         ...,\n",
              "         [255., 255., 255.],\n",
              "         [255., 255., 255.],\n",
              "         [255., 255., 255.]],\n",
              "\n",
              "        ...,\n",
              "\n",
              "        [[255., 255., 255.],\n",
              "         [255., 255., 255.],\n",
              "         [255., 255., 255.],\n",
              "         ...,\n",
              "         [255., 255., 255.],\n",
              "         [255., 255., 255.],\n",
              "         [255., 255., 255.]],\n",
              "\n",
              "        [[255., 255., 255.],\n",
              "         [255., 255., 255.],\n",
              "         [255., 255., 255.],\n",
              "         ...,\n",
              "         [255., 255., 255.],\n",
              "         [255., 255., 255.],\n",
              "         [255., 255., 255.]],\n",
              "\n",
              "        [[255., 255., 255.],\n",
              "         [255., 255., 255.],\n",
              "         [255., 255., 255.],\n",
              "         ...,\n",
              "         [255., 255., 255.],\n",
              "         [255., 255., 255.],\n",
              "         [255., 255., 255.]]],\n",
              "\n",
              "\n",
              "       ...,\n",
              "\n",
              "\n",
              "       [[[255., 255., 255.],\n",
              "         [255., 255., 255.],\n",
              "         [255., 255., 255.],\n",
              "         ...,\n",
              "         [255., 255., 255.],\n",
              "         [255., 255., 255.],\n",
              "         [255., 255., 255.]],\n",
              "\n",
              "        [[255., 255., 255.],\n",
              "         [255., 255., 255.],\n",
              "         [255., 255., 255.],\n",
              "         ...,\n",
              "         [255., 255., 255.],\n",
              "         [255., 255., 255.],\n",
              "         [255., 255., 255.]],\n",
              "\n",
              "        [[255., 255., 255.],\n",
              "         [255., 255., 255.],\n",
              "         [255., 255., 255.],\n",
              "         ...,\n",
              "         [255., 255., 255.],\n",
              "         [255., 255., 255.],\n",
              "         [255., 255., 255.]],\n",
              "\n",
              "        ...,\n",
              "\n",
              "        [[255., 255., 255.],\n",
              "         [255., 255., 255.],\n",
              "         [255., 255., 255.],\n",
              "         ...,\n",
              "         [255., 255., 255.],\n",
              "         [255., 255., 255.],\n",
              "         [255., 255., 255.]],\n",
              "\n",
              "        [[255., 255., 255.],\n",
              "         [255., 255., 255.],\n",
              "         [255., 255., 255.],\n",
              "         ...,\n",
              "         [255., 255., 255.],\n",
              "         [255., 255., 255.],\n",
              "         [255., 255., 255.]],\n",
              "\n",
              "        [[255., 255., 255.],\n",
              "         [255., 255., 255.],\n",
              "         [255., 255., 255.],\n",
              "         ...,\n",
              "         [255., 255., 255.],\n",
              "         [255., 255., 255.],\n",
              "         [255., 255., 255.]]],\n",
              "\n",
              "\n",
              "       [[[255., 255., 255.],\n",
              "         [255., 255., 255.],\n",
              "         [255., 255., 255.],\n",
              "         ...,\n",
              "         [255., 255., 255.],\n",
              "         [255., 255., 255.],\n",
              "         [255., 255., 255.]],\n",
              "\n",
              "        [[255., 255., 255.],\n",
              "         [255., 255., 255.],\n",
              "         [255., 255., 255.],\n",
              "         ...,\n",
              "         [255., 255., 255.],\n",
              "         [255., 255., 255.],\n",
              "         [255., 255., 255.]],\n",
              "\n",
              "        [[255., 255., 255.],\n",
              "         [255., 255., 255.],\n",
              "         [255., 255., 255.],\n",
              "         ...,\n",
              "         [255., 255., 255.],\n",
              "         [255., 255., 255.],\n",
              "         [255., 255., 255.]],\n",
              "\n",
              "        ...,\n",
              "\n",
              "        [[255., 255., 255.],\n",
              "         [255., 255., 255.],\n",
              "         [255., 255., 255.],\n",
              "         ...,\n",
              "         [255., 255., 255.],\n",
              "         [255., 255., 255.],\n",
              "         [255., 255., 255.]],\n",
              "\n",
              "        [[255., 255., 255.],\n",
              "         [255., 255., 255.],\n",
              "         [255., 255., 255.],\n",
              "         ...,\n",
              "         [255., 255., 255.],\n",
              "         [255., 255., 255.],\n",
              "         [255., 255., 255.]],\n",
              "\n",
              "        [[255., 255., 255.],\n",
              "         [255., 255., 255.],\n",
              "         [255., 255., 255.],\n",
              "         ...,\n",
              "         [255., 255., 255.],\n",
              "         [255., 255., 255.],\n",
              "         [255., 255., 255.]]],\n",
              "\n",
              "\n",
              "       [[[255., 255., 255.],\n",
              "         [255., 255., 255.],\n",
              "         [255., 255., 255.],\n",
              "         ...,\n",
              "         [255., 255., 255.],\n",
              "         [255., 255., 255.],\n",
              "         [255., 255., 255.]],\n",
              "\n",
              "        [[255., 255., 255.],\n",
              "         [255., 255., 255.],\n",
              "         [255., 255., 255.],\n",
              "         ...,\n",
              "         [255., 255., 255.],\n",
              "         [255., 255., 255.],\n",
              "         [255., 255., 255.]],\n",
              "\n",
              "        [[255., 255., 255.],\n",
              "         [255., 255., 255.],\n",
              "         [255., 255., 255.],\n",
              "         ...,\n",
              "         [255., 255., 255.],\n",
              "         [255., 255., 255.],\n",
              "         [255., 255., 255.]],\n",
              "\n",
              "        ...,\n",
              "\n",
              "        [[255., 255., 255.],\n",
              "         [255., 255., 255.],\n",
              "         [255., 255., 255.],\n",
              "         ...,\n",
              "         [255., 255., 255.],\n",
              "         [255., 255., 255.],\n",
              "         [255., 255., 255.]],\n",
              "\n",
              "        [[255., 255., 255.],\n",
              "         [255., 255., 255.],\n",
              "         [255., 255., 255.],\n",
              "         ...,\n",
              "         [255., 255., 255.],\n",
              "         [255., 255., 255.],\n",
              "         [255., 255., 255.]],\n",
              "\n",
              "        [[255., 255., 255.],\n",
              "         [255., 255., 255.],\n",
              "         [255., 255., 255.],\n",
              "         ...,\n",
              "         [255., 255., 255.],\n",
              "         [255., 255., 255.],\n",
              "         [255., 255., 255.]]]], dtype=float32)"
            ]
          },
          "metadata": {},
          "execution_count": 50
        }
      ]
    },
    {
      "cell_type": "markdown",
      "metadata": {
        "id": "_Hf5YHblKEX2"
      },
      "source": [
        "### Compute clustering accuracy\n",
        "\n",
        "First, we assign a label for each cluster based on the majority label of its images.\n",
        "Then, we compute the accuracy of each cluster by dividing the number of image with the\n",
        "majority label by the size of the cluster."
      ]
    },
    {
      "cell_type": "code",
      "execution_count": null,
      "metadata": {
        "colab": {
          "base_uri": "https://localhost:8080/"
        },
        "id": "x1oC6wgBKEX2",
        "outputId": "8d923af6-7ec2-4cb5-c60f-316347c18d67"
      },
      "outputs": [
        {
          "output_type": "stream",
          "name": "stdout",
          "text": [
            "cluster 0 label is: 9  -  accuracy: 100.0 %\n",
            "cluster 1 label is: 9  -  accuracy: 100.0 %\n",
            "cluster 2 label is: 9  -  accuracy: 100.0 %\n",
            "cluster 3 label is: 9  -  accuracy: 100.0 %\n",
            "cluster 4 label is: 9  -  accuracy: 100.0 %\n",
            "cluster 5 label is: 9  -  accuracy: 100.0 %\n"
          ]
        }
      ],
      "source": [
        "cluster_label_counts = dict()\n",
        "\n",
        "for c in range(num_clusters):\n",
        "    cluster_label_counts[c] = [0] * num_classes\n",
        "    instances = clusters[c]\n",
        "    for i, _ in instances:\n",
        "        cluster_label_counts[c][y_data[i][0]] += 1\n",
        "\n",
        "    cluster_label_idx = np.argmax(cluster_label_counts[c])\n",
        "    correct_count = np.max(cluster_label_counts[c])\n",
        "    cluster_size = len(clusters[c])\n",
        "    accuracy = (\n",
        "        np.round((correct_count / cluster_size) * 100, 2) if cluster_size > 0 else 0\n",
        "    )\n",
        "    cluster_label = classes[cluster_label_idx]\n",
        "    print(\"cluster\", c, \"label is:\", cluster_label, \" -  accuracy:\", accuracy, \"%\")"
      ]
    },
    {
      "cell_type": "markdown",
      "metadata": {
        "id": "yvUIYrjZKEX3"
      },
      "source": [
        "## Conclusion\n",
        "\n",
        "To improve the accuracy results, you can: 1) increase the number\n",
        "of epochs in the representation learning and the clustering phases; 2)\n",
        "allow the encoder weights to be tuned during the clustering phase; and 3) perform a final\n",
        "fine-tuning step through self-labeling, as described in the [original SCAN paper](https://arxiv.org/abs/2005.12320).\n",
        "Note that unsupervised image clustering techniques are not expected to outperform the accuracy\n",
        "of supervised image classification techniques, rather showing that they can learn the semantics\n",
        "of the images and group them into clusters that are similar to their original classes."
      ]
    },
    {
      "cell_type": "code",
      "source": [
        "from pydrive.auth import GoogleAuth\n",
        "from pydrive.drive import GoogleDrive\n",
        "\n",
        "gauth = GoogleAuth()           \n",
        "drive = GoogleDrive(gauth)  "
      ],
      "metadata": {
        "id": "uTCMKuHIkDAk"
      },
      "execution_count": null,
      "outputs": []
    },
    {
      "cell_type": "code",
      "source": [
        "pickle_out = open(\"clusters_scan-6.pickle\",\"wb\")\n",
        "pickle.dump(clusters, pickle_out)\n",
        "pickle_out.close()"
      ],
      "metadata": {
        "id": "t2U6ubEokD3T"
      },
      "execution_count": null,
      "outputs": []
    },
    {
      "cell_type": "code",
      "source": [
        "pickle_out"
      ],
      "metadata": {
        "colab": {
          "base_uri": "https://localhost:8080/"
        },
        "id": "L7rcJOkll9Yo",
        "outputId": "dd4276d5-67f4-44fc-e791-7da3f0ee82d3"
      },
      "execution_count": null,
      "outputs": [
        {
          "output_type": "execute_result",
          "data": {
            "text/plain": [
              "<_io.BufferedWriter name='clusters_scan-6.pickle'>"
            ]
          },
          "metadata": {},
          "execution_count": 57
        }
      ]
    },
    {
      "cell_type": "code",
      "source": [
        "import os\n",
        "os.listdir('.')"
      ],
      "metadata": {
        "colab": {
          "base_uri": "https://localhost:8080/"
        },
        "id": "VGCd0-O1marP",
        "outputId": "646d88f5-19c6-477e-bdbb-f1d7a6eaf377"
      },
      "execution_count": null,
      "outputs": [
        {
          "output_type": "execute_result",
          "data": {
            "text/plain": [
              "['.config',\n",
              " 'dict.pickle',\n",
              " 'data.pkl',\n",
              " 'gdrive',\n",
              " 'clusters_scan-6.pickle',\n",
              " 'clusters.pkl',\n",
              " 'x_data-20500.pkl',\n",
              " 'dict.pkl',\n",
              " 'sample_data']"
            ]
          },
          "metadata": {},
          "execution_count": 58
        }
      ]
    },
    {
      "cell_type": "code",
      "source": [],
      "metadata": {
        "id": "jZZlXABAm306"
      },
      "execution_count": null,
      "outputs": []
    }
  ],
  "metadata": {
    "accelerator": "GPU",
    "colab": {
      "provenance": []
    },
    "kernelspec": {
      "display_name": "Python 3",
      "language": "python",
      "name": "python3"
    },
    "language_info": {
      "codemirror_mode": {
        "name": "ipython",
        "version": 3
      },
      "file_extension": ".py",
      "mimetype": "text/x-python",
      "name": "python",
      "nbconvert_exporter": "python",
      "pygments_lexer": "ipython3",
      "version": "3.7.0"
    }
  },
  "nbformat": 4,
  "nbformat_minor": 0
}